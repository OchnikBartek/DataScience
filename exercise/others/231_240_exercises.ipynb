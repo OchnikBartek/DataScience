{
 "nbformat": 4,
 "nbformat_minor": 0,
 "metadata": {
  "colab": {
   "provenance": []
  },
  "kernelspec": {
   "name": "python3",
   "display_name": "Python 3 (ipykernel)",
   "language": "python"
  }
 },
 "cells": [
  {
   "cell_type": "markdown",
   "metadata": {
    "id": "zeLOLmTj1kBM"
   },
   "source": [
    "### <a name='0'></a>Import biblioteki"
   ]
  },
  {
   "cell_type": "code",
   "metadata": {
    "id": "HXMB7SMe1Wnz",
    "ExecuteTime": {
     "end_time": "2025-04-13T19:18:00.814089Z",
     "start_time": "2025-04-13T19:18:00.808713Z"
    }
   },
   "source": [
    "import numpy as np\n",
    "import pandas as pd\n",
    "\n",
    "np.__version__"
   ],
   "outputs": [
    {
     "data": {
      "text/plain": [
       "'2.0.2'"
      ]
     },
     "execution_count": 1,
     "metadata": {},
     "output_type": "execute_result"
    }
   ],
   "execution_count": 1
  },
  {
   "cell_type": "markdown",
   "metadata": {
    "id": "cyc70pMe1oCg"
   },
   "source": [
    "### <a name='1'></a> Ćwiczenie 231\n",
    "Zaimportuj bibliotekę _tensorflow_ w wersji 2.x."
   ]
  },
  {
   "cell_type": "code",
   "metadata": {
    "id": "5c01I6SE9iMz",
    "ExecuteTime": {
     "end_time": "2025-04-13T19:30:20.200520Z",
     "start_time": "2025-04-13T19:30:20.196007Z"
    }
   },
   "source": [
    "import tensorflow as tf\n",
    "print(tf.__version__)\n"
   ],
   "outputs": [
    {
     "name": "stdout",
     "output_type": "stream",
     "text": [
      "2.19.0\n"
     ]
    }
   ],
   "execution_count": 16
  },
  {
   "cell_type": "markdown",
   "metadata": {
    "id": "udKQYS8p947j"
   },
   "source": [
    "Załaduj dane Fashion MNIST wykorzystując bibliotekę _tensorflow_. Odpowiednio zbiór treningowy (_X\\_train_, _y\\_train_) oraz testowy (_X\\_test_, _y\\_test_)."
   ]
  },
  {
   "cell_type": "code",
   "metadata": {
    "id": "7ofBzT9D7OtR",
    "ExecuteTime": {
     "end_time": "2025-04-13T19:27:00.109991Z",
     "start_time": "2025-04-13T19:26:51.268750Z"
    }
   },
   "source": "(X_train, y_train), (X_test, y_test) = tf.keras.datasets.fashion_mnist.load_data()",
   "outputs": [
    {
     "name": "stdout",
     "output_type": "stream",
     "text": [
      "Downloading data from https://storage.googleapis.com/tensorflow/tf-keras-datasets/train-labels-idx1-ubyte.gz\n",
      "\u001B[1m29515/29515\u001B[0m \u001B[32m━━━━━━━━━━━━━━━━━━━━\u001B[0m\u001B[37m\u001B[0m \u001B[1m0s\u001B[0m 1us/step\n",
      "Downloading data from https://storage.googleapis.com/tensorflow/tf-keras-datasets/train-images-idx3-ubyte.gz\n",
      "\u001B[1m26421880/26421880\u001B[0m \u001B[32m━━━━━━━━━━━━━━━━━━━━\u001B[0m\u001B[37m\u001B[0m \u001B[1m5s\u001B[0m 0us/step\n",
      "Downloading data from https://storage.googleapis.com/tensorflow/tf-keras-datasets/t10k-labels-idx1-ubyte.gz\n",
      "\u001B[1m5148/5148\u001B[0m \u001B[32m━━━━━━━━━━━━━━━━━━━━\u001B[0m\u001B[37m\u001B[0m \u001B[1m0s\u001B[0m 0us/step\n",
      "Downloading data from https://storage.googleapis.com/tensorflow/tf-keras-datasets/t10k-images-idx3-ubyte.gz\n",
      "\u001B[1m4422102/4422102\u001B[0m \u001B[32m━━━━━━━━━━━━━━━━━━━━\u001B[0m\u001B[37m\u001B[0m \u001B[1m2s\u001B[0m 0us/step\n"
     ]
    }
   ],
   "execution_count": 11
  },
  {
   "cell_type": "markdown",
   "metadata": {
    "id": "_5k4LJvz-V41"
   },
   "source": [
    "Sprawdź rozmiar zbiorów treningowych i testowych."
   ]
  },
  {
   "cell_type": "code",
   "metadata": {
    "id": "ZVeMJ_aZ-CeF",
    "ExecuteTime": {
     "end_time": "2025-04-13T19:27:04.150374Z",
     "start_time": "2025-04-13T19:27:04.146906Z"
    }
   },
   "source": [
    "print(X_train.shape)\n",
    "print(y_train.shape)\n",
    "print(X_test.shape)\n",
    "print(y_test.shape)\n"
   ],
   "outputs": [
    {
     "name": "stdout",
     "output_type": "stream",
     "text": [
      "(60000, 28, 28)\n",
      "(60000,)\n",
      "(10000, 28, 28)\n",
      "(10000,)\n"
     ]
    }
   ],
   "execution_count": 12
  },
  {
   "cell_type": "markdown",
   "metadata": {
    "id": "J9pY1rtr1sC0"
   },
   "source": [
    "### <a name='2'></a> Ćwiczenie 232\n",
    "Wykorzytując bibliotekę _matplotlib_ wyświetl obraz ze zbioru treningowego z indeksem 40."
   ]
  },
  {
   "cell_type": "code",
   "metadata": {
    "id": "BaHDWvBb-jJO",
    "ExecuteTime": {
     "end_time": "2025-04-13T19:27:06.778430Z",
     "start_time": "2025-04-13T19:27:06.664384Z"
    }
   },
   "source": [
    "import matplotlib.pyplot as plt\n",
    "\n",
    "plt.imshow(X_train[40], cmap='gray')"
   ],
   "outputs": [
    {
     "data": {
      "text/plain": [
       "<matplotlib.image.AxesImage at 0x169dc73a0>"
      ]
     },
     "execution_count": 13,
     "metadata": {},
     "output_type": "execute_result"
    },
    {
     "data": {
      "text/plain": [
       "<Figure size 640x480 with 1 Axes>"
      ],
      "image/png": "[encoded data removed]"
     },
     "metadata": {},
     "output_type": "display_data"
    }
   ],
   "execution_count": 13
  },
  {
   "cell_type": "markdown",
   "metadata": {
    "id": "TkKoRL2s-1v9"
   },
   "source": [
    "Wyświetl numer klasy dla próbki ze zbioru treningowego z ineksem 40."
   ]
  },
  {
   "cell_type": "code",
   "metadata": {
    "id": "EbKo520c-9jy",
    "ExecuteTime": {
     "end_time": "2025-04-13T19:27:37.231806Z",
     "start_time": "2025-04-13T19:27:37.227485Z"
    }
   },
   "source": "print(y_train[40])",
   "outputs": [
    {
     "data": {
      "text/plain": [
       "np.uint8(6)"
      ]
     },
     "execution_count": 14,
     "metadata": {},
     "output_type": "execute_result"
    }
   ],
   "execution_count": 14
  },
  {
   "cell_type": "markdown",
   "metadata": {
    "id": "XQLYT2m11wVG"
   },
   "source": [
    "### <a name='3'></a> Ćwiczenie 233\n",
    "Wystandaryzuj dane. Podziel wartości tablic _X\\_train_ oraz _X\\_test_ przez wartość 255.0."
   ]
  },
  {
   "cell_type": "code",
   "metadata": {
    "id": "xnWZFky_DKbU",
    "ExecuteTime": {
     "end_time": "2025-04-13T19:28:16.609579Z",
     "start_time": "2025-04-13T19:28:16.509755Z"
    }
   },
   "source": [
    "X_train = X_train / 255.0\n",
    "X_test = X_test / 255.0"
   ],
   "outputs": [],
   "execution_count": 15
  },
  {
   "cell_type": "markdown",
   "metadata": {
    "id": "4xTKSUzg10MK"
   },
   "source": [
    "### <a name='4'></a> Ćwiczenie 234\n",
    "Zaimportuj klasę _Sequential_ z biblioteki _tensorflow_ wykorzystując pakiet _keras_."
   ]
  },
  {
   "cell_type": "code",
   "metadata": {
    "id": "kUOmpZA3DPS9",
    "ExecuteTime": {
     "end_time": "2025-04-13T19:32:46.084104Z",
     "start_time": "2025-04-13T19:32:46.077345Z"
    }
   },
   "source": [
    "from tensorflow.keras.models import Sequential\n",
    "\n"
   ],
   "outputs": [],
   "execution_count": 17
  },
  {
   "cell_type": "markdown",
   "metadata": {
    "id": "iG9Y3gcOFK8u"
   },
   "source": [
    "Zaimportuj warstwy _Flatten_ oraz _Dense_ z biblioteki _tensorflow_ wykorzystując pakiet _keras_."
   ]
  },
  {
   "cell_type": "code",
   "metadata": {
    "id": "NatRczkHFMdl",
    "ExecuteTime": {
     "end_time": "2025-04-13T19:33:30.446570Z",
     "start_time": "2025-04-13T19:33:30.440875Z"
    }
   },
   "source": "from tensorflow.keras.layers import Dense, Flatten",
   "outputs": [],
   "execution_count": 18
  },
  {
   "cell_type": "markdown",
   "metadata": {
    "id": "o3HKIKlP15Ro"
   },
   "source": [
    "### <a name='5'></a> Ćwiczenie 235\n",
    "Zbuduj model klasy _Sequential_."
   ]
  },
  {
   "cell_type": "code",
   "metadata": {
    "id": "Nxl6oimGDf53",
    "ExecuteTime": {
     "end_time": "2025-04-13T19:33:48.200681Z",
     "start_time": "2025-04-13T19:33:48.190280Z"
    }
   },
   "source": "model = Sequential()",
   "outputs": [],
   "execution_count": 19
  },
  {
   "cell_type": "markdown",
   "metadata": {
    "id": "eBtEdpmWFZ5U"
   },
   "source": [
    "Dodaj pierwszą warstwę typu _Flatten_ wraz z odpowiednio dobranym parametrem _input_shape_."
   ]
  },
  {
   "cell_type": "code",
   "metadata": {
    "id": "cFWTioPFFYXp",
    "ExecuteTime": {
     "end_time": "2025-04-13T19:34:29.994865Z",
     "start_time": "2025-04-13T19:34:29.955268Z"
    }
   },
   "source": "model.add(Flatten(input_shape=(28,28)))",
   "outputs": [
    {
     "name": "stderr",
     "output_type": "stream",
     "text": [
      "/Users/bartekochnik/Desktop/Studia/Semestr 3/Języki skryptowe/KOLOKWIUM/Ochnik_2/4/.venv/lib/python3.9/site-packages/keras/src/layers/reshaping/flatten.py:37: UserWarning: Do not pass an `input_shape`/`input_dim` argument to a layer. When using Sequential models, prefer using an `Input(shape)` object as the first layer in the model instead.\n",
      "  super().__init__(**kwargs)\n"
     ]
    }
   ],
   "execution_count": 20
  },
  {
   "cell_type": "markdown",
   "metadata": {
    "id": "PuwbCbWlFh8v"
   },
   "source": "mDodaj kolejną warstwę typu _Dense_ z 128 neuronami i funkcją aktywacji _relu_."
  },
  {
   "cell_type": "code",
   "metadata": {
    "id": "VliQveubFr9z",
    "ExecuteTime": {
     "end_time": "2025-04-13T19:53:19.568012Z",
     "start_time": "2025-04-13T19:53:19.506406Z"
    }
   },
   "source": "model.add(Dense(units=128,activation = 'relu'))",
   "outputs": [],
   "execution_count": 21
  },
  {
   "cell_type": "markdown",
   "metadata": {
    "id": "iU5HfJfMFt7L"
   },
   "source": [
    "Dodaj ostatnią warstwę typu _Dense_ z 10 neuronami i funkcją aktywacji _softmax_."
   ]
  },
  {
   "cell_type": "code",
   "metadata": {
    "id": "cf6qF7uIFyrg",
    "ExecuteTime": {
     "end_time": "2025-04-13T19:53:20.794096Z",
     "start_time": "2025-04-13T19:53:20.781726Z"
    }
   },
   "source": "model.add(Dense(units=10,activation = 'softmax'))",
   "outputs": [],
   "execution_count": 22
  },
  {
   "cell_type": "markdown",
   "metadata": {
    "id": "slg5RaMuF0hu"
   },
   "source": [
    "Wyświetl podsumowanie modelu."
   ]
  },
  {
   "cell_type": "code",
   "metadata": {
    "id": "opGjZoakFz-P",
    "ExecuteTime": {
     "end_time": "2025-04-13T19:53:38.061207Z",
     "start_time": "2025-04-13T19:53:38.045802Z"
    }
   },
   "source": "model.summary()",
   "outputs": [
    {
     "data": {
      "text/plain": [
       "\u001B[1mModel: \"sequential\"\u001B[0m\n"
      ],
      "text/html": [
       "<pre style=\"white-space:pre;overflow-x:auto;line-height:normal;font-family:Menlo,'DejaVu Sans Mono',consolas,'Courier New',monospace\"><span style=\"font-weight: bold\">Model: \"sequential\"</span>\n",
       "</pre>\n"
      ]
     },
     "metadata": {},
     "output_type": "display_data"
    },
    {
     "data": {
      "text/plain": [
       "┏━━━━━━━━━━━━━━━━━━━━━━━━━━━━━━━━━┳━━━━━━━━━━━━━━━━━━━━━━━━┳━━━━━━━━━━━━━━━┓\n",
       "┃\u001B[1m \u001B[0m\u001B[1mLayer (type)                   \u001B[0m\u001B[1m \u001B[0m┃\u001B[1m \u001B[0m\u001B[1mOutput Shape          \u001B[0m\u001B[1m \u001B[0m┃\u001B[1m \u001B[0m\u001B[1m      Param #\u001B[0m\u001B[1m \u001B[0m┃\n",
       "┡━━━━━━━━━━━━━━━━━━━━━━━━━━━━━━━━━╇━━━━━━━━━━━━━━━━━━━━━━━━╇━━━━━━━━━━━━━━━┩\n",
       "│ flatten (\u001B[38;5;33mFlatten\u001B[0m)               │ (\u001B[38;5;45mNone\u001B[0m, \u001B[38;5;34m784\u001B[0m)            │             \u001B[38;5;34m0\u001B[0m │\n",
       "├─────────────────────────────────┼────────────────────────┼───────────────┤\n",
       "│ dense (\u001B[38;5;33mDense\u001B[0m)                   │ (\u001B[38;5;45mNone\u001B[0m, \u001B[38;5;34m128\u001B[0m)            │       \u001B[38;5;34m100,480\u001B[0m │\n",
       "├─────────────────────────────────┼────────────────────────┼───────────────┤\n",
       "│ dense_1 (\u001B[38;5;33mDense\u001B[0m)                 │ (\u001B[38;5;45mNone\u001B[0m, \u001B[38;5;34m10\u001B[0m)             │         \u001B[38;5;34m1,290\u001B[0m │\n",
       "└─────────────────────────────────┴────────────────────────┴───────────────┘\n"
      ],
      "text/html": [
       "<pre style=\"white-space:pre;overflow-x:auto;line-height:normal;font-family:Menlo,'DejaVu Sans Mono',consolas,'Courier New',monospace\">┏━━━━━━━━━━━━━━━━━━━━━━━━━━━━━━━━━┳━━━━━━━━━━━━━━━━━━━━━━━━┳━━━━━━━━━━━━━━━┓\n",
       "┃<span style=\"font-weight: bold\"> Layer (type)                    </span>┃<span style=\"font-weight: bold\"> Output Shape           </span>┃<span style=\"font-weight: bold\">       Param # </span>┃\n",
       "┡━━━━━━━━━━━━━━━━━━━━━━━━━━━━━━━━━╇━━━━━━━━━━━━━━━━━━━━━━━━╇━━━━━━━━━━━━━━━┩\n",
       "│ flatten (<span style=\"color: #0087ff; text-decoration-color: #0087ff\">Flatten</span>)               │ (<span style=\"color: #00d7ff; text-decoration-color: #00d7ff\">None</span>, <span style=\"color: #00af00; text-decoration-color: #00af00\">784</span>)            │             <span style=\"color: #00af00; text-decoration-color: #00af00\">0</span> │\n",
       "├─────────────────────────────────┼────────────────────────┼───────────────┤\n",
       "│ dense (<span style=\"color: #0087ff; text-decoration-color: #0087ff\">Dense</span>)                   │ (<span style=\"color: #00d7ff; text-decoration-color: #00d7ff\">None</span>, <span style=\"color: #00af00; text-decoration-color: #00af00\">128</span>)            │       <span style=\"color: #00af00; text-decoration-color: #00af00\">100,480</span> │\n",
       "├─────────────────────────────────┼────────────────────────┼───────────────┤\n",
       "│ dense_1 (<span style=\"color: #0087ff; text-decoration-color: #0087ff\">Dense</span>)                 │ (<span style=\"color: #00d7ff; text-decoration-color: #00d7ff\">None</span>, <span style=\"color: #00af00; text-decoration-color: #00af00\">10</span>)             │         <span style=\"color: #00af00; text-decoration-color: #00af00\">1,290</span> │\n",
       "└─────────────────────────────────┴────────────────────────┴───────────────┘\n",
       "</pre>\n"
      ]
     },
     "metadata": {},
     "output_type": "display_data"
    },
    {
     "data": {
      "text/plain": [
       "\u001B[1m Total params: \u001B[0m\u001B[38;5;34m101,770\u001B[0m (397.54 KB)\n"
      ],
      "text/html": [
       "<pre style=\"white-space:pre;overflow-x:auto;line-height:normal;font-family:Menlo,'DejaVu Sans Mono',consolas,'Courier New',monospace\"><span style=\"font-weight: bold\"> Total params: </span><span style=\"color: #00af00; text-decoration-color: #00af00\">101,770</span> (397.54 KB)\n",
       "</pre>\n"
      ]
     },
     "metadata": {},
     "output_type": "display_data"
    },
    {
     "data": {
      "text/plain": [
       "\u001B[1m Trainable params: \u001B[0m\u001B[38;5;34m101,770\u001B[0m (397.54 KB)\n"
      ],
      "text/html": [
       "<pre style=\"white-space:pre;overflow-x:auto;line-height:normal;font-family:Menlo,'DejaVu Sans Mono',consolas,'Courier New',monospace\"><span style=\"font-weight: bold\"> Trainable params: </span><span style=\"color: #00af00; text-decoration-color: #00af00\">101,770</span> (397.54 KB)\n",
       "</pre>\n"
      ]
     },
     "metadata": {},
     "output_type": "display_data"
    },
    {
     "data": {
      "text/plain": [
       "\u001B[1m Non-trainable params: \u001B[0m\u001B[38;5;34m0\u001B[0m (0.00 B)\n"
      ],
      "text/html": [
       "<pre style=\"white-space:pre;overflow-x:auto;line-height:normal;font-family:Menlo,'DejaVu Sans Mono',consolas,'Courier New',monospace\"><span style=\"font-weight: bold\"> Non-trainable params: </span><span style=\"color: #00af00; text-decoration-color: #00af00\">0</span> (0.00 B)\n",
       "</pre>\n"
      ]
     },
     "metadata": {},
     "output_type": "display_data"
    }
   ],
   "execution_count": 23
  },
  {
   "cell_type": "markdown",
   "metadata": {
    "id": "PunXd_Ey16so"
   },
   "source": [
    "### <a name='6'></a> Ćwiczenie 236\n",
    "Skompiluj model. Wykorzystaj optymalizator _rmsprop_, funkcję straty _sparse_categorical_crossentropy_ oraz metrykę _accuracy_."
   ]
  },
  {
   "cell_type": "code",
   "metadata": {
    "id": "jZ8kQ_kBDuoT",
    "ExecuteTime": {
     "end_time": "2025-04-13T19:55:38.754314Z",
     "start_time": "2025-04-13T19:55:38.746377Z"
    }
   },
   "source": "model.compile(loss='sparse_categorical_crossentropy', optimizer='rmsprop', metrics=['accuracy'])",
   "outputs": [],
   "execution_count": 26
  },
  {
   "cell_type": "markdown",
   "metadata": {
    "id": "hOhqDRz618Tx"
   },
   "source": [
    "### <a name='7'></a> Ćwiczenie 237\n",
    "Dopasuj model do danych treningowych, ustawiając 10 epok oraz podział na zbiór walidacyjny wynoszący 0.2."
   ]
  },
  {
   "cell_type": "code",
   "metadata": {
    "id": "dfzLV2jKD30J",
    "ExecuteTime": {
     "end_time": "2025-04-13T19:56:02.949987Z",
     "start_time": "2025-04-13T19:55:40.574374Z"
    }
   },
   "source": "history = model.fit(X_train, y_train, epochs=10, validation_split=(0.2))",
   "outputs": [
    {
     "name": "stdout",
     "output_type": "stream",
     "text": [
      "Epoch 1/10\n",
      "\u001B[1m1500/1500\u001B[0m \u001B[32m━━━━━━━━━━━━━━━━━━━━\u001B[0m\u001B[37m\u001B[0m \u001B[1m2s\u001B[0m 1ms/step - accuracy: 0.7639 - loss: 0.6708 - val_accuracy: 0.8418 - val_loss: 0.4499\n",
      "Epoch 2/10\n",
      "\u001B[1m1500/1500\u001B[0m \u001B[32m━━━━━━━━━━━━━━━━━━━━\u001B[0m\u001B[37m\u001B[0m \u001B[1m2s\u001B[0m 1ms/step - accuracy: 0.8567 - loss: 0.3935 - val_accuracy: 0.8618 - val_loss: 0.3986\n",
      "Epoch 3/10\n",
      "\u001B[1m1500/1500\u001B[0m \u001B[32m━━━━━━━━━━━━━━━━━━━━\u001B[0m\u001B[37m\u001B[0m \u001B[1m2s\u001B[0m 1ms/step - accuracy: 0.8717 - loss: 0.3524 - val_accuracy: 0.8742 - val_loss: 0.3593\n",
      "Epoch 4/10\n",
      "\u001B[1m1500/1500\u001B[0m \u001B[32m━━━━━━━━━━━━━━━━━━━━\u001B[0m\u001B[37m\u001B[0m \u001B[1m2s\u001B[0m 1ms/step - accuracy: 0.8814 - loss: 0.3316 - val_accuracy: 0.8798 - val_loss: 0.3394\n",
      "Epoch 5/10\n",
      "\u001B[1m1500/1500\u001B[0m \u001B[32m━━━━━━━━━━━━━━━━━━━━\u001B[0m\u001B[37m\u001B[0m \u001B[1m2s\u001B[0m 2ms/step - accuracy: 0.8897 - loss: 0.3076 - val_accuracy: 0.8808 - val_loss: 0.3442\n",
      "Epoch 6/10\n",
      "\u001B[1m1500/1500\u001B[0m \u001B[32m━━━━━━━━━━━━━━━━━━━━\u001B[0m\u001B[37m\u001B[0m \u001B[1m3s\u001B[0m 2ms/step - accuracy: 0.8922 - loss: 0.2941 - val_accuracy: 0.8805 - val_loss: 0.3456\n",
      "Epoch 7/10\n",
      "\u001B[1m1500/1500\u001B[0m \u001B[32m━━━━━━━━━━━━━━━━━━━━\u001B[0m\u001B[37m\u001B[0m \u001B[1m2s\u001B[0m 2ms/step - accuracy: 0.8953 - loss: 0.2941 - val_accuracy: 0.8856 - val_loss: 0.3629\n",
      "Epoch 8/10\n",
      "\u001B[1m1500/1500\u001B[0m \u001B[32m━━━━━━━━━━━━━━━━━━━━\u001B[0m\u001B[37m\u001B[0m \u001B[1m2s\u001B[0m 2ms/step - accuracy: 0.9012 - loss: 0.2847 - val_accuracy: 0.8876 - val_loss: 0.3595\n",
      "Epoch 9/10\n",
      "\u001B[1m1500/1500\u001B[0m \u001B[32m━━━━━━━━━━━━━━━━━━━━\u001B[0m\u001B[37m\u001B[0m \u001B[1m3s\u001B[0m 2ms/step - accuracy: 0.9031 - loss: 0.2733 - val_accuracy: 0.8811 - val_loss: 0.3540\n",
      "Epoch 10/10\n",
      "\u001B[1m1500/1500\u001B[0m \u001B[32m━━━━━━━━━━━━━━━━━━━━\u001B[0m\u001B[37m\u001B[0m \u001B[1m2s\u001B[0m 1ms/step - accuracy: 0.9006 - loss: 0.2721 - val_accuracy: 0.8837 - val_loss: 0.3810\n"
     ]
    }
   ],
   "execution_count": 27
  },
  {
   "cell_type": "markdown",
   "metadata": {
    "id": "TXUd_4631-gw"
   },
   "source": [
    "### <a name='8'></a> Ćwiczenie 238\n",
    "Dokonaj predykcji modelu na podstawie danych testowych."
   ]
  },
  {
   "cell_type": "code",
   "metadata": {
    "id": "DTt5x9nWEHdk",
    "ExecuteTime": {
     "end_time": "2025-04-13T19:59:40.655227Z",
     "start_time": "2025-04-13T19:59:40.408888Z"
    }
   },
   "source": [
    "y_probs = model.predict(X_test)\n",
    "y_pred = np.argmax(y_probs, axis=1)"
   ],
   "outputs": [
    {
     "name": "stdout",
     "output_type": "stream",
     "text": [
      "\u001B[1m313/313\u001B[0m \u001B[32m━━━━━━━━━━━━━━━━━━━━\u001B[0m\u001B[37m\u001B[0m \u001B[1m0s\u001B[0m 486us/step\n"
     ]
    }
   ],
   "execution_count": 34
  },
  {
   "cell_type": "markdown",
   "metadata": {
    "id": "PBx5KlxNGeKi"
   },
   "source": [
    "Zbuduj macierz konfuzji (macierz pomyłek)."
   ]
  },
  {
   "cell_type": "code",
   "metadata": {
    "id": "OMTUnA7pEUbY",
    "ExecuteTime": {
     "end_time": "2025-04-13T19:59:56.976831Z",
     "start_time": "2025-04-13T19:59:56.971347Z"
    }
   },
   "source": [
    "from sklearn.metrics import confusion_matrix\n",
    "cm = confusion_matrix(y_test, y_pred)\n",
    "print(cm)"
   ],
   "outputs": [
    {
     "name": "stdout",
     "output_type": "stream",
     "text": [
      "[[777   0   6  38   4   0 166   0   9   0]\n",
      " [  4 971   0  21   1   0   2   0   1   0]\n",
      " [ 17   1 716  12 116   0 133   0   5   0]\n",
      " [ 10   9  10 898  35   0  35   0   3   0]\n",
      " [  0   1  76  32 770   0 118   0   3   0]\n",
      " [  0   0   0   1   0 965   0  22   1  11]\n",
      " [100   2  54  25  45   0 761   0  13   0]\n",
      " [  0   0   0   0   0  17   0 969   0  14]\n",
      " [  3   0   1   7   3   2   8   4 972   0]\n",
      " [  0   0   0   0   0   6   1  53   0 940]]\n"
     ]
    }
   ],
   "execution_count": 37
  },
  {
   "cell_type": "markdown",
   "metadata": {
    "id": "tgI6xEn-2AQo"
   },
   "source": [
    "### <a name='9'></a> Ćwiczenie 239\n",
    "Zbuduj obiekt pandas _DataFrame_ zawierający predykcje modelu. Nadaj nazwę kolumny _prediction_ i przypisz do zmiennej _results_."
   ]
  },
  {
   "cell_type": "code",
   "metadata": {
    "id": "rgVtSSeLPj3Y",
    "ExecuteTime": {
     "end_time": "2025-04-13T20:01:39.558448Z",
     "start_time": "2025-04-13T20:01:39.549194Z"
    }
   },
   "source": [
    "results = pd.DataFrame(y_pred, columns=['Prediction'])\n",
    "results"
   ],
   "outputs": [
    {
     "data": {
      "text/plain": [
       "      Prediction\n",
       "0              9\n",
       "1              2\n",
       "2              1\n",
       "3              1\n",
       "4              6\n",
       "...          ...\n",
       "9995           9\n",
       "9996           1\n",
       "9997           8\n",
       "9998           1\n",
       "9999           5\n",
       "\n",
       "[10000 rows x 1 columns]"
      ],
      "text/html": [
       "<div>\n",
       "<style scoped>\n",
       "    .dataframe tbody tr th:only-of-type {\n",
       "        vertical-align: middle;\n",
       "    }\n",
       "\n",
       "    .dataframe tbody tr th {\n",
       "        vertical-align: top;\n",
       "    }\n",
       "\n",
       "    .dataframe thead th {\n",
       "        text-align: right;\n",
       "    }\n",
       "</style>\n",
       "<table border=\"1\" class=\"dataframe\">\n",
       "  <thead>\n",
       "    <tr style=\"text-align: right;\">\n",
       "      <th></th>\n",
       "      <th>Prediction</th>\n",
       "    </tr>\n",
       "  </thead>\n",
       "  <tbody>\n",
       "    <tr>\n",
       "      <th>0</th>\n",
       "      <td>9</td>\n",
       "    </tr>\n",
       "    <tr>\n",
       "      <th>1</th>\n",
       "      <td>2</td>\n",
       "    </tr>\n",
       "    <tr>\n",
       "      <th>2</th>\n",
       "      <td>1</td>\n",
       "    </tr>\n",
       "    <tr>\n",
       "      <th>3</th>\n",
       "      <td>1</td>\n",
       "    </tr>\n",
       "    <tr>\n",
       "      <th>4</th>\n",
       "      <td>6</td>\n",
       "    </tr>\n",
       "    <tr>\n",
       "      <th>...</th>\n",
       "      <td>...</td>\n",
       "    </tr>\n",
       "    <tr>\n",
       "      <th>9995</th>\n",
       "      <td>9</td>\n",
       "    </tr>\n",
       "    <tr>\n",
       "      <th>9996</th>\n",
       "      <td>1</td>\n",
       "    </tr>\n",
       "    <tr>\n",
       "      <th>9997</th>\n",
       "      <td>8</td>\n",
       "    </tr>\n",
       "    <tr>\n",
       "      <th>9998</th>\n",
       "      <td>1</td>\n",
       "    </tr>\n",
       "    <tr>\n",
       "      <th>9999</th>\n",
       "      <td>5</td>\n",
       "    </tr>\n",
       "  </tbody>\n",
       "</table>\n",
       "<p>10000 rows × 1 columns</p>\n",
       "</div>"
      ]
     },
     "execution_count": 39,
     "metadata": {},
     "output_type": "execute_result"
    }
   ],
   "execution_count": 39
  },
  {
   "cell_type": "markdown",
   "metadata": {
    "id": "K_Pox4jIRCvs"
   },
   "source": [
    "Przypisz nową kolumnę z wartościami ze zmiennej _y\\_test_ i nazwij ją _y\\_test_."
   ]
  },
  {
   "cell_type": "code",
   "metadata": {
    "id": "7__xhD69Q9uK",
    "ExecuteTime": {
     "end_time": "2025-04-13T20:02:14.769324Z",
     "start_time": "2025-04-13T20:02:14.760383Z"
    }
   },
   "source": [
    "results['y_test'] = y_pred\n",
    "results"
   ],
   "outputs": [
    {
     "data": {
      "text/plain": [
       "      Prediction  y_test\n",
       "0              9       9\n",
       "1              2       2\n",
       "2              1       1\n",
       "3              1       1\n",
       "4              6       6\n",
       "...          ...     ...\n",
       "9995           9       9\n",
       "9996           1       1\n",
       "9997           8       8\n",
       "9998           1       1\n",
       "9999           5       5\n",
       "\n",
       "[10000 rows x 2 columns]"
      ],
      "text/html": [
       "<div>\n",
       "<style scoped>\n",
       "    .dataframe tbody tr th:only-of-type {\n",
       "        vertical-align: middle;\n",
       "    }\n",
       "\n",
       "    .dataframe tbody tr th {\n",
       "        vertical-align: top;\n",
       "    }\n",
       "\n",
       "    .dataframe thead th {\n",
       "        text-align: right;\n",
       "    }\n",
       "</style>\n",
       "<table border=\"1\" class=\"dataframe\">\n",
       "  <thead>\n",
       "    <tr style=\"text-align: right;\">\n",
       "      <th></th>\n",
       "      <th>Prediction</th>\n",
       "      <th>y_test</th>\n",
       "    </tr>\n",
       "  </thead>\n",
       "  <tbody>\n",
       "    <tr>\n",
       "      <th>0</th>\n",
       "      <td>9</td>\n",
       "      <td>9</td>\n",
       "    </tr>\n",
       "    <tr>\n",
       "      <th>1</th>\n",
       "      <td>2</td>\n",
       "      <td>2</td>\n",
       "    </tr>\n",
       "    <tr>\n",
       "      <th>2</th>\n",
       "      <td>1</td>\n",
       "      <td>1</td>\n",
       "    </tr>\n",
       "    <tr>\n",
       "      <th>3</th>\n",
       "      <td>1</td>\n",
       "      <td>1</td>\n",
       "    </tr>\n",
       "    <tr>\n",
       "      <th>4</th>\n",
       "      <td>6</td>\n",
       "      <td>6</td>\n",
       "    </tr>\n",
       "    <tr>\n",
       "      <th>...</th>\n",
       "      <td>...</td>\n",
       "      <td>...</td>\n",
       "    </tr>\n",
       "    <tr>\n",
       "      <th>9995</th>\n",
       "      <td>9</td>\n",
       "      <td>9</td>\n",
       "    </tr>\n",
       "    <tr>\n",
       "      <th>9996</th>\n",
       "      <td>1</td>\n",
       "      <td>1</td>\n",
       "    </tr>\n",
       "    <tr>\n",
       "      <th>9997</th>\n",
       "      <td>8</td>\n",
       "      <td>8</td>\n",
       "    </tr>\n",
       "    <tr>\n",
       "      <th>9998</th>\n",
       "      <td>1</td>\n",
       "      <td>1</td>\n",
       "    </tr>\n",
       "    <tr>\n",
       "      <th>9999</th>\n",
       "      <td>5</td>\n",
       "      <td>5</td>\n",
       "    </tr>\n",
       "  </tbody>\n",
       "</table>\n",
       "<p>10000 rows × 2 columns</p>\n",
       "</div>"
      ]
     },
     "execution_count": 42,
     "metadata": {},
     "output_type": "execute_result"
    }
   ],
   "execution_count": 42
  },
  {
   "cell_type": "markdown",
   "metadata": {
    "id": "fwZMFYpxRwfz"
   },
   "source": [
    "Przypisz nową kolumnę o nazwie _is_misclassified_, która zwróci 1, gdy próbki zostaną błędnie sklasyfikowane, w przeciwnym przypadku 0."
   ]
  },
  {
   "cell_type": "code",
   "metadata": {
    "id": "dTDauRDuRPAf",
    "ExecuteTime": {
     "end_time": "2025-04-13T20:06:05.173631Z",
     "start_time": "2025-04-13T20:06:05.165227Z"
    }
   },
   "source": [
    "results['is_missclassified'] = ((results.Prediction != results.y_test).astype('int'))\n",
    "results"
   ],
   "outputs": [
    {
     "data": {
      "text/plain": [
       "      Prediction  y_test  is_missclassified\n",
       "0              9       9                  0\n",
       "1              2       2                  0\n",
       "2              1       1                  0\n",
       "3              1       1                  0\n",
       "4              6       6                  0\n",
       "...          ...     ...                ...\n",
       "9995           9       9                  0\n",
       "9996           1       1                  0\n",
       "9997           8       8                  0\n",
       "9998           1       1                  0\n",
       "9999           5       5                  0\n",
       "\n",
       "[10000 rows x 3 columns]"
      ],
      "text/html": [
       "<div>\n",
       "<style scoped>\n",
       "    .dataframe tbody tr th:only-of-type {\n",
       "        vertical-align: middle;\n",
       "    }\n",
       "\n",
       "    .dataframe tbody tr th {\n",
       "        vertical-align: top;\n",
       "    }\n",
       "\n",
       "    .dataframe thead th {\n",
       "        text-align: right;\n",
       "    }\n",
       "</style>\n",
       "<table border=\"1\" class=\"dataframe\">\n",
       "  <thead>\n",
       "    <tr style=\"text-align: right;\">\n",
       "      <th></th>\n",
       "      <th>Prediction</th>\n",
       "      <th>y_test</th>\n",
       "      <th>is_missclassified</th>\n",
       "    </tr>\n",
       "  </thead>\n",
       "  <tbody>\n",
       "    <tr>\n",
       "      <th>0</th>\n",
       "      <td>9</td>\n",
       "      <td>9</td>\n",
       "      <td>0</td>\n",
       "    </tr>\n",
       "    <tr>\n",
       "      <th>1</th>\n",
       "      <td>2</td>\n",
       "      <td>2</td>\n",
       "      <td>0</td>\n",
       "    </tr>\n",
       "    <tr>\n",
       "      <th>2</th>\n",
       "      <td>1</td>\n",
       "      <td>1</td>\n",
       "      <td>0</td>\n",
       "    </tr>\n",
       "    <tr>\n",
       "      <th>3</th>\n",
       "      <td>1</td>\n",
       "      <td>1</td>\n",
       "      <td>0</td>\n",
       "    </tr>\n",
       "    <tr>\n",
       "      <th>4</th>\n",
       "      <td>6</td>\n",
       "      <td>6</td>\n",
       "      <td>0</td>\n",
       "    </tr>\n",
       "    <tr>\n",
       "      <th>...</th>\n",
       "      <td>...</td>\n",
       "      <td>...</td>\n",
       "      <td>...</td>\n",
       "    </tr>\n",
       "    <tr>\n",
       "      <th>9995</th>\n",
       "      <td>9</td>\n",
       "      <td>9</td>\n",
       "      <td>0</td>\n",
       "    </tr>\n",
       "    <tr>\n",
       "      <th>9996</th>\n",
       "      <td>1</td>\n",
       "      <td>1</td>\n",
       "      <td>0</td>\n",
       "    </tr>\n",
       "    <tr>\n",
       "      <th>9997</th>\n",
       "      <td>8</td>\n",
       "      <td>8</td>\n",
       "      <td>0</td>\n",
       "    </tr>\n",
       "    <tr>\n",
       "      <th>9998</th>\n",
       "      <td>1</td>\n",
       "      <td>1</td>\n",
       "      <td>0</td>\n",
       "    </tr>\n",
       "    <tr>\n",
       "      <th>9999</th>\n",
       "      <td>5</td>\n",
       "      <td>5</td>\n",
       "      <td>0</td>\n",
       "    </tr>\n",
       "  </tbody>\n",
       "</table>\n",
       "<p>10000 rows × 3 columns</p>\n",
       "</div>"
      ]
     },
     "execution_count": 50,
     "metadata": {},
     "output_type": "execute_result"
    }
   ],
   "execution_count": 50
  },
  {
   "cell_type": "markdown",
   "metadata": {
    "id": "wxhpf-uq2B1I"
   },
   "source": [
    "### <a name='10'></a> Ćwiczenie 240\n",
    "Zapisz obiekt _results_ do pliku _results.csv_."
   ]
  },
  {
   "cell_type": "code",
   "metadata": {
    "id": "YFc0KW6URsuc",
    "ExecuteTime": {
     "end_time": "2025-04-13T20:06:33.884188Z",
     "start_time": "2025-04-13T20:06:33.871709Z"
    }
   },
   "source": "results.to_csv('results.csv', index=False)",
   "outputs": [],
   "execution_count": 51
  },
  {
   "cell_type": "code",
   "metadata": {
    "id": "G8LCyqkdSK-3",
    "ExecuteTime": {
     "end_time": "2025-04-13T20:06:35.056725Z",
     "start_time": "2025-04-13T20:06:34.916479Z"
    }
   },
   "source": [
    "!head results.csv"
   ],
   "outputs": [
    {
     "name": "stdout",
     "output_type": "stream",
     "text": [
      "Prediction,y_test,is_missclassified\r\n",
      "9,9,0\r\n",
      "2,2,0\r\n",
      "1,1,0\r\n",
      "1,1,0\r\n",
      "6,6,0\r\n",
      "1,1,0\r\n",
      "4,4,0\r\n",
      "6,6,0\r\n",
      "5,5,0\r\n"
     ]
    }
   ],
   "execution_count": 52
  },
  {
   "metadata": {},
   "cell_type": "code",
   "outputs": [],
   "execution_count": null,
   "source": ""
  }
 ]
}

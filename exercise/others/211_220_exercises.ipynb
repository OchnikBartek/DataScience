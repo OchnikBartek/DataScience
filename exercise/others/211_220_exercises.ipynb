{
 "nbformat": 4,
 "nbformat_minor": 0,
 "metadata": {
  "colab": {
   "provenance": []
  },
  "kernelspec": {
   "name": "python3",
   "display_name": "Python 3 (ipykernel)",
   "language": "python"
  }
 },
 "cells": [
  {
   "cell_type": "markdown",
   "metadata": {
    "id": "zeLOLmTj1kBM"
   },
   "source": [
    "### <a name='0'></a>Import biblioteki"
   ]
  },
  {
   "cell_type": "code",
   "metadata": {
    "id": "HXMB7SMe1Wnz",
    "ExecuteTime": {
     "end_time": "2025-04-08T20:10:14.434708Z",
     "start_time": "2025-04-08T20:10:14.429353Z"
    }
   },
   "source": [
    "import numpy as np\n",
    "import pandas as pd\n",
    "\n",
    "np.__version__"
   ],
   "outputs": [
    {
     "data": {
      "text/plain": [
       "'2.0.2'"
      ]
     },
     "execution_count": 93,
     "metadata": {},
     "output_type": "execute_result"
    }
   ],
   "execution_count": 93
  },
  {
   "cell_type": "markdown",
   "metadata": {
    "id": "cyc70pMe1oCg"
   },
   "source": [
    "### <a name='1'></a> Ćwiczenie 211\n",
    "Podany jest poniższy obiekt _DataFrame_:\n",
    "\n",
    "```\n",
    "df = pd.DataFrame(data={'height': [175., 178.5, 185., 191., 184.5, 183., 168.]})\n",
    "```\n",
    "Dokonaj dyskretyzacji zmiennej _height_ na 3 przedziały o równej szerokości. Wynik przypisz do nowej kolumny _height_cut_.\n"
   ]
  },
  {
   "cell_type": "code",
   "metadata": {
    "ExecuteTime": {
     "end_time": "2025-04-08T20:10:14.456112Z",
     "start_time": "2025-04-08T20:10:14.449823Z"
    }
   },
   "source": [
    "df = pd.DataFrame(data={'height': [175., 178.5, 185., 191., 184.5, 183., 168.]})\n",
    "df"
   ],
   "outputs": [
    {
     "data": {
      "text/plain": [
       "   height\n",
       "0   175.0\n",
       "1   178.5\n",
       "2   185.0\n",
       "3   191.0\n",
       "4   184.5\n",
       "5   183.0\n",
       "6   168.0"
      ],
      "text/html": [
       "<div>\n",
       "<style scoped>\n",
       "    .dataframe tbody tr th:only-of-type {\n",
       "        vertical-align: middle;\n",
       "    }\n",
       "\n",
       "    .dataframe tbody tr th {\n",
       "        vertical-align: top;\n",
       "    }\n",
       "\n",
       "    .dataframe thead th {\n",
       "        text-align: right;\n",
       "    }\n",
       "</style>\n",
       "<table border=\"1\" class=\"dataframe\">\n",
       "  <thead>\n",
       "    <tr style=\"text-align: right;\">\n",
       "      <th></th>\n",
       "      <th>height</th>\n",
       "    </tr>\n",
       "  </thead>\n",
       "  <tbody>\n",
       "    <tr>\n",
       "      <th>0</th>\n",
       "      <td>175.0</td>\n",
       "    </tr>\n",
       "    <tr>\n",
       "      <th>1</th>\n",
       "      <td>178.5</td>\n",
       "    </tr>\n",
       "    <tr>\n",
       "      <th>2</th>\n",
       "      <td>185.0</td>\n",
       "    </tr>\n",
       "    <tr>\n",
       "      <th>3</th>\n",
       "      <td>191.0</td>\n",
       "    </tr>\n",
       "    <tr>\n",
       "      <th>4</th>\n",
       "      <td>184.5</td>\n",
       "    </tr>\n",
       "    <tr>\n",
       "      <th>5</th>\n",
       "      <td>183.0</td>\n",
       "    </tr>\n",
       "    <tr>\n",
       "      <th>6</th>\n",
       "      <td>168.0</td>\n",
       "    </tr>\n",
       "  </tbody>\n",
       "</table>\n",
       "</div>"
      ]
     },
     "execution_count": 94,
     "metadata": {},
     "output_type": "execute_result"
    }
   ],
   "execution_count": 94
  },
  {
   "metadata": {
    "id": "9cIMOvnHn6qd",
    "ExecuteTime": {
     "end_time": "2025-04-08T20:10:14.506375Z",
     "start_time": "2025-04-08T20:10:14.499195Z"
    }
   },
   "cell_type": "code",
   "source": [
    "df['height_cut'] = pd.cut(df['height'], 3)\n",
    "df"
   ],
   "outputs": [
    {
     "data": {
      "text/plain": [
       "   height          height_cut\n",
       "0   175.0  (167.977, 175.667]\n",
       "1   178.5  (175.667, 183.333]\n",
       "2   185.0    (183.333, 191.0]\n",
       "3   191.0    (183.333, 191.0]\n",
       "4   184.5    (183.333, 191.0]\n",
       "5   183.0  (175.667, 183.333]\n",
       "6   168.0  (167.977, 175.667]"
      ],
      "text/html": [
       "<div>\n",
       "<style scoped>\n",
       "    .dataframe tbody tr th:only-of-type {\n",
       "        vertical-align: middle;\n",
       "    }\n",
       "\n",
       "    .dataframe tbody tr th {\n",
       "        vertical-align: top;\n",
       "    }\n",
       "\n",
       "    .dataframe thead th {\n",
       "        text-align: right;\n",
       "    }\n",
       "</style>\n",
       "<table border=\"1\" class=\"dataframe\">\n",
       "  <thead>\n",
       "    <tr style=\"text-align: right;\">\n",
       "      <th></th>\n",
       "      <th>height</th>\n",
       "      <th>height_cut</th>\n",
       "    </tr>\n",
       "  </thead>\n",
       "  <tbody>\n",
       "    <tr>\n",
       "      <th>0</th>\n",
       "      <td>175.0</td>\n",
       "      <td>(167.977, 175.667]</td>\n",
       "    </tr>\n",
       "    <tr>\n",
       "      <th>1</th>\n",
       "      <td>178.5</td>\n",
       "      <td>(175.667, 183.333]</td>\n",
       "    </tr>\n",
       "    <tr>\n",
       "      <th>2</th>\n",
       "      <td>185.0</td>\n",
       "      <td>(183.333, 191.0]</td>\n",
       "    </tr>\n",
       "    <tr>\n",
       "      <th>3</th>\n",
       "      <td>191.0</td>\n",
       "      <td>(183.333, 191.0]</td>\n",
       "    </tr>\n",
       "    <tr>\n",
       "      <th>4</th>\n",
       "      <td>184.5</td>\n",
       "      <td>(183.333, 191.0]</td>\n",
       "    </tr>\n",
       "    <tr>\n",
       "      <th>5</th>\n",
       "      <td>183.0</td>\n",
       "      <td>(175.667, 183.333]</td>\n",
       "    </tr>\n",
       "    <tr>\n",
       "      <th>6</th>\n",
       "      <td>168.0</td>\n",
       "      <td>(167.977, 175.667]</td>\n",
       "    </tr>\n",
       "  </tbody>\n",
       "</table>\n",
       "</div>"
      ]
     },
     "execution_count": 95,
     "metadata": {},
     "output_type": "execute_result"
    }
   ],
   "execution_count": 95
  },
  {
   "cell_type": "markdown",
   "metadata": {
    "id": "J9pY1rtr1sC0"
   },
   "source": [
    "### <a name='2'></a> Ćwiczenie 212\n",
    "Dokonaj dyskretyzacji zmiennej _height_ na 3 przedziały o zadanej postaci:\n",
    "* (160, 175]\n",
    "* (175, 180]\n",
    "* (180, 195]\n",
    "\n",
    "Wynik przypisz do nowej kolumny _height_cut_2_."
   ]
  },
  {
   "cell_type": "code",
   "metadata": {
    "id": "5z32JKTlo801",
    "ExecuteTime": {
     "end_time": "2025-04-08T20:10:14.584937Z",
     "start_time": "2025-04-08T20:10:14.576977Z"
    }
   },
   "source": [
    "df['height_cut2'] = pd.cut(df['height'], bins=(160,175,180,195))\n",
    "df"
   ],
   "outputs": [
    {
     "data": {
      "text/plain": [
       "   height          height_cut height_cut2\n",
       "0   175.0  (167.977, 175.667]  (160, 175]\n",
       "1   178.5  (175.667, 183.333]  (175, 180]\n",
       "2   185.0    (183.333, 191.0]  (180, 195]\n",
       "3   191.0    (183.333, 191.0]  (180, 195]\n",
       "4   184.5    (183.333, 191.0]  (180, 195]\n",
       "5   183.0  (175.667, 183.333]  (180, 195]\n",
       "6   168.0  (167.977, 175.667]  (160, 175]"
      ],
      "text/html": [
       "<div>\n",
       "<style scoped>\n",
       "    .dataframe tbody tr th:only-of-type {\n",
       "        vertical-align: middle;\n",
       "    }\n",
       "\n",
       "    .dataframe tbody tr th {\n",
       "        vertical-align: top;\n",
       "    }\n",
       "\n",
       "    .dataframe thead th {\n",
       "        text-align: right;\n",
       "    }\n",
       "</style>\n",
       "<table border=\"1\" class=\"dataframe\">\n",
       "  <thead>\n",
       "    <tr style=\"text-align: right;\">\n",
       "      <th></th>\n",
       "      <th>height</th>\n",
       "      <th>height_cut</th>\n",
       "      <th>height_cut2</th>\n",
       "    </tr>\n",
       "  </thead>\n",
       "  <tbody>\n",
       "    <tr>\n",
       "      <th>0</th>\n",
       "      <td>175.0</td>\n",
       "      <td>(167.977, 175.667]</td>\n",
       "      <td>(160, 175]</td>\n",
       "    </tr>\n",
       "    <tr>\n",
       "      <th>1</th>\n",
       "      <td>178.5</td>\n",
       "      <td>(175.667, 183.333]</td>\n",
       "      <td>(175, 180]</td>\n",
       "    </tr>\n",
       "    <tr>\n",
       "      <th>2</th>\n",
       "      <td>185.0</td>\n",
       "      <td>(183.333, 191.0]</td>\n",
       "      <td>(180, 195]</td>\n",
       "    </tr>\n",
       "    <tr>\n",
       "      <th>3</th>\n",
       "      <td>191.0</td>\n",
       "      <td>(183.333, 191.0]</td>\n",
       "      <td>(180, 195]</td>\n",
       "    </tr>\n",
       "    <tr>\n",
       "      <th>4</th>\n",
       "      <td>184.5</td>\n",
       "      <td>(183.333, 191.0]</td>\n",
       "      <td>(180, 195]</td>\n",
       "    </tr>\n",
       "    <tr>\n",
       "      <th>5</th>\n",
       "      <td>183.0</td>\n",
       "      <td>(175.667, 183.333]</td>\n",
       "      <td>(180, 195]</td>\n",
       "    </tr>\n",
       "    <tr>\n",
       "      <th>6</th>\n",
       "      <td>168.0</td>\n",
       "      <td>(167.977, 175.667]</td>\n",
       "      <td>(160, 175]</td>\n",
       "    </tr>\n",
       "  </tbody>\n",
       "</table>\n",
       "</div>"
      ]
     },
     "execution_count": 96,
     "metadata": {},
     "output_type": "execute_result"
    }
   ],
   "execution_count": 96
  },
  {
   "cell_type": "markdown",
   "metadata": {
    "id": "XQLYT2m11wVG"
   },
   "source": [
    "### <a name='3'></a> Ćwiczenie 213\n",
    "Dokonaj dyskretyzacji zmiennej _height_ na 3 przedziały o zadanej postaci:\n",
    "* (160, 175]\n",
    "* (175, 180]\n",
    "* (180, 195]\n",
    "\n",
    "oraz przypisz im odpowiednio etykiety:\n",
    "\n",
    "* small\n",
    "* medium\n",
    "* high\n",
    "\n",
    "Wynik przypisz do nowej kolumny _height_cut_3_."
   ]
  },
  {
   "cell_type": "code",
   "metadata": {
    "id": "-GZd0IDlpYpF",
    "ExecuteTime": {
     "end_time": "2025-04-08T20:10:14.691826Z",
     "start_time": "2025-04-08T20:10:14.683806Z"
    }
   },
   "source": [
    "df['height_cut3'] = pd.cut(df['height'], bins=(160,175,180,195),labels=['small','medium','high'])\n",
    "df"
   ],
   "outputs": [
    {
     "data": {
      "text/plain": [
       "   height          height_cut height_cut2 height_cut3\n",
       "0   175.0  (167.977, 175.667]  (160, 175]       small\n",
       "1   178.5  (175.667, 183.333]  (175, 180]      medium\n",
       "2   185.0    (183.333, 191.0]  (180, 195]        high\n",
       "3   191.0    (183.333, 191.0]  (180, 195]        high\n",
       "4   184.5    (183.333, 191.0]  (180, 195]        high\n",
       "5   183.0  (175.667, 183.333]  (180, 195]        high\n",
       "6   168.0  (167.977, 175.667]  (160, 175]       small"
      ],
      "text/html": [
       "<div>\n",
       "<style scoped>\n",
       "    .dataframe tbody tr th:only-of-type {\n",
       "        vertical-align: middle;\n",
       "    }\n",
       "\n",
       "    .dataframe tbody tr th {\n",
       "        vertical-align: top;\n",
       "    }\n",
       "\n",
       "    .dataframe thead th {\n",
       "        text-align: right;\n",
       "    }\n",
       "</style>\n",
       "<table border=\"1\" class=\"dataframe\">\n",
       "  <thead>\n",
       "    <tr style=\"text-align: right;\">\n",
       "      <th></th>\n",
       "      <th>height</th>\n",
       "      <th>height_cut</th>\n",
       "      <th>height_cut2</th>\n",
       "      <th>height_cut3</th>\n",
       "    </tr>\n",
       "  </thead>\n",
       "  <tbody>\n",
       "    <tr>\n",
       "      <th>0</th>\n",
       "      <td>175.0</td>\n",
       "      <td>(167.977, 175.667]</td>\n",
       "      <td>(160, 175]</td>\n",
       "      <td>small</td>\n",
       "    </tr>\n",
       "    <tr>\n",
       "      <th>1</th>\n",
       "      <td>178.5</td>\n",
       "      <td>(175.667, 183.333]</td>\n",
       "      <td>(175, 180]</td>\n",
       "      <td>medium</td>\n",
       "    </tr>\n",
       "    <tr>\n",
       "      <th>2</th>\n",
       "      <td>185.0</td>\n",
       "      <td>(183.333, 191.0]</td>\n",
       "      <td>(180, 195]</td>\n",
       "      <td>high</td>\n",
       "    </tr>\n",
       "    <tr>\n",
       "      <th>3</th>\n",
       "      <td>191.0</td>\n",
       "      <td>(183.333, 191.0]</td>\n",
       "      <td>(180, 195]</td>\n",
       "      <td>high</td>\n",
       "    </tr>\n",
       "    <tr>\n",
       "      <th>4</th>\n",
       "      <td>184.5</td>\n",
       "      <td>(183.333, 191.0]</td>\n",
       "      <td>(180, 195]</td>\n",
       "      <td>high</td>\n",
       "    </tr>\n",
       "    <tr>\n",
       "      <th>5</th>\n",
       "      <td>183.0</td>\n",
       "      <td>(175.667, 183.333]</td>\n",
       "      <td>(180, 195]</td>\n",
       "      <td>high</td>\n",
       "    </tr>\n",
       "    <tr>\n",
       "      <th>6</th>\n",
       "      <td>168.0</td>\n",
       "      <td>(167.977, 175.667]</td>\n",
       "      <td>(160, 175]</td>\n",
       "      <td>small</td>\n",
       "    </tr>\n",
       "  </tbody>\n",
       "</table>\n",
       "</div>"
      ]
     },
     "execution_count": 97,
     "metadata": {},
     "output_type": "execute_result"
    }
   ],
   "execution_count": 97
  },
  {
   "cell_type": "markdown",
   "metadata": {
    "id": "4xTKSUzg10MK"
   },
   "source": [
    "### <a name='4'></a> Ćwiczenie 214\n",
    "Usuń kolumny _height_cut_ oraz _height_cut_2_ z obiektu _df_."
   ]
  },
  {
   "cell_type": "code",
   "metadata": {
    "id": "Vqtt2Ocdp3yk",
    "ExecuteTime": {
     "end_time": "2025-04-08T20:10:14.782393Z",
     "start_time": "2025-04-08T20:10:14.773591Z"
    }
   },
   "source": [
    "df = df.drop(columns=['height_cut','height_cut2'],axis=1)\n",
    "df"
   ],
   "outputs": [
    {
     "data": {
      "text/plain": [
       "   height height_cut3\n",
       "0   175.0       small\n",
       "1   178.5      medium\n",
       "2   185.0        high\n",
       "3   191.0        high\n",
       "4   184.5        high\n",
       "5   183.0        high\n",
       "6   168.0       small"
      ],
      "text/html": [
       "<div>\n",
       "<style scoped>\n",
       "    .dataframe tbody tr th:only-of-type {\n",
       "        vertical-align: middle;\n",
       "    }\n",
       "\n",
       "    .dataframe tbody tr th {\n",
       "        vertical-align: top;\n",
       "    }\n",
       "\n",
       "    .dataframe thead th {\n",
       "        text-align: right;\n",
       "    }\n",
       "</style>\n",
       "<table border=\"1\" class=\"dataframe\">\n",
       "  <thead>\n",
       "    <tr style=\"text-align: right;\">\n",
       "      <th></th>\n",
       "      <th>height</th>\n",
       "      <th>height_cut3</th>\n",
       "    </tr>\n",
       "  </thead>\n",
       "  <tbody>\n",
       "    <tr>\n",
       "      <th>0</th>\n",
       "      <td>175.0</td>\n",
       "      <td>small</td>\n",
       "    </tr>\n",
       "    <tr>\n",
       "      <th>1</th>\n",
       "      <td>178.5</td>\n",
       "      <td>medium</td>\n",
       "    </tr>\n",
       "    <tr>\n",
       "      <th>2</th>\n",
       "      <td>185.0</td>\n",
       "      <td>high</td>\n",
       "    </tr>\n",
       "    <tr>\n",
       "      <th>3</th>\n",
       "      <td>191.0</td>\n",
       "      <td>high</td>\n",
       "    </tr>\n",
       "    <tr>\n",
       "      <th>4</th>\n",
       "      <td>184.5</td>\n",
       "      <td>high</td>\n",
       "    </tr>\n",
       "    <tr>\n",
       "      <th>5</th>\n",
       "      <td>183.0</td>\n",
       "      <td>high</td>\n",
       "    </tr>\n",
       "    <tr>\n",
       "      <th>6</th>\n",
       "      <td>168.0</td>\n",
       "      <td>small</td>\n",
       "    </tr>\n",
       "  </tbody>\n",
       "</table>\n",
       "</div>"
      ]
     },
     "execution_count": 98,
     "metadata": {},
     "output_type": "execute_result"
    }
   ],
   "execution_count": 98
  },
  {
   "cell_type": "markdown",
   "metadata": {
    "id": "BIv_C6Vsp_Jl"
   },
   "source": [
    "Zmień nazwę kolumny _height_cut_3_ na _height_level_."
   ]
  },
  {
   "cell_type": "code",
   "metadata": {
    "id": "KlpIQAK4qFa6",
    "ExecuteTime": {
     "end_time": "2025-04-08T20:10:14.976960Z",
     "start_time": "2025-04-08T20:10:14.960483Z"
    }
   },
   "source": [
    "df = df.rename(columns={'height_cut3':'height_level'})\n",
    "df"
   ],
   "outputs": [
    {
     "data": {
      "text/plain": [
       "   height height_level\n",
       "0   175.0        small\n",
       "1   178.5       medium\n",
       "2   185.0         high\n",
       "3   191.0         high\n",
       "4   184.5         high\n",
       "5   183.0         high\n",
       "6   168.0        small"
      ],
      "text/html": [
       "<div>\n",
       "<style scoped>\n",
       "    .dataframe tbody tr th:only-of-type {\n",
       "        vertical-align: middle;\n",
       "    }\n",
       "\n",
       "    .dataframe tbody tr th {\n",
       "        vertical-align: top;\n",
       "    }\n",
       "\n",
       "    .dataframe thead th {\n",
       "        text-align: right;\n",
       "    }\n",
       "</style>\n",
       "<table border=\"1\" class=\"dataframe\">\n",
       "  <thead>\n",
       "    <tr style=\"text-align: right;\">\n",
       "      <th></th>\n",
       "      <th>height</th>\n",
       "      <th>height_level</th>\n",
       "    </tr>\n",
       "  </thead>\n",
       "  <tbody>\n",
       "    <tr>\n",
       "      <th>0</th>\n",
       "      <td>175.0</td>\n",
       "      <td>small</td>\n",
       "    </tr>\n",
       "    <tr>\n",
       "      <th>1</th>\n",
       "      <td>178.5</td>\n",
       "      <td>medium</td>\n",
       "    </tr>\n",
       "    <tr>\n",
       "      <th>2</th>\n",
       "      <td>185.0</td>\n",
       "      <td>high</td>\n",
       "    </tr>\n",
       "    <tr>\n",
       "      <th>3</th>\n",
       "      <td>191.0</td>\n",
       "      <td>high</td>\n",
       "    </tr>\n",
       "    <tr>\n",
       "      <th>4</th>\n",
       "      <td>184.5</td>\n",
       "      <td>high</td>\n",
       "    </tr>\n",
       "    <tr>\n",
       "      <th>5</th>\n",
       "      <td>183.0</td>\n",
       "      <td>high</td>\n",
       "    </tr>\n",
       "    <tr>\n",
       "      <th>6</th>\n",
       "      <td>168.0</td>\n",
       "      <td>small</td>\n",
       "    </tr>\n",
       "  </tbody>\n",
       "</table>\n",
       "</div>"
      ]
     },
     "execution_count": 99,
     "metadata": {},
     "output_type": "execute_result"
    }
   ],
   "execution_count": 99
  },
  {
   "cell_type": "markdown",
   "metadata": {
    "id": "o3HKIKlP15Ro"
   },
   "source": [
    "### <a name='5'></a> Ćwiczenie 215\n",
    "Uzyskaj kodowanie 0-1 obiektu _df_ dzięki funkcji _pd.get_dummies()_."
   ]
  },
  {
   "cell_type": "code",
   "metadata": {
    "id": "TMWhulvsqXC6",
    "ExecuteTime": {
     "end_time": "2025-04-08T20:10:15.154650Z",
     "start_time": "2025-04-08T20:10:15.139120Z"
    }
   },
   "source": "pd.get_dummies(df)",
   "outputs": [
    {
     "data": {
      "text/plain": [
       "   height  height_level_small  height_level_medium  height_level_high\n",
       "0   175.0                True                False              False\n",
       "1   178.5               False                 True              False\n",
       "2   185.0               False                False               True\n",
       "3   191.0               False                False               True\n",
       "4   184.5               False                False               True\n",
       "5   183.0               False                False               True\n",
       "6   168.0                True                False              False"
      ],
      "text/html": [
       "<div>\n",
       "<style scoped>\n",
       "    .dataframe tbody tr th:only-of-type {\n",
       "        vertical-align: middle;\n",
       "    }\n",
       "\n",
       "    .dataframe tbody tr th {\n",
       "        vertical-align: top;\n",
       "    }\n",
       "\n",
       "    .dataframe thead th {\n",
       "        text-align: right;\n",
       "    }\n",
       "</style>\n",
       "<table border=\"1\" class=\"dataframe\">\n",
       "  <thead>\n",
       "    <tr style=\"text-align: right;\">\n",
       "      <th></th>\n",
       "      <th>height</th>\n",
       "      <th>height_level_small</th>\n",
       "      <th>height_level_medium</th>\n",
       "      <th>height_level_high</th>\n",
       "    </tr>\n",
       "  </thead>\n",
       "  <tbody>\n",
       "    <tr>\n",
       "      <th>0</th>\n",
       "      <td>175.0</td>\n",
       "      <td>True</td>\n",
       "      <td>False</td>\n",
       "      <td>False</td>\n",
       "    </tr>\n",
       "    <tr>\n",
       "      <th>1</th>\n",
       "      <td>178.5</td>\n",
       "      <td>False</td>\n",
       "      <td>True</td>\n",
       "      <td>False</td>\n",
       "    </tr>\n",
       "    <tr>\n",
       "      <th>2</th>\n",
       "      <td>185.0</td>\n",
       "      <td>False</td>\n",
       "      <td>False</td>\n",
       "      <td>True</td>\n",
       "    </tr>\n",
       "    <tr>\n",
       "      <th>3</th>\n",
       "      <td>191.0</td>\n",
       "      <td>False</td>\n",
       "      <td>False</td>\n",
       "      <td>True</td>\n",
       "    </tr>\n",
       "    <tr>\n",
       "      <th>4</th>\n",
       "      <td>184.5</td>\n",
       "      <td>False</td>\n",
       "      <td>False</td>\n",
       "      <td>True</td>\n",
       "    </tr>\n",
       "    <tr>\n",
       "      <th>5</th>\n",
       "      <td>183.0</td>\n",
       "      <td>False</td>\n",
       "      <td>False</td>\n",
       "      <td>True</td>\n",
       "    </tr>\n",
       "    <tr>\n",
       "      <th>6</th>\n",
       "      <td>168.0</td>\n",
       "      <td>True</td>\n",
       "      <td>False</td>\n",
       "      <td>False</td>\n",
       "    </tr>\n",
       "  </tbody>\n",
       "</table>\n",
       "</div>"
      ]
     },
     "execution_count": 100,
     "metadata": {},
     "output_type": "execute_result"
    }
   ],
   "execution_count": 100
  },
  {
   "cell_type": "markdown",
   "metadata": {
    "id": "PunXd_Ey16so"
   },
   "source": [
    "### <a name='6'></a> Ćwiczenie 216\n",
    "Podany jest poniższy obiekt _df_:\n",
    "\n",
    "\n",
    "```\n",
    "df = pd.DataFrame(data={'lang': [['PL', 'ENG'], ['GER', 'ENG', 'PL', 'FRA'], ['RUS']]})\n",
    "```\n",
    "Zbuduj nową kolumnę o nazwie _length_, która przyjmie długość listy kolumny _lang_.\n",
    "\n"
   ]
  },
  {
   "cell_type": "code",
   "metadata": {
    "ExecuteTime": {
     "end_time": "2025-04-08T20:10:15.311024Z",
     "start_time": "2025-04-08T20:10:15.300381Z"
    }
   },
   "source": [
    "df = pd.DataFrame(data={'lang': [['PL', 'ENG'], ['GER', 'ENG', 'PL', 'FRA'], ['RUS']]})\n",
    "df"
   ],
   "outputs": [
    {
     "data": {
      "text/plain": [
       "                  lang\n",
       "0            [PL, ENG]\n",
       "1  [GER, ENG, PL, FRA]\n",
       "2                [RUS]"
      ],
      "text/html": [
       "<div>\n",
       "<style scoped>\n",
       "    .dataframe tbody tr th:only-of-type {\n",
       "        vertical-align: middle;\n",
       "    }\n",
       "\n",
       "    .dataframe tbody tr th {\n",
       "        vertical-align: top;\n",
       "    }\n",
       "\n",
       "    .dataframe thead th {\n",
       "        text-align: right;\n",
       "    }\n",
       "</style>\n",
       "<table border=\"1\" class=\"dataframe\">\n",
       "  <thead>\n",
       "    <tr style=\"text-align: right;\">\n",
       "      <th></th>\n",
       "      <th>lang</th>\n",
       "    </tr>\n",
       "  </thead>\n",
       "  <tbody>\n",
       "    <tr>\n",
       "      <th>0</th>\n",
       "      <td>[PL, ENG]</td>\n",
       "    </tr>\n",
       "    <tr>\n",
       "      <th>1</th>\n",
       "      <td>[GER, ENG, PL, FRA]</td>\n",
       "    </tr>\n",
       "    <tr>\n",
       "      <th>2</th>\n",
       "      <td>[RUS]</td>\n",
       "    </tr>\n",
       "  </tbody>\n",
       "</table>\n",
       "</div>"
      ]
     },
     "execution_count": 101,
     "metadata": {},
     "output_type": "execute_result"
    }
   ],
   "execution_count": 101
  },
  {
   "metadata": {
    "id": "qMLpJNRzqdoI",
    "ExecuteTime": {
     "end_time": "2025-04-08T20:10:15.503756Z",
     "start_time": "2025-04-08T20:10:15.486931Z"
    }
   },
   "cell_type": "code",
   "source": [
    "df['length'] = df['lang'].apply(len)\n",
    "df"
   ],
   "outputs": [
    {
     "data": {
      "text/plain": [
       "                  lang  length\n",
       "0            [PL, ENG]       2\n",
       "1  [GER, ENG, PL, FRA]       4\n",
       "2                [RUS]       1"
      ],
      "text/html": [
       "<div>\n",
       "<style scoped>\n",
       "    .dataframe tbody tr th:only-of-type {\n",
       "        vertical-align: middle;\n",
       "    }\n",
       "\n",
       "    .dataframe tbody tr th {\n",
       "        vertical-align: top;\n",
       "    }\n",
       "\n",
       "    .dataframe thead th {\n",
       "        text-align: right;\n",
       "    }\n",
       "</style>\n",
       "<table border=\"1\" class=\"dataframe\">\n",
       "  <thead>\n",
       "    <tr style=\"text-align: right;\">\n",
       "      <th></th>\n",
       "      <th>lang</th>\n",
       "      <th>length</th>\n",
       "    </tr>\n",
       "  </thead>\n",
       "  <tbody>\n",
       "    <tr>\n",
       "      <th>0</th>\n",
       "      <td>[PL, ENG]</td>\n",
       "      <td>2</td>\n",
       "    </tr>\n",
       "    <tr>\n",
       "      <th>1</th>\n",
       "      <td>[GER, ENG, PL, FRA]</td>\n",
       "      <td>4</td>\n",
       "    </tr>\n",
       "    <tr>\n",
       "      <th>2</th>\n",
       "      <td>[RUS]</td>\n",
       "      <td>1</td>\n",
       "    </tr>\n",
       "  </tbody>\n",
       "</table>\n",
       "</div>"
      ]
     },
     "execution_count": 102,
     "metadata": {},
     "output_type": "execute_result"
    }
   ],
   "execution_count": 102
  },
  {
   "cell_type": "markdown",
   "metadata": {
    "id": "hOhqDRz618Tx"
   },
   "source": [
    "### <a name='7'></a> Ćwiczenie 217\n",
    "Zbuduj nową kolumnę o nazwie _PL_flag_, która przyjmie wartość 1, gdy język 'PL' będzie w liście w kolumnie _lang_, przeciwnie 0."
   ]
  },
  {
   "cell_type": "code",
   "metadata": {
    "id": "2TTiu9j_rE5a",
    "ExecuteTime": {
     "end_time": "2025-04-08T20:10:15.830940Z",
     "start_time": "2025-04-08T20:10:15.818833Z"
    }
   },
   "source": [
    "df['PL_flag'] = df['lang'].apply(lambda x : 1 if 'PL' in x else 0)\n",
    "df"
   ],
   "outputs": [
    {
     "data": {
      "text/plain": [
       "                  lang  length  PL_flag\n",
       "0            [PL, ENG]       2        1\n",
       "1  [GER, ENG, PL, FRA]       4        1\n",
       "2                [RUS]       1        0"
      ],
      "text/html": [
       "<div>\n",
       "<style scoped>\n",
       "    .dataframe tbody tr th:only-of-type {\n",
       "        vertical-align: middle;\n",
       "    }\n",
       "\n",
       "    .dataframe tbody tr th {\n",
       "        vertical-align: top;\n",
       "    }\n",
       "\n",
       "    .dataframe thead th {\n",
       "        text-align: right;\n",
       "    }\n",
       "</style>\n",
       "<table border=\"1\" class=\"dataframe\">\n",
       "  <thead>\n",
       "    <tr style=\"text-align: right;\">\n",
       "      <th></th>\n",
       "      <th>lang</th>\n",
       "      <th>length</th>\n",
       "      <th>PL_flag</th>\n",
       "    </tr>\n",
       "  </thead>\n",
       "  <tbody>\n",
       "    <tr>\n",
       "      <th>0</th>\n",
       "      <td>[PL, ENG]</td>\n",
       "      <td>2</td>\n",
       "      <td>1</td>\n",
       "    </tr>\n",
       "    <tr>\n",
       "      <th>1</th>\n",
       "      <td>[GER, ENG, PL, FRA]</td>\n",
       "      <td>4</td>\n",
       "      <td>1</td>\n",
       "    </tr>\n",
       "    <tr>\n",
       "      <th>2</th>\n",
       "      <td>[RUS]</td>\n",
       "      <td>1</td>\n",
       "      <td>0</td>\n",
       "    </tr>\n",
       "  </tbody>\n",
       "</table>\n",
       "</div>"
      ]
     },
     "execution_count": 103,
     "metadata": {},
     "output_type": "execute_result"
    }
   ],
   "execution_count": 103
  },
  {
   "cell_type": "markdown",
   "metadata": {
    "id": "TXUd_4631-gw"
   },
   "source": [
    "### <a name='8'></a> Ćwiczenie 218\n",
    "Podany jest poniższy obiekt _df_:\n",
    "\n",
    "\n",
    "```\n",
    "df = pd.DataFrame(data={'website': ['wp.pl', 'onet.pl', 'google.com']})\n",
    "```\n",
    "Podziel kolumnę _website_ względem znaku kropki (.) na dwie kolumny o nazwach _portal_ oraz _ending_.\n"
   ]
  },
  {
   "cell_type": "code",
   "metadata": {
    "id": "rAfYZkzurWNY",
    "ExecuteTime": {
     "end_time": "2025-04-08T20:10:16.049580Z",
     "start_time": "2025-04-08T20:10:16.036268Z"
    }
   },
   "source": [
    "df = pd.DataFrame(data={'website': ['wp.pl', 'onet.pl', 'google.com']})\n",
    "df = df['website'].str.split('.',expand=True)\n",
    "df.columns = ['portal', 'ending']\n",
    "df"
   ],
   "outputs": [
    {
     "data": {
      "text/plain": [
       "   portal ending\n",
       "0      wp     pl\n",
       "1    onet     pl\n",
       "2  google    com"
      ],
      "text/html": [
       "<div>\n",
       "<style scoped>\n",
       "    .dataframe tbody tr th:only-of-type {\n",
       "        vertical-align: middle;\n",
       "    }\n",
       "\n",
       "    .dataframe tbody tr th {\n",
       "        vertical-align: top;\n",
       "    }\n",
       "\n",
       "    .dataframe thead th {\n",
       "        text-align: right;\n",
       "    }\n",
       "</style>\n",
       "<table border=\"1\" class=\"dataframe\">\n",
       "  <thead>\n",
       "    <tr style=\"text-align: right;\">\n",
       "      <th></th>\n",
       "      <th>portal</th>\n",
       "      <th>ending</th>\n",
       "    </tr>\n",
       "  </thead>\n",
       "  <tbody>\n",
       "    <tr>\n",
       "      <th>0</th>\n",
       "      <td>wp</td>\n",
       "      <td>pl</td>\n",
       "    </tr>\n",
       "    <tr>\n",
       "      <th>1</th>\n",
       "      <td>onet</td>\n",
       "      <td>pl</td>\n",
       "    </tr>\n",
       "    <tr>\n",
       "      <th>2</th>\n",
       "      <td>google</td>\n",
       "      <td>com</td>\n",
       "    </tr>\n",
       "  </tbody>\n",
       "</table>\n",
       "</div>"
      ]
     },
     "execution_count": 104,
     "metadata": {},
     "output_type": "execute_result"
    }
   ],
   "execution_count": 104
  },
  {
   "cell_type": "markdown",
   "metadata": {
    "id": "tgI6xEn-2AQo"
   },
   "source": [
    "### <a name='9'></a> Ćwiczenie 219\n",
    "Wytnij wszystkie wiersze obiektu _df_ dla którego kolumna _portal_ zawiera literę 'o'."
   ]
  },
  {
   "cell_type": "code",
   "metadata": {
    "id": "jpuEcq6DsxAz",
    "ExecuteTime": {
     "end_time": "2025-04-08T20:10:16.221080Z",
     "start_time": "2025-04-08T20:10:16.207756Z"
    }
   },
   "source": "df[df['portal'].str.contains('o')]",
   "outputs": [
    {
     "data": {
      "text/plain": [
       "   portal ending\n",
       "1    onet     pl\n",
       "2  google    com"
      ],
      "text/html": [
       "<div>\n",
       "<style scoped>\n",
       "    .dataframe tbody tr th:only-of-type {\n",
       "        vertical-align: middle;\n",
       "    }\n",
       "\n",
       "    .dataframe tbody tr th {\n",
       "        vertical-align: top;\n",
       "    }\n",
       "\n",
       "    .dataframe thead th {\n",
       "        text-align: right;\n",
       "    }\n",
       "</style>\n",
       "<table border=\"1\" class=\"dataframe\">\n",
       "  <thead>\n",
       "    <tr style=\"text-align: right;\">\n",
       "      <th></th>\n",
       "      <th>portal</th>\n",
       "      <th>ending</th>\n",
       "    </tr>\n",
       "  </thead>\n",
       "  <tbody>\n",
       "    <tr>\n",
       "      <th>1</th>\n",
       "      <td>onet</td>\n",
       "      <td>pl</td>\n",
       "    </tr>\n",
       "    <tr>\n",
       "      <th>2</th>\n",
       "      <td>google</td>\n",
       "      <td>com</td>\n",
       "    </tr>\n",
       "  </tbody>\n",
       "</table>\n",
       "</div>"
      ]
     },
     "execution_count": 105,
     "metadata": {},
     "output_type": "execute_result"
    }
   ],
   "execution_count": 105
  },
  {
   "cell_type": "markdown",
   "metadata": {
    "id": "wxhpf-uq2B1I"
   },
   "source": [
    "### <a name='10'></a> Ćwiczenie 210\n",
    "Zamień wszystkie rozszerzenia _com_ z kolumny _ending_ na _org_."
   ]
  },
  {
   "cell_type": "code",
   "metadata": {
    "id": "YFc0KW6URsuc",
    "ExecuteTime": {
     "end_time": "2025-04-08T20:10:43.626337Z",
     "start_time": "2025-04-08T20:10:43.620295Z"
    }
   },
   "source": [
    "df ['ending'] = df['ending'].str.replace('com', 'org')\n",
    "df"
   ],
   "outputs": [
    {
     "data": {
      "text/plain": [
       "   portal ending\n",
       "0      wp     pl\n",
       "1    onet     pl\n",
       "2  google    org"
      ],
      "text/html": [
       "<div>\n",
       "<style scoped>\n",
       "    .dataframe tbody tr th:only-of-type {\n",
       "        vertical-align: middle;\n",
       "    }\n",
       "\n",
       "    .dataframe tbody tr th {\n",
       "        vertical-align: top;\n",
       "    }\n",
       "\n",
       "    .dataframe thead th {\n",
       "        text-align: right;\n",
       "    }\n",
       "</style>\n",
       "<table border=\"1\" class=\"dataframe\">\n",
       "  <thead>\n",
       "    <tr style=\"text-align: right;\">\n",
       "      <th></th>\n",
       "      <th>portal</th>\n",
       "      <th>ending</th>\n",
       "    </tr>\n",
       "  </thead>\n",
       "  <tbody>\n",
       "    <tr>\n",
       "      <th>0</th>\n",
       "      <td>wp</td>\n",
       "      <td>pl</td>\n",
       "    </tr>\n",
       "    <tr>\n",
       "      <th>1</th>\n",
       "      <td>onet</td>\n",
       "      <td>pl</td>\n",
       "    </tr>\n",
       "    <tr>\n",
       "      <th>2</th>\n",
       "      <td>google</td>\n",
       "      <td>org</td>\n",
       "    </tr>\n",
       "  </tbody>\n",
       "</table>\n",
       "</div>"
      ]
     },
     "execution_count": 108,
     "metadata": {},
     "output_type": "execute_result"
    }
   ],
   "execution_count": 108
  },
  {
   "metadata": {},
   "cell_type": "code",
   "outputs": [],
   "execution_count": null,
   "source": ""
  }
 ]
}

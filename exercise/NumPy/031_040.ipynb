{
 "nbformat": 4,
 "nbformat_minor": 0,
 "metadata": {
  "colab": {
   "provenance": []
  },
  "kernelspec": {
   "name": "python3",
   "display_name": "Python 3 (ipykernel)",
   "language": "python"
  }
 },
 "cells": [
  {
   "cell_type": "markdown",
   "metadata": {
    "id": "zeLOLmTj1kBM"
   },
   "source": [
    "### <a name='0'></a>Import biblioteki"
   ]
  },
  {
   "cell_type": "code",
   "metadata": {
    "id": "HXMB7SMe1Wnz",
    "ExecuteTime": {
     "end_time": "2025-04-08T18:18:00.198094Z",
     "start_time": "2025-04-08T18:17:59.680672Z"
    }
   },
   "source": [
    "import numpy as np\n",
    "from scipy.stats import randint\n",
    "\n",
    "np.__version__"
   ],
   "outputs": [
    {
     "data": {
      "text/plain": [
       "'2.0.2'"
      ]
     },
     "execution_count": 1,
     "metadata": {},
     "output_type": "execute_result"
    }
   ],
   "execution_count": 1
  },
  {
   "cell_type": "markdown",
   "metadata": {
    "id": "cyc70pMe1oCg"
   },
   "source": [
    "### <a name='1'></a> Ćwiczenie 31\n",
    "Wykonaj dwa sortowania podanej poniżej tablicy $A$:\n",
    "* wierszowo (rosnąco)\n",
    "* kolumnowo (rosnąco)\n",
    "\n",
    "\n",
    "```\n",
    "A = np.array([[4.99, 3.49, 9.99],\n",
    "              [1.99, 9.99, 4.99],\n",
    "              [14.99, 2.39, 7.29]])\n",
    "```\n",
    "\n",
    "\n",
    "\n",
    "__Wskazówka:__ Użyj funkcji _np.sort()_."
   ]
  },
  {
   "cell_type": "code",
   "metadata": {
    "id": "ed-_5hm4IvnA",
    "ExecuteTime": {
     "end_time": "2025-04-08T18:18:00.208688Z",
     "start_time": "2025-04-08T18:18:00.203768Z"
    }
   },
   "source": [
    "A = np.array([[4.99, 3.49, 9.99],\n",
    "              [1.99, 9.99, 4.99],\n",
    "              [14.99, 2.39, 7.29]])\n",
    "\n",
    "print(np.sort(A))\n",
    "print(np.sort(A,axis=0))\n"
   ],
   "outputs": [
    {
     "name": "stdout",
     "output_type": "stream",
     "text": [
      "[[ 3.49  4.99  9.99]\n",
      " [ 1.99  4.99  9.99]\n",
      " [ 2.39  7.29 14.99]]\n",
      "[[ 1.99  2.39  4.99]\n",
      " [ 4.99  3.49  7.29]\n",
      " [14.99  9.99  9.99]]\n"
     ]
    }
   ],
   "execution_count": 2
  },
  {
   "cell_type": "markdown",
   "metadata": {
    "id": "J9pY1rtr1sC0"
   },
   "source": [
    "### <a name='2'></a> Ćwiczenie 32\n",
    "Wytnij wszystkie elementy tablicy $A$ o wartości wyższej niż 8.\n",
    "\n",
    "\n",
    "```\n",
    "A = np.array([[4.99, 3.49, 9.99],\n",
    "              [1.99, 9.99, 4.99],\n",
    "              [14.99, 2.39, 7.29]])\n",
    "```\n",
    "\n"
   ]
  },
  {
   "cell_type": "code",
   "metadata": {
    "id": "15swBr0tMExC",
    "ExecuteTime": {
     "end_time": "2025-04-08T18:18:00.309670Z",
     "start_time": "2025-04-08T18:18:00.305323Z"
    }
   },
   "source": "A[A>8]",
   "outputs": [
    {
     "data": {
      "text/plain": [
       "array([ 9.99,  9.99, 14.99])"
      ]
     },
     "execution_count": 3,
     "metadata": {},
     "output_type": "execute_result"
    }
   ],
   "execution_count": 3
  },
  {
   "cell_type": "markdown",
   "metadata": {
    "id": "XQLYT2m11wVG"
   },
   "source": [
    "### <a name='3'></a> Ćwiczenie 33\n",
    "Podana jest poniższa tablica $A$. Zastąp elementy powyżej wartości 10 wartością stałą 10 (obcięcie wartości do 10).\n",
    "\n",
    "\n",
    "```\n",
    "A = np.array([[4.99, 3.49, 9.99],\n",
    "              [1.99, 9.99, 14.99],\n",
    "              [14.99, 2.39, 7.29]])\n",
    "```\n",
    "\n",
    "\n",
    "\n",
    "__Wskazówka:__ Użyj funkcji _np.where()_."
   ]
  },
  {
   "cell_type": "code",
   "metadata": {
    "id": "1korOkbrPXC9",
    "ExecuteTime": {
     "end_time": "2025-04-08T18:18:00.323536Z",
     "start_time": "2025-04-08T18:18:00.320639Z"
    }
   },
   "source": "print(np.where(A> 10, 10, A))",
   "outputs": [
    {
     "name": "stdout",
     "output_type": "stream",
     "text": [
      "[[ 4.99  3.49  9.99]\n",
      " [ 1.99  9.99  4.99]\n",
      " [10.    2.39  7.29]]\n"
     ]
    }
   ],
   "execution_count": 4
  },
  {
   "cell_type": "markdown",
   "metadata": {
    "id": "4xTKSUzg10MK"
   },
   "source": [
    "### <a name='4'></a> Ćwiczenie 34\n",
    "Poniższą dwuwymiarową tablicę $A$ przedstaw w postaci 'wypłaszczonej' jednowymiarowej tablicy.  \n",
    "\n",
    "```\n",
    "A = np.array([[4.99, 3.49, 9.99],\n",
    "              [1.99, 9.99, 14.99],\n",
    "              [14.99, 2.39, 7.29]])\n",
    "```\n",
    "\n",
    "\n",
    "\n",
    "__Oczekiwany wynik:__\n",
    "\n",
    "\n",
    "```\n",
    "array([ 4.99,  3.49,  9.99,  1.99,  9.99, 14.99, 14.99,  2.39,  7.29])\n",
    "```\n",
    "\n",
    "__Wskazówka:__ Użyj funkcji _np.ravel()_.\n",
    "\n",
    "\n"
   ]
  },
  {
   "cell_type": "code",
   "metadata": {
    "id": "COqibgznQtj0",
    "ExecuteTime": {
     "end_time": "2025-04-08T18:18:00.342221Z",
     "start_time": "2025-04-08T18:18:00.338722Z"
    }
   },
   "source": "np.ravel(A)",
   "outputs": [
    {
     "data": {
      "text/plain": [
       "array([ 4.99,  3.49,  9.99,  1.99,  9.99,  4.99, 14.99,  2.39,  7.29])"
      ]
     },
     "execution_count": 5,
     "metadata": {},
     "output_type": "execute_result"
    }
   ],
   "execution_count": 5
  },
  {
   "cell_type": "markdown",
   "metadata": {
    "id": "o3HKIKlP15Ro"
   },
   "source": [
    "### <a name='5'></a> Ćwiczenie 35\n",
    "Zbuduj tablicę o identycznym kształcie i typie danych jak tablica $A$ oraz wypełnij ją stałą wartością 0.0.\n",
    "\n",
    "\n",
    "```\n",
    "A = np.array([[4.99, 3.49, 9.99],\n",
    "              [1.99, 9.99, 14.99],\n",
    "              [14.99, 2.39, 7.29]])\n",
    "```\n",
    "__Oczekiwany wynik:__\n",
    "\n",
    "\n",
    "```\n",
    "array([[0., 0., 0.],\n",
    "       [0., 0., 0.],\n",
    "       [0., 0., 0.]])\n",
    "```\n",
    "\n",
    "\n",
    "\n",
    "\n",
    "\n",
    "__Wskazówka:__ Użyj funkcji _np.zeros_like()_."
   ]
  },
  {
   "cell_type": "code",
   "metadata": {
    "id": "Nb5kpwa3Sh-P",
    "ExecuteTime": {
     "end_time": "2025-04-08T18:18:00.359921Z",
     "start_time": "2025-04-08T18:18:00.357094Z"
    }
   },
   "source": "print(np.zeros_like(A))",
   "outputs": [
    {
     "name": "stdout",
     "output_type": "stream",
     "text": [
      "[[0. 0. 0.]\n",
      " [0. 0. 0.]\n",
      " [0. 0. 0.]]\n"
     ]
    }
   ],
   "execution_count": 6
  },
  {
   "cell_type": "markdown",
   "metadata": {
    "id": "PunXd_Ey16so"
   },
   "source": [
    "### <a name='6'></a> Ćwiczenie 36\n",
    "\n",
    "Zbuduj tablicę o identycznym kształcie i typie danych jak tablica $A$ oraz wypełnij ją stałą wartością 9.99.\n",
    "\n",
    "\n",
    "```\n",
    "A = np.array([[4.99, 3.49, 9.99],\n",
    "              [1.99, 9.99, 14.99],\n",
    "              [14.99, 2.39, 7.29]])\n",
    "```\n",
    "\n",
    "__Oczekiwany wynik:__\n",
    "\n",
    "\n",
    "```\n",
    "array([[9.99, 9.99, 9.99],\n",
    "       [9.99, 9.99, 9.99],\n",
    "       [9.99, 9.99, 9.99]])\n",
    "```\n",
    "\n",
    "\n",
    "\n",
    "__Wskazówka:__ Użyj funkcji _np.full_like()_."
   ]
  },
  {
   "cell_type": "code",
   "metadata": {
    "id": "XigJhXuPUQ4_",
    "ExecuteTime": {
     "end_time": "2025-04-08T18:18:00.372479Z",
     "start_time": "2025-04-08T18:18:00.370033Z"
    }
   },
   "source": "print(np.full_like(A, 9.99))",
   "outputs": [
    {
     "name": "stdout",
     "output_type": "stream",
     "text": [
      "[[9.99 9.99 9.99]\n",
      " [9.99 9.99 9.99]\n",
      " [9.99 9.99 9.99]]\n"
     ]
    }
   ],
   "execution_count": 7
  },
  {
   "cell_type": "markdown",
   "metadata": {
    "id": "hOhqDRz618Tx"
   },
   "source": [
    "### <a name='7'></a> Ćwiczenie 37\n",
    "Zbuduj tablicę dwuwymiarową (macierz kwadratową dolną trójkątną) podnaną poniżej:\n",
    "\n",
    "\n",
    "```\n",
    "array([[1., 0., 0., 0., 0.],\n",
    "       [1., 1., 0., 0., 0.],\n",
    "       [1., 1., 1., 0., 0.],\n",
    "       [1., 1., 1., 1., 0.],\n",
    "       [1., 1., 1., 1., 1.]])\n",
    "```\n",
    "__Wskazówka:__ Użyj funkcji _np.tri()_.\n"
   ]
  },
  {
   "cell_type": "code",
   "metadata": {
    "id": "0T6tBTzeVDN7",
    "ExecuteTime": {
     "end_time": "2025-04-08T18:18:00.389253Z",
     "start_time": "2025-04-08T18:18:00.386598Z"
    }
   },
   "source": "print(np.tri(5))",
   "outputs": [
    {
     "name": "stdout",
     "output_type": "stream",
     "text": [
      "[[1. 0. 0. 0. 0.]\n",
      " [1. 1. 0. 0. 0.]\n",
      " [1. 1. 1. 0. 0.]\n",
      " [1. 1. 1. 1. 0.]\n",
      " [1. 1. 1. 1. 1.]]\n"
     ]
    }
   ],
   "execution_count": 8
  },
  {
   "cell_type": "markdown",
   "metadata": {
    "id": "TXUd_4631-gw"
   },
   "source": [
    "### <a name='8'></a> Ćwiczenie 38\n",
    "Stwórz dowolną tablicę 3-wymiarową o kształcie $(2, 3, 4)$."
   ]
  },
  {
   "cell_type": "code",
   "metadata": {
    "id": "NZoI-8PeXudZ",
    "ExecuteTime": {
     "end_time": "2025-04-08T18:18:00.408077Z",
     "start_time": "2025-04-08T18:18:00.403704Z"
    }
   },
   "source": [
    "np.array([[[5,4,6,4],\n",
    "           [3,2,4,2],\n",
    "           [4,7,9,5]],\n",
    "\n",
    "           [[4,6,2,4],\n",
    "            [4,3,5,3],\n",
    "            [5,2,4,2]]])# tutaj wpisz rozwiązanie"
   ],
   "outputs": [
    {
     "data": {
      "text/plain": [
       "array([[[5, 4, 6, 4],\n",
       "        [3, 2, 4, 2],\n",
       "        [4, 7, 9, 5]],\n",
       "\n",
       "       [[4, 6, 2, 4],\n",
       "        [4, 3, 5, 3],\n",
       "        [5, 2, 4, 2]]])"
      ]
     },
     "execution_count": 9,
     "metadata": {},
     "output_type": "execute_result"
    }
   ],
   "execution_count": 9
  },
  {
   "cell_type": "markdown",
   "metadata": {
    "id": "tgI6xEn-2AQo"
   },
   "source": [
    "### <a name='9'></a> Ćwiczenie 39\n",
    "\n",
    "Wygeneruj dwuwymiarową tablicę o kształcie _(200, 300)_ wypełnioną wartościami losowymi od 0 do 255 włacznie i typie danych _np.uint8_ i przypisz do zmiennej _image_."
   ]
  },
  {
   "cell_type": "code",
   "metadata": {
    "id": "4UXbFDEVZr1J",
    "ExecuteTime": {
     "end_time": "2025-04-08T18:18:00.425313Z",
     "start_time": "2025-04-08T18:18:00.421756Z"
    }
   },
   "source": [
    "image = np.random.randint(0,256,size = (200,300),dtype=np.uint8)\n",
    "print(image)"
   ],
   "outputs": [
    {
     "name": "stdout",
     "output_type": "stream",
     "text": [
      "[[242  14 214 ... 222 107 243]\n",
      " [ 46   9  15 ... 155  29 159]\n",
      " [215 102 242 ...  99 183  29]\n",
      " ...\n",
      " [143 101 115 ... 105 212  47]\n",
      " [ 83 231  62 ... 188  92 228]\n",
      " [112  90 242 ... 144 165 176]]\n"
     ]
    }
   ],
   "execution_count": 10
  }
 ]
}

{
 "nbformat": 4,
 "nbformat_minor": 0,
 "metadata": {
  "colab": {
   "provenance": []
  },
  "kernelspec": {
   "name": "python3",
   "display_name": "Python 3 (ipykernel)",
   "language": "python"
  }
 },
 "cells": [
  {
   "cell_type": "markdown",
   "metadata": {
    "id": "zeLOLmTj1kBM"
   },
   "source": [
    "### <a name='0'></a>Import biblioteki"
   ]
  },
  {
   "cell_type": "code",
   "metadata": {
    "id": "HXMB7SMe1Wnz",
    "ExecuteTime": {
     "end_time": "2025-04-07T19:14:19.814268Z",
     "start_time": "2025-04-07T19:14:19.759229Z"
    }
   },
   "source": [
    "import numpy as np\n",
    "\n",
    "np.__version__"
   ],
   "outputs": [
    {
     "data": {
      "text/plain": [
       "'2.0.2'"
      ]
     },
     "execution_count": 1,
     "metadata": {},
     "output_type": "execute_result"
    }
   ],
   "execution_count": 1
  },
  {
   "cell_type": "markdown",
   "metadata": {
    "id": "cyc70pMe1oCg"
   },
   "source": [
    "### <a name='1'></a> Ćwiczenie 21\n",
    "Wygeneruj poniższą tablicę numpy. Zapisz tablicę do pliku bianarnego o nazwie _'array.npy'_ i następnie wczytaj z powrotem ten plik do innej zmiennej.\n",
    "\n",
    "\n",
    "```\n",
    "array([[ 0,  1,  2,  3],\n",
    "       [ 4,  5,  6,  7],\n",
    "       [ 8,  9, 10, 11]])\n",
    "```\n",
    "\n",
    "\n",
    "__Wskazówka:__ Użyj funkcji _np.save()_ oraz _np.load()_."
   ]
  },
  {
   "cell_type": "code",
   "metadata": {
    "id": "MhvZKgtPKAOF",
    "ExecuteTime": {
     "end_time": "2025-04-07T19:17:21.241821Z",
     "start_time": "2025-04-07T19:17:21.235866Z"
    }
   },
   "source": [
    "A = np.arange(12).reshape((-1,4))\n",
    "np.save('array.npy', A)\n",
    "B = np.load('array.npy')\n",
    "print(B)"
   ],
   "outputs": [
    {
     "name": "stdout",
     "output_type": "stream",
     "text": [
      "[[ 0  1  2  3]\n",
      " [ 4  5  6  7]\n",
      " [ 8  9 10 11]]\n"
     ]
    }
   ],
   "execution_count": 11
  },
  {
   "cell_type": "markdown",
   "metadata": {
    "id": "J9pY1rtr1sC0"
   },
   "source": [
    "### <a name='2'></a> Ćwiczenie 22\n",
    "Wygeneruj ponizszą tablicę numpy:\n",
    "\n",
    "\n",
    "```\n",
    "array([[ 0,  1,  2,  3],\n",
    "       [ 4,  5,  6,  7],\n",
    "       [ 8,  9, 10, 11]])\n",
    "```\n",
    "\n",
    "\n",
    "Zapisz tablicę do pliku tekstowego o nazwie _'array.txt'_ z dokładnością do drugiego miejsca po przecinku i następnie wczytaj z powrotem ten plik do innej zmiennej.\n",
    "\n",
    "__Wskazówka:__ Użyj funkcji _np.savetxt()_ oraz _np.loadtxt()_.\n"
   ]
  },
  {
   "cell_type": "code",
   "metadata": {
    "id": "Ac7M7bDhLAlf",
    "ExecuteTime": {
     "end_time": "2025-04-07T19:19:28.734267Z",
     "start_time": "2025-04-07T19:19:28.730551Z"
    }
   },
   "source": [
    "np.savetxt('array.txt', A, fmt = '%0.2f')\n",
    "B = np.loadtxt('array.txt')"
   ],
   "outputs": [],
   "execution_count": 14
  },
  {
   "cell_type": "markdown",
   "metadata": {
    "id": "XQLYT2m11wVG"
   },
   "source": [
    "### <a name='3'></a> Ćwiczenie 23\n",
    "Wygeneruj i przekształć poniższą tablicę numpy na listę.\n",
    "\n",
    "\n",
    "```\n",
    "array([[ 0,  1,  2,  3],\n",
    "       [ 4,  5,  6,  7],\n",
    "       [ 8,  9, 10, 11]])\n",
    "```\n",
    "\n",
    "\n",
    "\n",
    "__Wskazówka:__ Użyj metody _np.array.tolist()_."
   ]
  },
  {
   "cell_type": "code",
   "metadata": {
    "id": "Dtu-EJViT1Os",
    "ExecuteTime": {
     "end_time": "2025-04-07T19:21:42.037029Z",
     "start_time": "2025-04-07T19:21:42.032067Z"
    }
   },
   "source": "A.tolist()",
   "outputs": [
    {
     "data": {
      "text/plain": [
       "[[0, 1, 2, 3], [4, 5, 6, 7], [8, 9, 10, 11]]"
      ]
     },
     "execution_count": 17,
     "metadata": {},
     "output_type": "execute_result"
    }
   ],
   "execution_count": 17
  },
  {
   "cell_type": "markdown",
   "metadata": {
    "id": "4xTKSUzg10MK"
   },
   "source": [
    "### <a name='4'></a> Ćwiczenie 24\n",
    "Podana jest poniższa tablica numpy:\n",
    "\n",
    "```\n",
    "array([[ 0,  1,  2,  3],\n",
    "       [ 4,  5,  6,  7],\n",
    "       [ 8,  9, 10, 11]])\n",
    "```\n",
    "Używając operatora wycinania przekształć tablicę w poniższe:\n",
    "\n",
    "* zamiana wierszy (pierwszy z ostatnim)\n",
    "\n",
    "```\n",
    "array([[ 8,  9, 10, 11],\n",
    "       [ 4,  5,  6,  7],\n",
    "       [ 0,  1,  2,  3]])\n",
    "```\n",
    "\n",
    "\n",
    "\n",
    "\n",
    "\n"
   ]
  },
  {
   "cell_type": "code",
   "metadata": {
    "id": "1iqUDmG3V7sM",
    "ExecuteTime": {
     "end_time": "2025-04-07T19:22:31.322256Z",
     "start_time": "2025-04-07T19:22:31.318724Z"
    }
   },
   "source": "print(A[::-1])",
   "outputs": [
    {
     "name": "stdout",
     "output_type": "stream",
     "text": [
      "[[ 8  9 10 11]\n",
      " [ 4  5  6  7]\n",
      " [ 0  1  2  3]]\n"
     ]
    }
   ],
   "execution_count": 19
  },
  {
   "cell_type": "markdown",
   "metadata": {
    "id": "QwFXH2dIEhMp"
   },
   "source": [
    "* zamiana kolumn (odwrócona kolejność)\n",
    "\n",
    "\n",
    "```\n",
    "array([[ 3,  2,  1,  0],\n",
    "       [ 7,  6,  5,  4],\n",
    "       [11, 10,  9,  8]])\n",
    "```\n"
   ]
  },
  {
   "cell_type": "code",
   "metadata": {
    "id": "dux6cn8YV-q_",
    "ExecuteTime": {
     "end_time": "2025-04-07T19:23:04.107155Z",
     "start_time": "2025-04-07T19:23:04.102998Z"
    }
   },
   "source": "print(A[:,::-1])",
   "outputs": [
    {
     "name": "stdout",
     "output_type": "stream",
     "text": [
      "[[ 3  2  1  0]\n",
      " [ 7  6  5  4]\n",
      " [11 10  9  8]]\n"
     ]
    }
   ],
   "execution_count": 21
  },
  {
   "cell_type": "markdown",
   "metadata": {
    "id": "i5mm0dexEoDe"
   },
   "source": [
    "* zamiana wierszy i kolumn (odwrócone kolejności)\n",
    "\n",
    "\n",
    "```\n",
    "array([[11, 10,  9,  8],\n",
    "       [ 7,  6,  5,  4],\n",
    "       [ 3,  2,  1,  0]])\n",
    "```       "
   ]
  },
  {
   "cell_type": "code",
   "metadata": {
    "id": "ZqkvfYoKWHLp",
    "ExecuteTime": {
     "end_time": "2025-04-07T19:23:27.233650Z",
     "start_time": "2025-04-07T19:23:27.230135Z"
    }
   },
   "source": "print(A[::-1,::-1])",
   "outputs": [
    {
     "name": "stdout",
     "output_type": "stream",
     "text": [
      "[[11 10  9  8]\n",
      " [ 7  6  5  4]\n",
      " [ 3  2  1  0]]\n"
     ]
    }
   ],
   "execution_count": 22
  },
  {
   "cell_type": "markdown",
   "metadata": {
    "id": "o3HKIKlP15Ro"
   },
   "source": [
    "### <a name='5'></a> Ćwiczenie 25\n",
    "Podaną poniżej tablicę numpy:\n",
    "\n",
    "```\n",
    "array([[1., 1., 1., 1.],\n",
    "       [1., 1., 1., 1.],\n",
    "       [1., 1., 1., 1.],\n",
    "       [1., 1., 1., 1.]])\n",
    "```\n",
    "Przekształć na tablicę:\n",
    "\n",
    "\n",
    "```\n",
    "array([[0., 0., 0., 0., 0., 0.],\n",
    "       [0., 1., 1., 1., 1., 0.],\n",
    "       [0., 1., 1., 1., 1., 0.],\n",
    "       [0., 1., 1., 1., 1., 0.],\n",
    "       [0., 1., 1., 1., 1., 0.],\n",
    "       [0., 0., 0., 0., 0., 0.]])\n",
    "```\n",
    "__Wskazówka:__ Użyj funkcji _np.pad()_.\n",
    "\n",
    "\n",
    "\n"
   ]
  },
  {
   "cell_type": "code",
   "metadata": {
    "id": "enLY_Qz4qGdJ",
    "ExecuteTime": {
     "end_time": "2025-04-07T19:24:39.519905Z",
     "start_time": "2025-04-07T19:24:39.516355Z"
    }
   },
   "source": [
    "A = np.ones((4,4))\n",
    "print(A)\n",
    "print(np.pad(A,pad_width=1))"
   ],
   "outputs": [
    {
     "name": "stdout",
     "output_type": "stream",
     "text": [
      "[[1. 1. 1. 1.]\n",
      " [1. 1. 1. 1.]\n",
      " [1. 1. 1. 1.]\n",
      " [1. 1. 1. 1.]]\n",
      "[[0. 0. 0. 0. 0. 0.]\n",
      " [0. 1. 1. 1. 1. 0.]\n",
      " [0. 1. 1. 1. 1. 0.]\n",
      " [0. 1. 1. 1. 1. 0.]\n",
      " [0. 1. 1. 1. 1. 0.]\n",
      " [0. 0. 0. 0. 0. 0.]]\n"
     ]
    }
   ],
   "execution_count": 26
  },
  {
   "cell_type": "markdown",
   "metadata": {
    "id": "PunXd_Ey16so"
   },
   "source": [
    "### <a name='6'></a> Ćwiczenie 26\n",
    "Podaną poniżej tablicę numpy:\n",
    "\n",
    "```\n",
    "array([[0, 0, 0, 0, 0, 0],\n",
    "       [0, 0, 0, 0, 0, 0],\n",
    "       [0, 0, 0, 0, 0, 0],\n",
    "       [0, 0, 0, 0, 0, 0],\n",
    "       [0, 0, 0, 0, 0, 0],\n",
    "       [0, 0, 0, 0, 0, 0]])\n",
    "```\n",
    "Przekształć na tablicę:\n",
    "\n",
    "\n",
    "```\n",
    "array([[10,  0, 10,  0, 10,  0],\n",
    "       [ 5,  0,  5,  0,  5,  0],\n",
    "       [10,  0, 10,  0, 10,  0],\n",
    "       [ 5,  0,  5,  0,  5,  0],\n",
    "       [10,  0, 10,  0, 10,  0],\n",
    "       [ 5,  0,  5,  0,  5,  0]])\n",
    "```\n",
    "__Wskazówka:__ Użyj operatora wycinania oraz przypisz odpowiednie wartości.\n",
    "\n",
    "\n",
    "\n"
   ]
  },
  {
   "cell_type": "code",
   "metadata": {
    "id": "xOVKpjvMr7bX",
    "ExecuteTime": {
     "end_time": "2025-04-07T19:29:03.119572Z",
     "start_time": "2025-04-07T19:29:03.115611Z"
    }
   },
   "source": [
    "A = np.zeros((6,6), dtype = 'int')\n",
    "A[::2,::2] = 10\n",
    "A[1::2,::2] = 5\n",
    "print(A)"
   ],
   "outputs": [
    {
     "name": "stdout",
     "output_type": "stream",
     "text": [
      "[[10  0 10  0 10  0]\n",
      " [ 5  0  5  0  5  0]\n",
      " [10  0 10  0 10  0]\n",
      " [ 5  0  5  0  5  0]\n",
      " [10  0 10  0 10  0]\n",
      " [ 5  0  5  0  5  0]]\n"
     ]
    }
   ],
   "execution_count": 38
  },
  {
   "cell_type": "markdown",
   "metadata": {
    "id": "hOhqDRz618Tx"
   },
   "source": [
    "### <a name='7'></a> Ćwiczenie 27\n",
    "Połącz podane poniżej tablice $A$ oraz $B$ w jedną.\n",
    "\n",
    "\n",
    "```\n",
    "A = np.arange(12).reshape(-1, 4)\n",
    "B = np.array([[4, 3, 7, 2],\n",
    "              [0, 5, 2, 6]])\n",
    "```\n",
    "\n",
    "\n",
    "\n",
    "\n",
    "__Oczekiwany rezultat:__\n",
    "\n",
    "\n",
    "```\n",
    "array([[ 0,  1,  2,  3],\n",
    "       [ 4,  5,  6,  7],\n",
    "       [ 8,  9, 10, 11],\n",
    "       [ 4,  3,  7,  2],\n",
    "       [ 0,  5,  2,  6]])\n",
    "```\n",
    "__Wskazówka:__ Użyj funkcji _np.append()_.\n"
   ]
  },
  {
   "cell_type": "code",
   "metadata": {
    "id": "CCHfKU4Y3Z-X",
    "ExecuteTime": {
     "end_time": "2025-04-07T19:30:52.772967Z",
     "start_time": "2025-04-07T19:30:52.768680Z"
    }
   },
   "source": [
    "A = np.arange(12).reshape(-1, 4)\n",
    "B = np.array([[4, 3, 7, 2],\n",
    "              [0, 5, 2, 6]])\n",
    "print(np.append(A, B,axis=0))"
   ],
   "outputs": [
    {
     "name": "stdout",
     "output_type": "stream",
     "text": [
      "[[ 0  1  2  3]\n",
      " [ 4  5  6  7]\n",
      " [ 8  9 10 11]\n",
      " [ 4  3  7  2]\n",
      " [ 0  5  2  6]]\n"
     ]
    }
   ],
   "execution_count": 43
  },
  {
   "cell_type": "markdown",
   "metadata": {
    "id": "TXUd_4631-gw"
   },
   "source": [
    "### <a name='8'></a> Ćwiczenie 28\n",
    "Z podanych poniżej tablic $A$ i $B$ wydobądź elementy wspólne (przecięcie) tablic.\n",
    "\n",
    "```\n",
    "A = np.arange(8).reshape(-1, 4)\n",
    "B = np.array([[9, 10, 11, 3],\n",
    "              [2, 8, 0, 9]])      \n",
    "```\n",
    "\n",
    "\n",
    "\n",
    "__Wskazówka:__ Użyj funkcji _np.intersect1d()_."
   ]
  },
  {
   "cell_type": "code",
   "metadata": {
    "id": "pgvyad4UCI6Q",
    "ExecuteTime": {
     "end_time": "2025-04-07T19:32:05.368613Z",
     "start_time": "2025-04-07T19:32:05.361352Z"
    }
   },
   "source": [
    "A = np.arange(8).reshape(-1, 4)\n",
    "B = np.array([[9, 10, 11, 3],\n",
    "              [2, 8, 0, 9]])\n",
    "np.intersect1d(A,B)"
   ],
   "outputs": [
    {
     "data": {
      "text/plain": [
       "array([0, 2, 3])"
      ]
     },
     "execution_count": 44,
     "metadata": {},
     "output_type": "execute_result"
    }
   ],
   "execution_count": 44
  },
  {
   "cell_type": "markdown",
   "metadata": {
    "id": "tgI6xEn-2AQo"
   },
   "source": [
    "### <a name='9'></a> Ćwiczenie 29\n",
    "Podana jest poniższa tablica numpy $A$.\n",
    "Znajdź unikalne wartości tej tablicy.\n",
    "\n",
    "\n",
    "```\n",
    "A = np.array([[5, 1, 2, 1, 2],\n",
    "              [9, 1, 9, 7, 5],\n",
    "              [4, 1, 5, 7, 9]])\n",
    "```\n",
    "\n",
    "\n",
    "__Wskazówka:__ Użyj funkcji _np.unique()_."
   ]
  },
  {
   "cell_type": "code",
   "metadata": {
    "id": "h3Q6RADIELkH",
    "ExecuteTime": {
     "end_time": "2025-04-07T19:32:35.943955Z",
     "start_time": "2025-04-07T19:32:35.939029Z"
    }
   },
   "source": [
    "A = np.array([[5, 1, 2, 1, 2],\n",
    "              [9, 1, 9, 7, 5],\n",
    "              [4, 1, 5, 7, 9]])\n",
    "np.unique(A)"
   ],
   "outputs": [
    {
     "data": {
      "text/plain": [
       "array([1, 2, 4, 5, 7, 9])"
      ]
     },
     "execution_count": 45,
     "metadata": {},
     "output_type": "execute_result"
    }
   ],
   "execution_count": 45
  },
  {
   "cell_type": "markdown",
   "metadata": {
    "id": "wxhpf-uq2B1I"
   },
   "source": [
    "### <a name='10'></a> Ćwiczenie 30\n",
    "Podana jest poniższa tablica:\n",
    "\n",
    "\n",
    "```\n",
    "A = np.array([[0.4, 0.3, 0.3],\n",
    "              [0.1, 0.1, 0.8],\n",
    "              [0.2, 0.5, 0.3]])\n",
    "```\n",
    "\n",
    "\n",
    "\n",
    "Zwróć indeksy na których stoją maksymalne wartości dla danego wiersza.\n",
    "\n",
    "__Wskazówka:__ Użyj funkcji _np.argmax()_."
   ]
  },
  {
   "cell_type": "code",
   "metadata": {
    "id": "YcQFRYUyFWbY",
    "ExecuteTime": {
     "end_time": "2025-04-07T19:33:27.485593Z",
     "start_time": "2025-04-07T19:33:27.479846Z"
    }
   },
   "source": [
    "A = np.array([[0.4, 0.3, 0.3],\n",
    "              [0.1, 0.1, 0.8],\n",
    "              [0.2, 0.5, 0.3]])\n",
    "\n",
    "np.argmax(A, axis = 0)"
   ],
   "outputs": [
    {
     "data": {
      "text/plain": [
       "array([0, 2, 1])"
      ]
     },
     "execution_count": 50,
     "metadata": {},
     "output_type": "execute_result"
    }
   ],
   "execution_count": 50
  },
  {
   "metadata": {},
   "cell_type": "code",
   "outputs": [],
   "execution_count": null,
   "source": ""
  }
 ]
}

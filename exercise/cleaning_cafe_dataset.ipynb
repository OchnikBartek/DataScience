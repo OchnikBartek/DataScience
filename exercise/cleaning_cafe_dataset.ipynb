{
 "cells": [
  {
   "cell_type": "code",
   "id": "initial_id",
   "metadata": {
    "collapsed": true,
    "ExecuteTime": {
     "end_time": "2025-04-08T17:45:49.459934Z",
     "start_time": "2025-04-08T17:45:49.456669Z"
    }
   },
   "source": [
    "import pandas as pd\n",
    "import numpy as np"
   ],
   "outputs": [],
   "execution_count": 90
  },
  {
   "metadata": {
    "ExecuteTime": {
     "end_time": "2025-04-08T17:45:49.484678Z",
     "start_time": "2025-04-08T17:45:49.467557Z"
    }
   },
   "cell_type": "code",
   "source": [
    "df = pd.read_csv('dirty_cafe.csv')\n",
    "df.head()"
   ],
   "id": "bc1f5fed86dd60e1",
   "outputs": [
    {
     "data": {
      "text/plain": [
       "  Transaction ID    Item Quantity Price Per Unit Total Spent  Payment Method  \\\n",
       "0    TXN_1961373  Coffee        2            2.0         4.0     Credit Card   \n",
       "1    TXN_4977031    Cake        4            3.0        12.0            Cash   \n",
       "2    TXN_4271903  Cookie        4            1.0       ERROR     Credit Card   \n",
       "3    TXN_7034554   Salad        2            5.0        10.0         UNKNOWN   \n",
       "4    TXN_3160411  Coffee        2            2.0         4.0  Digital Wallet   \n",
       "\n",
       "   Location Transaction Date  \n",
       "0  Takeaway       2023-09-08  \n",
       "1  In-store       2023-05-16  \n",
       "2  In-store       2023-07-19  \n",
       "3   UNKNOWN       2023-04-27  \n",
       "4  In-store       2023-06-11  "
      ],
      "text/html": [
       "<div>\n",
       "<style scoped>\n",
       "    .dataframe tbody tr th:only-of-type {\n",
       "        vertical-align: middle;\n",
       "    }\n",
       "\n",
       "    .dataframe tbody tr th {\n",
       "        vertical-align: top;\n",
       "    }\n",
       "\n",
       "    .dataframe thead th {\n",
       "        text-align: right;\n",
       "    }\n",
       "</style>\n",
       "<table border=\"1\" class=\"dataframe\">\n",
       "  <thead>\n",
       "    <tr style=\"text-align: right;\">\n",
       "      <th></th>\n",
       "      <th>Transaction ID</th>\n",
       "      <th>Item</th>\n",
       "      <th>Quantity</th>\n",
       "      <th>Price Per Unit</th>\n",
       "      <th>Total Spent</th>\n",
       "      <th>Payment Method</th>\n",
       "      <th>Location</th>\n",
       "      <th>Transaction Date</th>\n",
       "    </tr>\n",
       "  </thead>\n",
       "  <tbody>\n",
       "    <tr>\n",
       "      <th>0</th>\n",
       "      <td>TXN_1961373</td>\n",
       "      <td>Coffee</td>\n",
       "      <td>2</td>\n",
       "      <td>2.0</td>\n",
       "      <td>4.0</td>\n",
       "      <td>Credit Card</td>\n",
       "      <td>Takeaway</td>\n",
       "      <td>2023-09-08</td>\n",
       "    </tr>\n",
       "    <tr>\n",
       "      <th>1</th>\n",
       "      <td>TXN_4977031</td>\n",
       "      <td>Cake</td>\n",
       "      <td>4</td>\n",
       "      <td>3.0</td>\n",
       "      <td>12.0</td>\n",
       "      <td>Cash</td>\n",
       "      <td>In-store</td>\n",
       "      <td>2023-05-16</td>\n",
       "    </tr>\n",
       "    <tr>\n",
       "      <th>2</th>\n",
       "      <td>TXN_4271903</td>\n",
       "      <td>Cookie</td>\n",
       "      <td>4</td>\n",
       "      <td>1.0</td>\n",
       "      <td>ERROR</td>\n",
       "      <td>Credit Card</td>\n",
       "      <td>In-store</td>\n",
       "      <td>2023-07-19</td>\n",
       "    </tr>\n",
       "    <tr>\n",
       "      <th>3</th>\n",
       "      <td>TXN_7034554</td>\n",
       "      <td>Salad</td>\n",
       "      <td>2</td>\n",
       "      <td>5.0</td>\n",
       "      <td>10.0</td>\n",
       "      <td>UNKNOWN</td>\n",
       "      <td>UNKNOWN</td>\n",
       "      <td>2023-04-27</td>\n",
       "    </tr>\n",
       "    <tr>\n",
       "      <th>4</th>\n",
       "      <td>TXN_3160411</td>\n",
       "      <td>Coffee</td>\n",
       "      <td>2</td>\n",
       "      <td>2.0</td>\n",
       "      <td>4.0</td>\n",
       "      <td>Digital Wallet</td>\n",
       "      <td>In-store</td>\n",
       "      <td>2023-06-11</td>\n",
       "    </tr>\n",
       "  </tbody>\n",
       "</table>\n",
       "</div>"
      ]
     },
     "execution_count": 91,
     "metadata": {},
     "output_type": "execute_result"
    }
   ],
   "execution_count": 91
  },
  {
   "metadata": {
    "ExecuteTime": {
     "end_time": "2025-04-08T17:45:49.543986Z",
     "start_time": "2025-04-08T17:45:49.525967Z"
    }
   },
   "cell_type": "code",
   "source": "df.describe().T",
   "id": "a04bc4f9f7fdebce",
   "outputs": [
    {
     "data": {
      "text/plain": [
       "                  count unique             top  freq\n",
       "Transaction ID    10000  10000     TXN_1961373     1\n",
       "Item               9667     10           Juice  1171\n",
       "Quantity           9862      7               5  2013\n",
       "Price Per Unit     9821      8             3.0  2429\n",
       "Total Spent        9827     19             6.0   979\n",
       "Payment Method     7421      5  Digital Wallet  2291\n",
       "Location           6735      4        Takeaway  3022\n",
       "Transaction Date   9841    367         UNKNOWN   159"
      ],
      "text/html": [
       "<div>\n",
       "<style scoped>\n",
       "    .dataframe tbody tr th:only-of-type {\n",
       "        vertical-align: middle;\n",
       "    }\n",
       "\n",
       "    .dataframe tbody tr th {\n",
       "        vertical-align: top;\n",
       "    }\n",
       "\n",
       "    .dataframe thead th {\n",
       "        text-align: right;\n",
       "    }\n",
       "</style>\n",
       "<table border=\"1\" class=\"dataframe\">\n",
       "  <thead>\n",
       "    <tr style=\"text-align: right;\">\n",
       "      <th></th>\n",
       "      <th>count</th>\n",
       "      <th>unique</th>\n",
       "      <th>top</th>\n",
       "      <th>freq</th>\n",
       "    </tr>\n",
       "  </thead>\n",
       "  <tbody>\n",
       "    <tr>\n",
       "      <th>Transaction ID</th>\n",
       "      <td>10000</td>\n",
       "      <td>10000</td>\n",
       "      <td>TXN_1961373</td>\n",
       "      <td>1</td>\n",
       "    </tr>\n",
       "    <tr>\n",
       "      <th>Item</th>\n",
       "      <td>9667</td>\n",
       "      <td>10</td>\n",
       "      <td>Juice</td>\n",
       "      <td>1171</td>\n",
       "    </tr>\n",
       "    <tr>\n",
       "      <th>Quantity</th>\n",
       "      <td>9862</td>\n",
       "      <td>7</td>\n",
       "      <td>5</td>\n",
       "      <td>2013</td>\n",
       "    </tr>\n",
       "    <tr>\n",
       "      <th>Price Per Unit</th>\n",
       "      <td>9821</td>\n",
       "      <td>8</td>\n",
       "      <td>3.0</td>\n",
       "      <td>2429</td>\n",
       "    </tr>\n",
       "    <tr>\n",
       "      <th>Total Spent</th>\n",
       "      <td>9827</td>\n",
       "      <td>19</td>\n",
       "      <td>6.0</td>\n",
       "      <td>979</td>\n",
       "    </tr>\n",
       "    <tr>\n",
       "      <th>Payment Method</th>\n",
       "      <td>7421</td>\n",
       "      <td>5</td>\n",
       "      <td>Digital Wallet</td>\n",
       "      <td>2291</td>\n",
       "    </tr>\n",
       "    <tr>\n",
       "      <th>Location</th>\n",
       "      <td>6735</td>\n",
       "      <td>4</td>\n",
       "      <td>Takeaway</td>\n",
       "      <td>3022</td>\n",
       "    </tr>\n",
       "    <tr>\n",
       "      <th>Transaction Date</th>\n",
       "      <td>9841</td>\n",
       "      <td>367</td>\n",
       "      <td>UNKNOWN</td>\n",
       "      <td>159</td>\n",
       "    </tr>\n",
       "  </tbody>\n",
       "</table>\n",
       "</div>"
      ]
     },
     "execution_count": 92,
     "metadata": {},
     "output_type": "execute_result"
    }
   ],
   "execution_count": 92
  },
  {
   "metadata": {
    "ExecuteTime": {
     "end_time": "2025-04-08T17:45:49.618790Z",
     "start_time": "2025-04-08T17:45:49.611286Z"
    }
   },
   "cell_type": "code",
   "source": "df.info()",
   "id": "2faf24edd370bd25",
   "outputs": [
    {
     "name": "stdout",
     "output_type": "stream",
     "text": [
      "<class 'pandas.core.frame.DataFrame'>\n",
      "RangeIndex: 10000 entries, 0 to 9999\n",
      "Data columns (total 8 columns):\n",
      " #   Column            Non-Null Count  Dtype \n",
      "---  ------            --------------  ----- \n",
      " 0   Transaction ID    10000 non-null  object\n",
      " 1   Item              9667 non-null   object\n",
      " 2   Quantity          9862 non-null   object\n",
      " 3   Price Per Unit    9821 non-null   object\n",
      " 4   Total Spent       9827 non-null   object\n",
      " 5   Payment Method    7421 non-null   object\n",
      " 6   Location          6735 non-null   object\n",
      " 7   Transaction Date  9841 non-null   object\n",
      "dtypes: object(8)\n",
      "memory usage: 625.1+ KB\n"
     ]
    }
   ],
   "execution_count": 93
  },
  {
   "metadata": {
    "ExecuteTime": {
     "end_time": "2025-04-08T17:45:49.661818Z",
     "start_time": "2025-04-08T17:45:49.653596Z"
    }
   },
   "cell_type": "code",
   "source": "df.duplicated().sum()",
   "id": "58790887c5d851ee",
   "outputs": [
    {
     "data": {
      "text/plain": [
       "np.int64(0)"
      ]
     },
     "execution_count": 94,
     "metadata": {},
     "output_type": "execute_result"
    }
   ],
   "execution_count": 94
  },
  {
   "metadata": {
    "ExecuteTime": {
     "end_time": "2025-04-08T17:45:49.679444Z",
     "start_time": "2025-04-08T17:45:49.666812Z"
    }
   },
   "cell_type": "code",
   "source": "df.replace( {'UNKNOWN': np.nan , 'ERROR': np.nan }, inplace=True)",
   "id": "cff0038c7e544dd5",
   "outputs": [],
   "execution_count": 95
  },
  {
   "metadata": {
    "ExecuteTime": {
     "end_time": "2025-04-08T17:45:49.707863Z",
     "start_time": "2025-04-08T17:45:49.695952Z"
    }
   },
   "cell_type": "code",
   "source": [
    "df['Price Per Unit'] = pd.to_numeric( df['Price Per Unit'] ,errors=  'coerce')\n",
    "df['Quantity'] =pd.to_numeric(df['Quantity'], errors= 'coerce')\n",
    "df['Total Spent'] = pd.to_numeric(df['Total Spent'], errors='coerce')\n",
    "df['Transaction Date'] = pd.to_datetime( df['Transaction Date'], errors='coerce')"
   ],
   "id": "33facb455deae5ef",
   "outputs": [],
   "execution_count": 96
  },
  {
   "metadata": {
    "ExecuteTime": {
     "end_time": "2025-04-08T17:45:49.716800Z",
     "start_time": "2025-04-08T17:45:49.712864Z"
    }
   },
   "cell_type": "code",
   "source": "df.dtypes",
   "id": "f02b48e2b452403b",
   "outputs": [
    {
     "data": {
      "text/plain": [
       "Transaction ID              object\n",
       "Item                        object\n",
       "Quantity                   float64\n",
       "Price Per Unit             float64\n",
       "Total Spent                float64\n",
       "Payment Method              object\n",
       "Location                    object\n",
       "Transaction Date    datetime64[ns]\n",
       "dtype: object"
      ]
     },
     "execution_count": 97,
     "metadata": {},
     "output_type": "execute_result"
    }
   ],
   "execution_count": 97
  },
  {
   "metadata": {
    "ExecuteTime": {
     "end_time": "2025-04-08T17:45:49.769610Z",
     "start_time": "2025-04-08T17:45:49.762736Z"
    }
   },
   "cell_type": "code",
   "source": "df.isna().sum()",
   "id": "d189d92f9cc37d6e",
   "outputs": [
    {
     "data": {
      "text/plain": [
       "Transaction ID         0\n",
       "Item                 969\n",
       "Quantity             479\n",
       "Price Per Unit       533\n",
       "Total Spent          502\n",
       "Payment Method      3178\n",
       "Location            3961\n",
       "Transaction Date     460\n",
       "dtype: int64"
      ]
     },
     "execution_count": 98,
     "metadata": {},
     "output_type": "execute_result"
    }
   ],
   "execution_count": 98
  },
  {
   "metadata": {
    "ExecuteTime": {
     "end_time": "2025-04-08T17:45:49.923380Z",
     "start_time": "2025-04-08T17:45:49.917708Z"
    }
   },
   "cell_type": "code",
   "source": "df.dropna(inplace=True)",
   "id": "a08d942337836d14",
   "outputs": [],
   "execution_count": 99
  },
  {
   "metadata": {
    "ExecuteTime": {
     "end_time": "2025-04-08T17:45:49.972054Z",
     "start_time": "2025-04-08T17:45:49.969274Z"
    }
   },
   "cell_type": "code",
   "source": "df.reset_index(drop=True, inplace=True)\n",
   "id": "c618db0e9db7cf41",
   "outputs": [],
   "execution_count": 100
  },
  {
   "metadata": {
    "ExecuteTime": {
     "end_time": "2025-04-08T17:45:49.993633Z",
     "start_time": "2025-04-08T17:45:49.981880Z"
    }
   },
   "cell_type": "code",
   "source": "df",
   "id": "ea9243d887ac107d",
   "outputs": [
    {
     "data": {
      "text/plain": [
       "     Transaction ID      Item  Quantity  Price Per Unit  Total Spent  \\\n",
       "0       TXN_1961373    Coffee       2.0             2.0          4.0   \n",
       "1       TXN_4977031      Cake       4.0             3.0         12.0   \n",
       "2       TXN_3160411    Coffee       2.0             2.0          4.0   \n",
       "3       TXN_2548360     Salad       5.0             5.0         25.0   \n",
       "4       TXN_7619095  Sandwich       2.0             4.0          8.0   \n",
       "...             ...       ...       ...             ...          ...   \n",
       "3084    TXN_9668108      Cake       1.0             3.0          3.0   \n",
       "3085    TXN_9933628  Smoothie       5.0             4.0         20.0   \n",
       "3086    TXN_2858441  Sandwich       2.0             4.0          8.0   \n",
       "3087    TXN_3897619  Sandwich       3.0             4.0         12.0   \n",
       "3088    TXN_6170729  Sandwich       3.0             4.0         12.0   \n",
       "\n",
       "      Payment Method  Location Transaction Date  \n",
       "0        Credit Card  Takeaway       2023-09-08  \n",
       "1               Cash  In-store       2023-05-16  \n",
       "2     Digital Wallet  In-store       2023-06-11  \n",
       "3               Cash  Takeaway       2023-11-07  \n",
       "4               Cash  In-store       2023-05-03  \n",
       "...              ...       ...              ...  \n",
       "3084            Cash  In-store       2023-01-20  \n",
       "3085            Cash  In-store       2023-07-20  \n",
       "3086     Credit Card  In-store       2023-12-14  \n",
       "3087            Cash  Takeaway       2023-02-24  \n",
       "3088            Cash  In-store       2023-11-07  \n",
       "\n",
       "[3089 rows x 8 columns]"
      ],
      "text/html": [
       "<div>\n",
       "<style scoped>\n",
       "    .dataframe tbody tr th:only-of-type {\n",
       "        vertical-align: middle;\n",
       "    }\n",
       "\n",
       "    .dataframe tbody tr th {\n",
       "        vertical-align: top;\n",
       "    }\n",
       "\n",
       "    .dataframe thead th {\n",
       "        text-align: right;\n",
       "    }\n",
       "</style>\n",
       "<table border=\"1\" class=\"dataframe\">\n",
       "  <thead>\n",
       "    <tr style=\"text-align: right;\">\n",
       "      <th></th>\n",
       "      <th>Transaction ID</th>\n",
       "      <th>Item</th>\n",
       "      <th>Quantity</th>\n",
       "      <th>Price Per Unit</th>\n",
       "      <th>Total Spent</th>\n",
       "      <th>Payment Method</th>\n",
       "      <th>Location</th>\n",
       "      <th>Transaction Date</th>\n",
       "    </tr>\n",
       "  </thead>\n",
       "  <tbody>\n",
       "    <tr>\n",
       "      <th>0</th>\n",
       "      <td>TXN_1961373</td>\n",
       "      <td>Coffee</td>\n",
       "      <td>2.0</td>\n",
       "      <td>2.0</td>\n",
       "      <td>4.0</td>\n",
       "      <td>Credit Card</td>\n",
       "      <td>Takeaway</td>\n",
       "      <td>2023-09-08</td>\n",
       "    </tr>\n",
       "    <tr>\n",
       "      <th>1</th>\n",
       "      <td>TXN_4977031</td>\n",
       "      <td>Cake</td>\n",
       "      <td>4.0</td>\n",
       "      <td>3.0</td>\n",
       "      <td>12.0</td>\n",
       "      <td>Cash</td>\n",
       "      <td>In-store</td>\n",
       "      <td>2023-05-16</td>\n",
       "    </tr>\n",
       "    <tr>\n",
       "      <th>2</th>\n",
       "      <td>TXN_3160411</td>\n",
       "      <td>Coffee</td>\n",
       "      <td>2.0</td>\n",
       "      <td>2.0</td>\n",
       "      <td>4.0</td>\n",
       "      <td>Digital Wallet</td>\n",
       "      <td>In-store</td>\n",
       "      <td>2023-06-11</td>\n",
       "    </tr>\n",
       "    <tr>\n",
       "      <th>3</th>\n",
       "      <td>TXN_2548360</td>\n",
       "      <td>Salad</td>\n",
       "      <td>5.0</td>\n",
       "      <td>5.0</td>\n",
       "      <td>25.0</td>\n",
       "      <td>Cash</td>\n",
       "      <td>Takeaway</td>\n",
       "      <td>2023-11-07</td>\n",
       "    </tr>\n",
       "    <tr>\n",
       "      <th>4</th>\n",
       "      <td>TXN_7619095</td>\n",
       "      <td>Sandwich</td>\n",
       "      <td>2.0</td>\n",
       "      <td>4.0</td>\n",
       "      <td>8.0</td>\n",
       "      <td>Cash</td>\n",
       "      <td>In-store</td>\n",
       "      <td>2023-05-03</td>\n",
       "    </tr>\n",
       "    <tr>\n",
       "      <th>...</th>\n",
       "      <td>...</td>\n",
       "      <td>...</td>\n",
       "      <td>...</td>\n",
       "      <td>...</td>\n",
       "      <td>...</td>\n",
       "      <td>...</td>\n",
       "      <td>...</td>\n",
       "      <td>...</td>\n",
       "    </tr>\n",
       "    <tr>\n",
       "      <th>3084</th>\n",
       "      <td>TXN_9668108</td>\n",
       "      <td>Cake</td>\n",
       "      <td>1.0</td>\n",
       "      <td>3.0</td>\n",
       "      <td>3.0</td>\n",
       "      <td>Cash</td>\n",
       "      <td>In-store</td>\n",
       "      <td>2023-01-20</td>\n",
       "    </tr>\n",
       "    <tr>\n",
       "      <th>3085</th>\n",
       "      <td>TXN_9933628</td>\n",
       "      <td>Smoothie</td>\n",
       "      <td>5.0</td>\n",
       "      <td>4.0</td>\n",
       "      <td>20.0</td>\n",
       "      <td>Cash</td>\n",
       "      <td>In-store</td>\n",
       "      <td>2023-07-20</td>\n",
       "    </tr>\n",
       "    <tr>\n",
       "      <th>3086</th>\n",
       "      <td>TXN_2858441</td>\n",
       "      <td>Sandwich</td>\n",
       "      <td>2.0</td>\n",
       "      <td>4.0</td>\n",
       "      <td>8.0</td>\n",
       "      <td>Credit Card</td>\n",
       "      <td>In-store</td>\n",
       "      <td>2023-12-14</td>\n",
       "    </tr>\n",
       "    <tr>\n",
       "      <th>3087</th>\n",
       "      <td>TXN_3897619</td>\n",
       "      <td>Sandwich</td>\n",
       "      <td>3.0</td>\n",
       "      <td>4.0</td>\n",
       "      <td>12.0</td>\n",
       "      <td>Cash</td>\n",
       "      <td>Takeaway</td>\n",
       "      <td>2023-02-24</td>\n",
       "    </tr>\n",
       "    <tr>\n",
       "      <th>3088</th>\n",
       "      <td>TXN_6170729</td>\n",
       "      <td>Sandwich</td>\n",
       "      <td>3.0</td>\n",
       "      <td>4.0</td>\n",
       "      <td>12.0</td>\n",
       "      <td>Cash</td>\n",
       "      <td>In-store</td>\n",
       "      <td>2023-11-07</td>\n",
       "    </tr>\n",
       "  </tbody>\n",
       "</table>\n",
       "<p>3089 rows × 8 columns</p>\n",
       "</div>"
      ]
     },
     "execution_count": 101,
     "metadata": {},
     "output_type": "execute_result"
    }
   ],
   "execution_count": 101
  },
  {
   "metadata": {
    "ExecuteTime": {
     "end_time": "2025-04-08T17:45:50.060071Z",
     "start_time": "2025-04-08T17:45:50.057206Z"
    }
   },
   "cell_type": "code",
   "source": "",
   "id": "85e8dd7391a79170",
   "outputs": [],
   "execution_count": null
  }
 ],
 "metadata": {
  "kernelspec": {
   "display_name": "Python 3",
   "language": "python",
   "name": "python3"
  },
  "language_info": {
   "codemirror_mode": {
    "name": "ipython",
    "version": 2
   },
   "file_extension": ".py",
   "mimetype": "text/x-python",
   "name": "python",
   "nbconvert_exporter": "python",
   "pygments_lexer": "ipython2",
   "version": "2.7.6"
  }
 },
 "nbformat": 4,
 "nbformat_minor": 5
}

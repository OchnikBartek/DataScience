{
 "nbformat": 4,
 "nbformat_minor": 0,
 "metadata": {
  "colab": {
   "provenance": []
  },
  "kernelspec": {
   "name": "python3",
   "display_name": "Python 3 (ipykernel)",
   "language": "python"
  }
 },
 "cells": [
  {
   "cell_type": "markdown",
   "metadata": {
    "id": "zeLOLmTj1kBM"
   },
   "source": [
    "### <a name='0'></a>Import biblioteki"
   ]
  },
  {
   "cell_type": "code",
   "metadata": {
    "id": "HXMB7SMe1Wnz",
    "ExecuteTime": {
     "end_time": "2025-04-13T21:41:15.887120Z",
     "start_time": "2025-04-13T21:41:15.881718Z"
    }
   },
   "source": [
    "import numpy as np\n",
    "import pandas as pd\n",
    "import seaborn as sns\n",
    "\n",
    "\n",
    "sns.set()\n",
    "np.__version__"
   ],
   "outputs": [
    {
     "data": {
      "text/plain": [
       "'2.0.2'"
      ]
     },
     "execution_count": 138,
     "metadata": {},
     "output_type": "execute_result"
    }
   ],
   "execution_count": 138
  },
  {
   "cell_type": "markdown",
   "metadata": {
    "id": "d1KXPVTVcwTX"
   },
   "source": [
    "Funkcja _fetch_financial_data()_ pobiera dane dotyczące notowań spółek giełdowych. Będzie wykorzystywana w poniższych ćwiczeniach. Aby pobrać dane konkretnej spółki należy przekazać odpowiedni ticker (symbol) spółki.\n",
    "\n",
    "Kilka przykładowych tickerów spółek:\n",
    "* AMZN - Amazon\n",
    "* GOOGL - Google\n",
    "* MSFT - Microsoft\n",
    "* AAPL - Apple\n",
    "* NKE - Nike\n",
    "* WMT - Walmart"
   ]
  },
  {
   "cell_type": "code",
   "metadata": {
    "id": "gTRegewub5oK",
    "ExecuteTime": {
     "end_time": "2025-04-13T21:41:15.907567Z",
     "start_time": "2025-04-13T21:41:15.904851Z"
    }
   },
   "source": [
    "def fetch_financial_data(company='AMZN'):\n",
    "    import pandas_datareader.data as web\n",
    "    return web.DataReader(name=company, data_source='stooq')"
   ],
   "outputs": [],
   "execution_count": 139
  },
  {
   "cell_type": "markdown",
   "metadata": {
    "id": "cyc70pMe1oCg"
   },
   "source": [
    "### <a name='1'></a> Ćwiczenie 121\n",
    "Wykorzystując funkcję _fetch_financial_data()_ pobierz notowania dla spółki Google (Alphabet) i przypisz do zmiennej _google_. Wyświetl obiekt _google_."
   ]
  },
  {
   "cell_type": "code",
   "metadata": {
    "id": "LtMEvHZicna7",
    "ExecuteTime": {
     "end_time": "2025-04-13T21:41:16.347750Z",
     "start_time": "2025-04-13T21:41:15.916373Z"
    }
   },
   "source": [
    "google = fetch_financial_data('GOOGL')\n",
    "google"
   ],
   "outputs": [
    {
     "data": {
      "text/plain": [
       "             Open   High    Low  Close    Volume\n",
       "Date                                            \n",
       "2025-04-11 152.90 157.67 152.82 157.14  33636239\n",
       "2025-04-10 156.54 157.72 149.93 152.82  48021972\n",
       "2025-04-09 144.41 159.55 143.91 158.71  70406232\n",
       "2025-04-08 151.22 152.24 143.03 144.70  52200208\n",
       "2025-04-07 141.55 152.85 140.53 146.75  76794136\n",
       "...           ...    ...    ...    ...       ...\n",
       "2020-04-20  63.27  63.61  62.60  62.83  35420097\n",
       "2020-04-17  63.85  64.27  63.07  63.72  51241564\n",
       "2020-04-16  63.13  63.44  61.69  62.64  58105015\n",
       "2020-04-15  62.10  63.53  61.48  62.64  42389952\n",
       "2020-04-14  61.77  63.56  61.21  63.03  63586916\n",
       "\n",
       "[1257 rows x 5 columns]"
      ],
      "text/html": [
       "<div>\n",
       "<style scoped>\n",
       "    .dataframe tbody tr th:only-of-type {\n",
       "        vertical-align: middle;\n",
       "    }\n",
       "\n",
       "    .dataframe tbody tr th {\n",
       "        vertical-align: top;\n",
       "    }\n",
       "\n",
       "    .dataframe thead th {\n",
       "        text-align: right;\n",
       "    }\n",
       "</style>\n",
       "<table border=\"1\" class=\"dataframe\">\n",
       "  <thead>\n",
       "    <tr style=\"text-align: right;\">\n",
       "      <th></th>\n",
       "      <th>Open</th>\n",
       "      <th>High</th>\n",
       "      <th>Low</th>\n",
       "      <th>Close</th>\n",
       "      <th>Volume</th>\n",
       "    </tr>\n",
       "    <tr>\n",
       "      <th>Date</th>\n",
       "      <th></th>\n",
       "      <th></th>\n",
       "      <th></th>\n",
       "      <th></th>\n",
       "      <th></th>\n",
       "    </tr>\n",
       "  </thead>\n",
       "  <tbody>\n",
       "    <tr>\n",
       "      <th>2025-04-11</th>\n",
       "      <td>152.90</td>\n",
       "      <td>157.67</td>\n",
       "      <td>152.82</td>\n",
       "      <td>157.14</td>\n",
       "      <td>33636239</td>\n",
       "    </tr>\n",
       "    <tr>\n",
       "      <th>2025-04-10</th>\n",
       "      <td>156.54</td>\n",
       "      <td>157.72</td>\n",
       "      <td>149.93</td>\n",
       "      <td>152.82</td>\n",
       "      <td>48021972</td>\n",
       "    </tr>\n",
       "    <tr>\n",
       "      <th>2025-04-09</th>\n",
       "      <td>144.41</td>\n",
       "      <td>159.55</td>\n",
       "      <td>143.91</td>\n",
       "      <td>158.71</td>\n",
       "      <td>70406232</td>\n",
       "    </tr>\n",
       "    <tr>\n",
       "      <th>2025-04-08</th>\n",
       "      <td>151.22</td>\n",
       "      <td>152.24</td>\n",
       "      <td>143.03</td>\n",
       "      <td>144.70</td>\n",
       "      <td>52200208</td>\n",
       "    </tr>\n",
       "    <tr>\n",
       "      <th>2025-04-07</th>\n",
       "      <td>141.55</td>\n",
       "      <td>152.85</td>\n",
       "      <td>140.53</td>\n",
       "      <td>146.75</td>\n",
       "      <td>76794136</td>\n",
       "    </tr>\n",
       "    <tr>\n",
       "      <th>...</th>\n",
       "      <td>...</td>\n",
       "      <td>...</td>\n",
       "      <td>...</td>\n",
       "      <td>...</td>\n",
       "      <td>...</td>\n",
       "    </tr>\n",
       "    <tr>\n",
       "      <th>2020-04-20</th>\n",
       "      <td>63.27</td>\n",
       "      <td>63.61</td>\n",
       "      <td>62.60</td>\n",
       "      <td>62.83</td>\n",
       "      <td>35420097</td>\n",
       "    </tr>\n",
       "    <tr>\n",
       "      <th>2020-04-17</th>\n",
       "      <td>63.85</td>\n",
       "      <td>64.27</td>\n",
       "      <td>63.07</td>\n",
       "      <td>63.72</td>\n",
       "      <td>51241564</td>\n",
       "    </tr>\n",
       "    <tr>\n",
       "      <th>2020-04-16</th>\n",
       "      <td>63.13</td>\n",
       "      <td>63.44</td>\n",
       "      <td>61.69</td>\n",
       "      <td>62.64</td>\n",
       "      <td>58105015</td>\n",
       "    </tr>\n",
       "    <tr>\n",
       "      <th>2020-04-15</th>\n",
       "      <td>62.10</td>\n",
       "      <td>63.53</td>\n",
       "      <td>61.48</td>\n",
       "      <td>62.64</td>\n",
       "      <td>42389952</td>\n",
       "    </tr>\n",
       "    <tr>\n",
       "      <th>2020-04-14</th>\n",
       "      <td>61.77</td>\n",
       "      <td>63.56</td>\n",
       "      <td>61.21</td>\n",
       "      <td>63.03</td>\n",
       "      <td>63586916</td>\n",
       "    </tr>\n",
       "  </tbody>\n",
       "</table>\n",
       "<p>1257 rows × 5 columns</p>\n",
       "</div>"
      ]
     },
     "execution_count": 140,
     "metadata": {},
     "output_type": "execute_result"
    }
   ],
   "execution_count": 140
  },
  {
   "cell_type": "markdown",
   "metadata": {
    "id": "J9pY1rtr1sC0"
   },
   "source": [
    "### <a name='2'></a> Ćwiczenie 122\n",
    "Wyświetl podstawowe informacje na temat obiektu _google_."
   ]
  },
  {
   "cell_type": "code",
   "metadata": {
    "id": "0QE4WiIDeGqy",
    "ExecuteTime": {
     "end_time": "2025-04-13T21:41:16.396347Z",
     "start_time": "2025-04-13T21:41:16.391185Z"
    }
   },
   "source": "google.info()",
   "outputs": [
    {
     "name": "stdout",
     "output_type": "stream",
     "text": [
      "<class 'pandas.core.frame.DataFrame'>\n",
      "DatetimeIndex: 1257 entries, 2025-04-11 to 2020-04-14\n",
      "Data columns (total 5 columns):\n",
      " #   Column  Non-Null Count  Dtype  \n",
      "---  ------  --------------  -----  \n",
      " 0   Open    1257 non-null   float64\n",
      " 1   High    1257 non-null   float64\n",
      " 2   Low     1257 non-null   float64\n",
      " 3   Close   1257 non-null   float64\n",
      " 4   Volume  1257 non-null   int64  \n",
      "dtypes: float64(4), int64(1)\n",
      "memory usage: 58.9 KB\n"
     ]
    }
   ],
   "execution_count": 141
  },
  {
   "cell_type": "markdown",
   "metadata": {
    "id": "yic8GlyieMAv"
   },
   "source": [
    "Wyświetl podstawowe statystyki o obiekcie _google_."
   ]
  },
  {
   "cell_type": "code",
   "metadata": {
    "id": "8CiWPVl0eJ2B",
    "ExecuteTime": {
     "end_time": "2025-04-13T21:41:16.453740Z",
     "start_time": "2025-04-13T21:41:16.439753Z"
    }
   },
   "source": [
    "pd.set_option('display.precision', 2)\n",
    "google.describe().T.round(2)\n"
   ],
   "outputs": [
    {
     "data": {
      "text/plain": [
       "         count        mean         std        min         25%         50%  \\\n",
       "Open   1257.00      124.76       32.63      61.77       99.76      125.19   \n",
       "High   1257.00      126.21       32.88      62.27      101.47      126.32   \n",
       "Low    1257.00      123.41       32.34      60.03       98.91      123.57   \n",
       "Close  1257.00      124.83       32.60      60.39      100.21      124.97   \n",
       "Volume 1257.00 32278510.26 13489921.13 9346519.00 23442695.00 29109043.00   \n",
       "\n",
       "               75%          max  \n",
       "Open        144.53       203.39  \n",
       "High        145.99       207.05  \n",
       "Low         143.38       202.81  \n",
       "Close       144.91       206.38  \n",
       "Volume 37134525.00 123645829.00  "
      ],
      "text/html": [
       "<div>\n",
       "<style scoped>\n",
       "    .dataframe tbody tr th:only-of-type {\n",
       "        vertical-align: middle;\n",
       "    }\n",
       "\n",
       "    .dataframe tbody tr th {\n",
       "        vertical-align: top;\n",
       "    }\n",
       "\n",
       "    .dataframe thead th {\n",
       "        text-align: right;\n",
       "    }\n",
       "</style>\n",
       "<table border=\"1\" class=\"dataframe\">\n",
       "  <thead>\n",
       "    <tr style=\"text-align: right;\">\n",
       "      <th></th>\n",
       "      <th>count</th>\n",
       "      <th>mean</th>\n",
       "      <th>std</th>\n",
       "      <th>min</th>\n",
       "      <th>25%</th>\n",
       "      <th>50%</th>\n",
       "      <th>75%</th>\n",
       "      <th>max</th>\n",
       "    </tr>\n",
       "  </thead>\n",
       "  <tbody>\n",
       "    <tr>\n",
       "      <th>Open</th>\n",
       "      <td>1257.00</td>\n",
       "      <td>124.76</td>\n",
       "      <td>32.63</td>\n",
       "      <td>61.77</td>\n",
       "      <td>99.76</td>\n",
       "      <td>125.19</td>\n",
       "      <td>144.53</td>\n",
       "      <td>203.39</td>\n",
       "    </tr>\n",
       "    <tr>\n",
       "      <th>High</th>\n",
       "      <td>1257.00</td>\n",
       "      <td>126.21</td>\n",
       "      <td>32.88</td>\n",
       "      <td>62.27</td>\n",
       "      <td>101.47</td>\n",
       "      <td>126.32</td>\n",
       "      <td>145.99</td>\n",
       "      <td>207.05</td>\n",
       "    </tr>\n",
       "    <tr>\n",
       "      <th>Low</th>\n",
       "      <td>1257.00</td>\n",
       "      <td>123.41</td>\n",
       "      <td>32.34</td>\n",
       "      <td>60.03</td>\n",
       "      <td>98.91</td>\n",
       "      <td>123.57</td>\n",
       "      <td>143.38</td>\n",
       "      <td>202.81</td>\n",
       "    </tr>\n",
       "    <tr>\n",
       "      <th>Close</th>\n",
       "      <td>1257.00</td>\n",
       "      <td>124.83</td>\n",
       "      <td>32.60</td>\n",
       "      <td>60.39</td>\n",
       "      <td>100.21</td>\n",
       "      <td>124.97</td>\n",
       "      <td>144.91</td>\n",
       "      <td>206.38</td>\n",
       "    </tr>\n",
       "    <tr>\n",
       "      <th>Volume</th>\n",
       "      <td>1257.00</td>\n",
       "      <td>32278510.26</td>\n",
       "      <td>13489921.13</td>\n",
       "      <td>9346519.00</td>\n",
       "      <td>23442695.00</td>\n",
       "      <td>29109043.00</td>\n",
       "      <td>37134525.00</td>\n",
       "      <td>123645829.00</td>\n",
       "    </tr>\n",
       "  </tbody>\n",
       "</table>\n",
       "</div>"
      ]
     },
     "execution_count": 142,
     "metadata": {},
     "output_type": "execute_result"
    }
   ],
   "execution_count": 142
  },
  {
   "cell_type": "markdown",
   "metadata": {
    "id": "OwKsy3HRf1Z5"
   },
   "source": [
    "Zwróć uwagę na precyzję zapisu poszczególnych statystyk.\n",
    "Spróbuj ustawić odpowiednie opcje biblioteki _pandas_, tak aby wyświetlać dane z dokładnością do dwóch miejsc po przecinku.\n",
    "\n",
    "__Wskazówka:__\n",
    "https://pandas.pydata.org/pandas-docs/stable/user_guide/options.html"
   ]
  },
  {
   "cell_type": "code",
   "metadata": {
    "id": "mskz01W_gCy0",
    "ExecuteTime": {
     "end_time": "2025-04-13T21:41:16.518823Z",
     "start_time": "2025-04-13T21:41:16.516246Z"
    }
   },
   "source": [
    "# tutaj wpisz rozwiązanie"
   ],
   "outputs": [],
   "execution_count": 143
  },
  {
   "cell_type": "markdown",
   "metadata": {
    "id": "iEXHrwHwheyo"
   },
   "source": [
    "__Dodatkowo:__\n",
    "Poniższe ustawienie stłumi także notację wykładniczą (patrz kolumna _Volume_)."
   ]
  },
  {
   "cell_type": "code",
   "metadata": {
    "id": "qdosioVRhGfC",
    "ExecuteTime": {
     "end_time": "2025-04-13T21:41:16.570885Z",
     "start_time": "2025-04-13T21:41:16.559080Z"
    }
   },
   "source": [
    "pd.options.display.float_format = '{:.2f}'.format\n",
    "google.describe()"
   ],
   "outputs": [
    {
     "data": {
      "text/plain": [
       "         Open    High     Low   Close       Volume\n",
       "count 1257.00 1257.00 1257.00 1257.00      1257.00\n",
       "mean   124.76  126.21  123.41  124.83  32278510.26\n",
       "std     32.63   32.88   32.34   32.60  13489921.13\n",
       "min     61.77   62.27   60.03   60.39   9346519.00\n",
       "25%     99.76  101.47   98.91  100.21  23442695.00\n",
       "50%    125.19  126.32  123.57  124.97  29109043.00\n",
       "75%    144.53  145.99  143.38  144.91  37134525.00\n",
       "max    203.39  207.05  202.81  206.38 123645829.00"
      ],
      "text/html": [
       "<div>\n",
       "<style scoped>\n",
       "    .dataframe tbody tr th:only-of-type {\n",
       "        vertical-align: middle;\n",
       "    }\n",
       "\n",
       "    .dataframe tbody tr th {\n",
       "        vertical-align: top;\n",
       "    }\n",
       "\n",
       "    .dataframe thead th {\n",
       "        text-align: right;\n",
       "    }\n",
       "</style>\n",
       "<table border=\"1\" class=\"dataframe\">\n",
       "  <thead>\n",
       "    <tr style=\"text-align: right;\">\n",
       "      <th></th>\n",
       "      <th>Open</th>\n",
       "      <th>High</th>\n",
       "      <th>Low</th>\n",
       "      <th>Close</th>\n",
       "      <th>Volume</th>\n",
       "    </tr>\n",
       "  </thead>\n",
       "  <tbody>\n",
       "    <tr>\n",
       "      <th>count</th>\n",
       "      <td>1257.00</td>\n",
       "      <td>1257.00</td>\n",
       "      <td>1257.00</td>\n",
       "      <td>1257.00</td>\n",
       "      <td>1257.00</td>\n",
       "    </tr>\n",
       "    <tr>\n",
       "      <th>mean</th>\n",
       "      <td>124.76</td>\n",
       "      <td>126.21</td>\n",
       "      <td>123.41</td>\n",
       "      <td>124.83</td>\n",
       "      <td>32278510.26</td>\n",
       "    </tr>\n",
       "    <tr>\n",
       "      <th>std</th>\n",
       "      <td>32.63</td>\n",
       "      <td>32.88</td>\n",
       "      <td>32.34</td>\n",
       "      <td>32.60</td>\n",
       "      <td>13489921.13</td>\n",
       "    </tr>\n",
       "    <tr>\n",
       "      <th>min</th>\n",
       "      <td>61.77</td>\n",
       "      <td>62.27</td>\n",
       "      <td>60.03</td>\n",
       "      <td>60.39</td>\n",
       "      <td>9346519.00</td>\n",
       "    </tr>\n",
       "    <tr>\n",
       "      <th>25%</th>\n",
       "      <td>99.76</td>\n",
       "      <td>101.47</td>\n",
       "      <td>98.91</td>\n",
       "      <td>100.21</td>\n",
       "      <td>23442695.00</td>\n",
       "    </tr>\n",
       "    <tr>\n",
       "      <th>50%</th>\n",
       "      <td>125.19</td>\n",
       "      <td>126.32</td>\n",
       "      <td>123.57</td>\n",
       "      <td>124.97</td>\n",
       "      <td>29109043.00</td>\n",
       "    </tr>\n",
       "    <tr>\n",
       "      <th>75%</th>\n",
       "      <td>144.53</td>\n",
       "      <td>145.99</td>\n",
       "      <td>143.38</td>\n",
       "      <td>144.91</td>\n",
       "      <td>37134525.00</td>\n",
       "    </tr>\n",
       "    <tr>\n",
       "      <th>max</th>\n",
       "      <td>203.39</td>\n",
       "      <td>207.05</td>\n",
       "      <td>202.81</td>\n",
       "      <td>206.38</td>\n",
       "      <td>123645829.00</td>\n",
       "    </tr>\n",
       "  </tbody>\n",
       "</table>\n",
       "</div>"
      ]
     },
     "execution_count": 144,
     "metadata": {},
     "output_type": "execute_result"
    }
   ],
   "execution_count": 144
  },
  {
   "cell_type": "markdown",
   "metadata": {
    "id": "p12duQuPlWSU"
   },
   "source": [
    "Zbuduj wykres ceny zamknięcia (_Close_) dla obiektu _google_."
   ]
  },
  {
   "cell_type": "code",
   "metadata": {
    "id": "tmpm-uiAlKgv",
    "ExecuteTime": {
     "end_time": "2025-04-13T21:41:16.844534Z",
     "start_time": "2025-04-13T21:41:16.632421Z"
    }
   },
   "source": "google['Close'].plot()",
   "outputs": [
    {
     "data": {
      "text/plain": [
       "<Axes: xlabel='Date'>"
      ]
     },
     "execution_count": 145,
     "metadata": {},
     "output_type": "execute_result"
    },
    {
     "data": {
      "text/plain": [
       "<Figure size 640x480 with 1 Axes>"
      ],
      "image/png": "[encoded data removed]"
     },
     "metadata": {},
     "output_type": "display_data"
    }
   ],
   "execution_count": 145
  },
  {
   "cell_type": "markdown",
   "metadata": {
    "id": "XQLYT2m11wVG"
   },
   "source": [
    "### <a name='3'></a> Ćwiczenie 123\n",
    "Zamień indeks _Date_ na kolumnę. Przypisz trwale zmiany do zniennej _google_."
   ]
  },
  {
   "cell_type": "code",
   "metadata": {
    "id": "Ac1OnxjOh3fa",
    "ExecuteTime": {
     "end_time": "2025-04-13T21:41:16.888949Z",
     "start_time": "2025-04-13T21:41:16.881225Z"
    }
   },
   "source": [
    "google = google.reset_index()\n",
    "google"
   ],
   "outputs": [
    {
     "data": {
      "text/plain": [
       "           Date   Open   High    Low  Close    Volume\n",
       "0    2025-04-11 152.90 157.67 152.82 157.14  33636239\n",
       "1    2025-04-10 156.54 157.72 149.93 152.82  48021972\n",
       "2    2025-04-09 144.41 159.55 143.91 158.71  70406232\n",
       "3    2025-04-08 151.22 152.24 143.03 144.70  52200208\n",
       "4    2025-04-07 141.55 152.85 140.53 146.75  76794136\n",
       "...         ...    ...    ...    ...    ...       ...\n",
       "1252 2020-04-20  63.27  63.61  62.60  62.83  35420097\n",
       "1253 2020-04-17  63.85  64.27  63.07  63.72  51241564\n",
       "1254 2020-04-16  63.13  63.44  61.69  62.64  58105015\n",
       "1255 2020-04-15  62.10  63.53  61.48  62.64  42389952\n",
       "1256 2020-04-14  61.77  63.56  61.21  63.03  63586916\n",
       "\n",
       "[1257 rows x 6 columns]"
      ],
      "text/html": [
       "<div>\n",
       "<style scoped>\n",
       "    .dataframe tbody tr th:only-of-type {\n",
       "        vertical-align: middle;\n",
       "    }\n",
       "\n",
       "    .dataframe tbody tr th {\n",
       "        vertical-align: top;\n",
       "    }\n",
       "\n",
       "    .dataframe thead th {\n",
       "        text-align: right;\n",
       "    }\n",
       "</style>\n",
       "<table border=\"1\" class=\"dataframe\">\n",
       "  <thead>\n",
       "    <tr style=\"text-align: right;\">\n",
       "      <th></th>\n",
       "      <th>Date</th>\n",
       "      <th>Open</th>\n",
       "      <th>High</th>\n",
       "      <th>Low</th>\n",
       "      <th>Close</th>\n",
       "      <th>Volume</th>\n",
       "    </tr>\n",
       "  </thead>\n",
       "  <tbody>\n",
       "    <tr>\n",
       "      <th>0</th>\n",
       "      <td>2025-04-11</td>\n",
       "      <td>152.90</td>\n",
       "      <td>157.67</td>\n",
       "      <td>152.82</td>\n",
       "      <td>157.14</td>\n",
       "      <td>33636239</td>\n",
       "    </tr>\n",
       "    <tr>\n",
       "      <th>1</th>\n",
       "      <td>2025-04-10</td>\n",
       "      <td>156.54</td>\n",
       "      <td>157.72</td>\n",
       "      <td>149.93</td>\n",
       "      <td>152.82</td>\n",
       "      <td>48021972</td>\n",
       "    </tr>\n",
       "    <tr>\n",
       "      <th>2</th>\n",
       "      <td>2025-04-09</td>\n",
       "      <td>144.41</td>\n",
       "      <td>159.55</td>\n",
       "      <td>143.91</td>\n",
       "      <td>158.71</td>\n",
       "      <td>70406232</td>\n",
       "    </tr>\n",
       "    <tr>\n",
       "      <th>3</th>\n",
       "      <td>2025-04-08</td>\n",
       "      <td>151.22</td>\n",
       "      <td>152.24</td>\n",
       "      <td>143.03</td>\n",
       "      <td>144.70</td>\n",
       "      <td>52200208</td>\n",
       "    </tr>\n",
       "    <tr>\n",
       "      <th>4</th>\n",
       "      <td>2025-04-07</td>\n",
       "      <td>141.55</td>\n",
       "      <td>152.85</td>\n",
       "      <td>140.53</td>\n",
       "      <td>146.75</td>\n",
       "      <td>76794136</td>\n",
       "    </tr>\n",
       "    <tr>\n",
       "      <th>...</th>\n",
       "      <td>...</td>\n",
       "      <td>...</td>\n",
       "      <td>...</td>\n",
       "      <td>...</td>\n",
       "      <td>...</td>\n",
       "      <td>...</td>\n",
       "    </tr>\n",
       "    <tr>\n",
       "      <th>1252</th>\n",
       "      <td>2020-04-20</td>\n",
       "      <td>63.27</td>\n",
       "      <td>63.61</td>\n",
       "      <td>62.60</td>\n",
       "      <td>62.83</td>\n",
       "      <td>35420097</td>\n",
       "    </tr>\n",
       "    <tr>\n",
       "      <th>1253</th>\n",
       "      <td>2020-04-17</td>\n",
       "      <td>63.85</td>\n",
       "      <td>64.27</td>\n",
       "      <td>63.07</td>\n",
       "      <td>63.72</td>\n",
       "      <td>51241564</td>\n",
       "    </tr>\n",
       "    <tr>\n",
       "      <th>1254</th>\n",
       "      <td>2020-04-16</td>\n",
       "      <td>63.13</td>\n",
       "      <td>63.44</td>\n",
       "      <td>61.69</td>\n",
       "      <td>62.64</td>\n",
       "      <td>58105015</td>\n",
       "    </tr>\n",
       "    <tr>\n",
       "      <th>1255</th>\n",
       "      <td>2020-04-15</td>\n",
       "      <td>62.10</td>\n",
       "      <td>63.53</td>\n",
       "      <td>61.48</td>\n",
       "      <td>62.64</td>\n",
       "      <td>42389952</td>\n",
       "    </tr>\n",
       "    <tr>\n",
       "      <th>1256</th>\n",
       "      <td>2020-04-14</td>\n",
       "      <td>61.77</td>\n",
       "      <td>63.56</td>\n",
       "      <td>61.21</td>\n",
       "      <td>63.03</td>\n",
       "      <td>63586916</td>\n",
       "    </tr>\n",
       "  </tbody>\n",
       "</table>\n",
       "<p>1257 rows × 6 columns</p>\n",
       "</div>"
      ]
     },
     "execution_count": 146,
     "metadata": {},
     "output_type": "execute_result"
    }
   ],
   "execution_count": 146
  },
  {
   "cell_type": "markdown",
   "metadata": {
    "id": "SRfQiXpGiXBc"
   },
   "source": [
    "Przypisz dwie nowe kolumny do obiektu _google_ dodając kolumnę z aktualnym numerem miesiąca o nazwie _'Month'_ oraz z rokiem o nazwie _'Year'_."
   ]
  },
  {
   "cell_type": "code",
   "metadata": {
    "id": "S32izk-BiL_q",
    "ExecuteTime": {
     "end_time": "2025-04-13T21:41:16.960309Z",
     "start_time": "2025-04-13T21:41:16.946034Z"
    }
   },
   "source": [
    "google['Month'] = google['Date'].dt.month\n",
    "google['Year'] = google['Date'].dt.year\n",
    "google"
   ],
   "outputs": [
    {
     "data": {
      "text/plain": [
       "           Date   Open   High    Low  Close    Volume  Month  Year\n",
       "0    2025-04-11 152.90 157.67 152.82 157.14  33636239      4  2025\n",
       "1    2025-04-10 156.54 157.72 149.93 152.82  48021972      4  2025\n",
       "2    2025-04-09 144.41 159.55 143.91 158.71  70406232      4  2025\n",
       "3    2025-04-08 151.22 152.24 143.03 144.70  52200208      4  2025\n",
       "4    2025-04-07 141.55 152.85 140.53 146.75  76794136      4  2025\n",
       "...         ...    ...    ...    ...    ...       ...    ...   ...\n",
       "1252 2020-04-20  63.27  63.61  62.60  62.83  35420097      4  2020\n",
       "1253 2020-04-17  63.85  64.27  63.07  63.72  51241564      4  2020\n",
       "1254 2020-04-16  63.13  63.44  61.69  62.64  58105015      4  2020\n",
       "1255 2020-04-15  62.10  63.53  61.48  62.64  42389952      4  2020\n",
       "1256 2020-04-14  61.77  63.56  61.21  63.03  63586916      4  2020\n",
       "\n",
       "[1257 rows x 8 columns]"
      ],
      "text/html": [
       "<div>\n",
       "<style scoped>\n",
       "    .dataframe tbody tr th:only-of-type {\n",
       "        vertical-align: middle;\n",
       "    }\n",
       "\n",
       "    .dataframe tbody tr th {\n",
       "        vertical-align: top;\n",
       "    }\n",
       "\n",
       "    .dataframe thead th {\n",
       "        text-align: right;\n",
       "    }\n",
       "</style>\n",
       "<table border=\"1\" class=\"dataframe\">\n",
       "  <thead>\n",
       "    <tr style=\"text-align: right;\">\n",
       "      <th></th>\n",
       "      <th>Date</th>\n",
       "      <th>Open</th>\n",
       "      <th>High</th>\n",
       "      <th>Low</th>\n",
       "      <th>Close</th>\n",
       "      <th>Volume</th>\n",
       "      <th>Month</th>\n",
       "      <th>Year</th>\n",
       "    </tr>\n",
       "  </thead>\n",
       "  <tbody>\n",
       "    <tr>\n",
       "      <th>0</th>\n",
       "      <td>2025-04-11</td>\n",
       "      <td>152.90</td>\n",
       "      <td>157.67</td>\n",
       "      <td>152.82</td>\n",
       "      <td>157.14</td>\n",
       "      <td>33636239</td>\n",
       "      <td>4</td>\n",
       "      <td>2025</td>\n",
       "    </tr>\n",
       "    <tr>\n",
       "      <th>1</th>\n",
       "      <td>2025-04-10</td>\n",
       "      <td>156.54</td>\n",
       "      <td>157.72</td>\n",
       "      <td>149.93</td>\n",
       "      <td>152.82</td>\n",
       "      <td>48021972</td>\n",
       "      <td>4</td>\n",
       "      <td>2025</td>\n",
       "    </tr>\n",
       "    <tr>\n",
       "      <th>2</th>\n",
       "      <td>2025-04-09</td>\n",
       "      <td>144.41</td>\n",
       "      <td>159.55</td>\n",
       "      <td>143.91</td>\n",
       "      <td>158.71</td>\n",
       "      <td>70406232</td>\n",
       "      <td>4</td>\n",
       "      <td>2025</td>\n",
       "    </tr>\n",
       "    <tr>\n",
       "      <th>3</th>\n",
       "      <td>2025-04-08</td>\n",
       "      <td>151.22</td>\n",
       "      <td>152.24</td>\n",
       "      <td>143.03</td>\n",
       "      <td>144.70</td>\n",
       "      <td>52200208</td>\n",
       "      <td>4</td>\n",
       "      <td>2025</td>\n",
       "    </tr>\n",
       "    <tr>\n",
       "      <th>4</th>\n",
       "      <td>2025-04-07</td>\n",
       "      <td>141.55</td>\n",
       "      <td>152.85</td>\n",
       "      <td>140.53</td>\n",
       "      <td>146.75</td>\n",
       "      <td>76794136</td>\n",
       "      <td>4</td>\n",
       "      <td>2025</td>\n",
       "    </tr>\n",
       "    <tr>\n",
       "      <th>...</th>\n",
       "      <td>...</td>\n",
       "      <td>...</td>\n",
       "      <td>...</td>\n",
       "      <td>...</td>\n",
       "      <td>...</td>\n",
       "      <td>...</td>\n",
       "      <td>...</td>\n",
       "      <td>...</td>\n",
       "    </tr>\n",
       "    <tr>\n",
       "      <th>1252</th>\n",
       "      <td>2020-04-20</td>\n",
       "      <td>63.27</td>\n",
       "      <td>63.61</td>\n",
       "      <td>62.60</td>\n",
       "      <td>62.83</td>\n",
       "      <td>35420097</td>\n",
       "      <td>4</td>\n",
       "      <td>2020</td>\n",
       "    </tr>\n",
       "    <tr>\n",
       "      <th>1253</th>\n",
       "      <td>2020-04-17</td>\n",
       "      <td>63.85</td>\n",
       "      <td>64.27</td>\n",
       "      <td>63.07</td>\n",
       "      <td>63.72</td>\n",
       "      <td>51241564</td>\n",
       "      <td>4</td>\n",
       "      <td>2020</td>\n",
       "    </tr>\n",
       "    <tr>\n",
       "      <th>1254</th>\n",
       "      <td>2020-04-16</td>\n",
       "      <td>63.13</td>\n",
       "      <td>63.44</td>\n",
       "      <td>61.69</td>\n",
       "      <td>62.64</td>\n",
       "      <td>58105015</td>\n",
       "      <td>4</td>\n",
       "      <td>2020</td>\n",
       "    </tr>\n",
       "    <tr>\n",
       "      <th>1255</th>\n",
       "      <td>2020-04-15</td>\n",
       "      <td>62.10</td>\n",
       "      <td>63.53</td>\n",
       "      <td>61.48</td>\n",
       "      <td>62.64</td>\n",
       "      <td>42389952</td>\n",
       "      <td>4</td>\n",
       "      <td>2020</td>\n",
       "    </tr>\n",
       "    <tr>\n",
       "      <th>1256</th>\n",
       "      <td>2020-04-14</td>\n",
       "      <td>61.77</td>\n",
       "      <td>63.56</td>\n",
       "      <td>61.21</td>\n",
       "      <td>63.03</td>\n",
       "      <td>63586916</td>\n",
       "      <td>4</td>\n",
       "      <td>2020</td>\n",
       "    </tr>\n",
       "  </tbody>\n",
       "</table>\n",
       "<p>1257 rows × 8 columns</p>\n",
       "</div>"
      ]
     },
     "execution_count": 147,
     "metadata": {},
     "output_type": "execute_result"
    }
   ],
   "execution_count": 147
  },
  {
   "cell_type": "markdown",
   "metadata": {
    "id": "4xTKSUzg10MK"
   },
   "source": [
    "### <a name='4'></a> Ćwiczenie 124\n",
    "Policz średnią cenę zamknięcia (_Close_) dla poszczególnego roku (pogrupuj dane po roku - kolumna _Year_ i następnie policz wartość średnią)."
   ]
  },
  {
   "cell_type": "code",
   "metadata": {
    "id": "wSFs7z0Qi3Y7",
    "ExecuteTime": {
     "end_time": "2025-04-13T21:41:17.096126Z",
     "start_time": "2025-04-13T21:41:17.084447Z"
    }
   },
   "source": "google.groupby('Year')['Close'].mean()",
   "outputs": [
    {
     "data": {
      "text/plain": [
       "Year\n",
       "2020    76.46\n",
       "2021   123.78\n",
       "2022   114.35\n",
       "2023   118.37\n",
       "2024   163.41\n",
       "2025   177.57\n",
       "Name: Close, dtype: float64"
      ]
     },
     "execution_count": 148,
     "metadata": {},
     "output_type": "execute_result"
    }
   ],
   "execution_count": 148
  },
  {
   "cell_type": "markdown",
   "metadata": {
    "id": "DSqQjdS4j-wl"
   },
   "source": [
    "Otrzymane wartości przedstaw na wykresie wykorzystując metodę _plot()_."
   ]
  },
  {
   "cell_type": "code",
   "metadata": {
    "id": "0nBtvC2tjaTK",
    "ExecuteTime": {
     "end_time": "2025-04-13T21:41:17.635725Z",
     "start_time": "2025-04-13T21:41:17.301712Z"
    }
   },
   "source": "google.groupby('Year')['Close'].mean().plot()",
   "outputs": [
    {
     "data": {
      "text/plain": [
       "<Axes: xlabel='Year'>"
      ]
     },
     "execution_count": 149,
     "metadata": {},
     "output_type": "execute_result"
    },
    {
     "data": {
      "text/plain": [
       "<Figure size 640x480 with 1 Axes>"
      ],
      "image/png": "[encoded data removed]"
     },
     "metadata": {},
     "output_type": "display_data"
    }
   ],
   "execution_count": 149
  },
  {
   "cell_type": "markdown",
   "metadata": {
    "id": "RduPz9PDkR2-"
   },
   "source": [
    "Policz średnią cenę zamknięcia (_Close_) dla miesiąca (pogrupuj dane po miesiącu - kolumna _Month_ i następnie policz wartość średnią)."
   ]
  },
  {
   "cell_type": "code",
   "metadata": {
    "id": "4Vd83xT_kIsg",
    "ExecuteTime": {
     "end_time": "2025-04-13T21:41:17.712211Z",
     "start_time": "2025-04-13T21:41:17.702593Z"
    }
   },
   "source": "google.groupby('Month')['Close'].mean()",
   "outputs": [
    {
     "data": {
      "text/plain": [
       "Month\n",
       "1    131.84\n",
       "2    132.40\n",
       "3    127.26\n",
       "4    120.88\n",
       "5    117.72\n",
       "6    119.12\n",
       "7    123.92\n",
       "8    125.18\n",
       "9    121.68\n",
       "10   123.23\n",
       "11   126.52\n",
       "12   129.00\n",
       "Name: Close, dtype: float64"
      ]
     },
     "execution_count": 150,
     "metadata": {},
     "output_type": "execute_result"
    }
   ],
   "execution_count": 150
  },
  {
   "cell_type": "markdown",
   "metadata": {
    "id": "ytITHhjjkaoO"
   },
   "source": [
    "Otrzymane wartości przedstaw na wykresie wykorzystując metodę _plot()_.\n",
    "Zauważ, które miesiące mogą wskazywać na słabsze okresy na giełdzie."
   ]
  },
  {
   "cell_type": "code",
   "metadata": {
    "id": "ob02yPQRkK3E",
    "ExecuteTime": {
     "end_time": "2025-04-13T21:41:18.059833Z",
     "start_time": "2025-04-13T21:41:17.799556Z"
    }
   },
   "source": "google.groupby('Month')['Close'].mean().plot()",
   "outputs": [
    {
     "data": {
      "text/plain": [
       "<Axes: xlabel='Month'>"
      ]
     },
     "execution_count": 151,
     "metadata": {},
     "output_type": "execute_result"
    },
    {
     "data": {
      "text/plain": [
       "<Figure size 640x480 with 1 Axes>"
      ],
      "image/png": "[encoded data removed]"
     },
     "metadata": {},
     "output_type": "display_data"
    }
   ],
   "execution_count": 151
  },
  {
   "cell_type": "markdown",
   "metadata": {
    "id": "o3HKIKlP15Ro"
   },
   "source": [
    "### <a name='5'></a> Ćwiczenie 125\n",
    "Pogrupuj dane z obiektu _google_ na poziomie roku i miesiąca. Następnie policz wartość średnią."
   ]
  },
  {
   "cell_type": "code",
   "metadata": {
    "id": "DptCcOtNkokd",
    "ExecuteTime": {
     "end_time": "2025-04-13T21:41:18.157764Z",
     "start_time": "2025-04-13T21:41:18.142029Z"
    }
   },
   "source": "google.groupby(['Year','Month'])['Close'].mean()",
   "outputs": [
    {
     "data": {
      "text/plain": [
       "Year  Month\n",
       "2020  4        63.35\n",
       "      5        68.82\n",
       "      6        71.32\n",
       "      7        75.49\n",
       "      8        76.97\n",
       "               ...  \n",
       "2024  12      186.73\n",
       "2025  1       195.34\n",
       "      2       184.32\n",
       "      3       165.36\n",
       "      4       152.28\n",
       "Name: Close, Length: 61, dtype: float64"
      ]
     },
     "execution_count": 152,
     "metadata": {},
     "output_type": "execute_result"
    }
   ],
   "execution_count": 152
  },
  {
   "cell_type": "markdown",
   "metadata": {
    "id": "PunXd_Ey16so"
   },
   "source": [
    "### <a name='6'></a> Ćwiczenie 126\n",
    "Znajdź indeks dla którego kolumna _Close_ przyjmuje wartość największą."
   ]
  },
  {
   "cell_type": "code",
   "metadata": {
    "id": "PIUT3b7Rm7v1",
    "ExecuteTime": {
     "end_time": "2025-04-13T21:41:18.254709Z",
     "start_time": "2025-04-13T21:41:18.237279Z"
    }
   },
   "source": "google['Close'].argmax()",
   "outputs": [
    {
     "data": {
      "text/plain": [
       "np.int64(47)"
      ]
     },
     "execution_count": 153,
     "metadata": {},
     "output_type": "execute_result"
    }
   ],
   "execution_count": 153
  },
  {
   "cell_type": "markdown",
   "metadata": {
    "id": "WETiC6NEnPm0"
   },
   "source": [
    "Wytnij wiersz dla tego indeksu z obiektu _google_ jako obiekt DataFrame. Odczytaj datę."
   ]
  },
  {
   "cell_type": "code",
   "metadata": {
    "id": "XccuGttMnL_d",
    "ExecuteTime": {
     "end_time": "2025-04-13T21:41:18.364201Z",
     "start_time": "2025-04-13T21:41:18.340554Z"
    }
   },
   "source": "google.iloc[[google['Close'].argmax()]]",
   "outputs": [
    {
     "data": {
      "text/plain": [
       "         Date   Open   High    Low  Close    Volume  Month  Year\n",
       "47 2025-02-04 203.39 207.05 202.81 206.38  43856425      2  2025"
      ],
      "text/html": [
       "<div>\n",
       "<style scoped>\n",
       "    .dataframe tbody tr th:only-of-type {\n",
       "        vertical-align: middle;\n",
       "    }\n",
       "\n",
       "    .dataframe tbody tr th {\n",
       "        vertical-align: top;\n",
       "    }\n",
       "\n",
       "    .dataframe thead th {\n",
       "        text-align: right;\n",
       "    }\n",
       "</style>\n",
       "<table border=\"1\" class=\"dataframe\">\n",
       "  <thead>\n",
       "    <tr style=\"text-align: right;\">\n",
       "      <th></th>\n",
       "      <th>Date</th>\n",
       "      <th>Open</th>\n",
       "      <th>High</th>\n",
       "      <th>Low</th>\n",
       "      <th>Close</th>\n",
       "      <th>Volume</th>\n",
       "      <th>Month</th>\n",
       "      <th>Year</th>\n",
       "    </tr>\n",
       "  </thead>\n",
       "  <tbody>\n",
       "    <tr>\n",
       "      <th>47</th>\n",
       "      <td>2025-02-04</td>\n",
       "      <td>203.39</td>\n",
       "      <td>207.05</td>\n",
       "      <td>202.81</td>\n",
       "      <td>206.38</td>\n",
       "      <td>43856425</td>\n",
       "      <td>2</td>\n",
       "      <td>2025</td>\n",
       "    </tr>\n",
       "  </tbody>\n",
       "</table>\n",
       "</div>"
      ]
     },
     "execution_count": 154,
     "metadata": {},
     "output_type": "execute_result"
    }
   ],
   "execution_count": 154
  },
  {
   "cell_type": "markdown",
   "metadata": {
    "id": "hOhqDRz618Tx"
   },
   "source": [
    "### <a name='7'></a> Ćwiczenie 127\n",
    "Z obiektu _google_ wytnij kolumny _Date_, _Open_, _Close_, _Volume_.\n",
    "Nie zmieniaj pierwotnego obiektu _google_!\n"
   ]
  },
  {
   "cell_type": "code",
   "metadata": {
    "id": "P17Vtv4imw28",
    "ExecuteTime": {
     "end_time": "2025-04-13T21:41:18.532318Z",
     "start_time": "2025-04-13T21:41:18.514983Z"
    }
   },
   "source": "google[['Date','Open','Close','Volume']]",
   "outputs": [
    {
     "data": {
      "text/plain": [
       "           Date   Open  Close    Volume\n",
       "0    2025-04-11 152.90 157.14  33636239\n",
       "1    2025-04-10 156.54 152.82  48021972\n",
       "2    2025-04-09 144.41 158.71  70406232\n",
       "3    2025-04-08 151.22 144.70  52200208\n",
       "4    2025-04-07 141.55 146.75  76794136\n",
       "...         ...    ...    ...       ...\n",
       "1252 2020-04-20  63.27  62.83  35420097\n",
       "1253 2020-04-17  63.85  63.72  51241564\n",
       "1254 2020-04-16  63.13  62.64  58105015\n",
       "1255 2020-04-15  62.10  62.64  42389952\n",
       "1256 2020-04-14  61.77  63.03  63586916\n",
       "\n",
       "[1257 rows x 4 columns]"
      ],
      "text/html": [
       "<div>\n",
       "<style scoped>\n",
       "    .dataframe tbody tr th:only-of-type {\n",
       "        vertical-align: middle;\n",
       "    }\n",
       "\n",
       "    .dataframe tbody tr th {\n",
       "        vertical-align: top;\n",
       "    }\n",
       "\n",
       "    .dataframe thead th {\n",
       "        text-align: right;\n",
       "    }\n",
       "</style>\n",
       "<table border=\"1\" class=\"dataframe\">\n",
       "  <thead>\n",
       "    <tr style=\"text-align: right;\">\n",
       "      <th></th>\n",
       "      <th>Date</th>\n",
       "      <th>Open</th>\n",
       "      <th>Close</th>\n",
       "      <th>Volume</th>\n",
       "    </tr>\n",
       "  </thead>\n",
       "  <tbody>\n",
       "    <tr>\n",
       "      <th>0</th>\n",
       "      <td>2025-04-11</td>\n",
       "      <td>152.90</td>\n",
       "      <td>157.14</td>\n",
       "      <td>33636239</td>\n",
       "    </tr>\n",
       "    <tr>\n",
       "      <th>1</th>\n",
       "      <td>2025-04-10</td>\n",
       "      <td>156.54</td>\n",
       "      <td>152.82</td>\n",
       "      <td>48021972</td>\n",
       "    </tr>\n",
       "    <tr>\n",
       "      <th>2</th>\n",
       "      <td>2025-04-09</td>\n",
       "      <td>144.41</td>\n",
       "      <td>158.71</td>\n",
       "      <td>70406232</td>\n",
       "    </tr>\n",
       "    <tr>\n",
       "      <th>3</th>\n",
       "      <td>2025-04-08</td>\n",
       "      <td>151.22</td>\n",
       "      <td>144.70</td>\n",
       "      <td>52200208</td>\n",
       "    </tr>\n",
       "    <tr>\n",
       "      <th>4</th>\n",
       "      <td>2025-04-07</td>\n",
       "      <td>141.55</td>\n",
       "      <td>146.75</td>\n",
       "      <td>76794136</td>\n",
       "    </tr>\n",
       "    <tr>\n",
       "      <th>...</th>\n",
       "      <td>...</td>\n",
       "      <td>...</td>\n",
       "      <td>...</td>\n",
       "      <td>...</td>\n",
       "    </tr>\n",
       "    <tr>\n",
       "      <th>1252</th>\n",
       "      <td>2020-04-20</td>\n",
       "      <td>63.27</td>\n",
       "      <td>62.83</td>\n",
       "      <td>35420097</td>\n",
       "    </tr>\n",
       "    <tr>\n",
       "      <th>1253</th>\n",
       "      <td>2020-04-17</td>\n",
       "      <td>63.85</td>\n",
       "      <td>63.72</td>\n",
       "      <td>51241564</td>\n",
       "    </tr>\n",
       "    <tr>\n",
       "      <th>1254</th>\n",
       "      <td>2020-04-16</td>\n",
       "      <td>63.13</td>\n",
       "      <td>62.64</td>\n",
       "      <td>58105015</td>\n",
       "    </tr>\n",
       "    <tr>\n",
       "      <th>1255</th>\n",
       "      <td>2020-04-15</td>\n",
       "      <td>62.10</td>\n",
       "      <td>62.64</td>\n",
       "      <td>42389952</td>\n",
       "    </tr>\n",
       "    <tr>\n",
       "      <th>1256</th>\n",
       "      <td>2020-04-14</td>\n",
       "      <td>61.77</td>\n",
       "      <td>63.03</td>\n",
       "      <td>63586916</td>\n",
       "    </tr>\n",
       "  </tbody>\n",
       "</table>\n",
       "<p>1257 rows × 4 columns</p>\n",
       "</div>"
      ]
     },
     "execution_count": 155,
     "metadata": {},
     "output_type": "execute_result"
    }
   ],
   "execution_count": 155
  },
  {
   "cell_type": "markdown",
   "metadata": {
    "id": "TXUd_4631-gw"
   },
   "source": [
    "### <a name='8'></a> Ćwiczenie 128\n",
    "Ustaw z powrotem indeks dla kolumny _Date_. Wyświetl obiekt _google_."
   ]
  },
  {
   "cell_type": "code",
   "metadata": {
    "ExecuteTime": {
     "end_time": "2025-04-13T21:41:18.705848Z",
     "start_time": "2025-04-13T21:41:18.698125Z"
    }
   },
   "source": "google = google.set_index('Date')",
   "outputs": [],
   "execution_count": 156
  },
  {
   "metadata": {
    "id": "E4zwlRNFoMMz",
    "ExecuteTime": {
     "end_time": "2025-04-13T21:41:18.857907Z",
     "start_time": "2025-04-13T21:41:18.842881Z"
    }
   },
   "cell_type": "code",
   "source": "google",
   "outputs": [
    {
     "data": {
      "text/plain": [
       "             Open   High    Low  Close    Volume  Month  Year\n",
       "Date                                                         \n",
       "2025-04-11 152.90 157.67 152.82 157.14  33636239      4  2025\n",
       "2025-04-10 156.54 157.72 149.93 152.82  48021972      4  2025\n",
       "2025-04-09 144.41 159.55 143.91 158.71  70406232      4  2025\n",
       "2025-04-08 151.22 152.24 143.03 144.70  52200208      4  2025\n",
       "2025-04-07 141.55 152.85 140.53 146.75  76794136      4  2025\n",
       "...           ...    ...    ...    ...       ...    ...   ...\n",
       "2020-04-20  63.27  63.61  62.60  62.83  35420097      4  2020\n",
       "2020-04-17  63.85  64.27  63.07  63.72  51241564      4  2020\n",
       "2020-04-16  63.13  63.44  61.69  62.64  58105015      4  2020\n",
       "2020-04-15  62.10  63.53  61.48  62.64  42389952      4  2020\n",
       "2020-04-14  61.77  63.56  61.21  63.03  63586916      4  2020\n",
       "\n",
       "[1257 rows x 7 columns]"
      ],
      "text/html": [
       "<div>\n",
       "<style scoped>\n",
       "    .dataframe tbody tr th:only-of-type {\n",
       "        vertical-align: middle;\n",
       "    }\n",
       "\n",
       "    .dataframe tbody tr th {\n",
       "        vertical-align: top;\n",
       "    }\n",
       "\n",
       "    .dataframe thead th {\n",
       "        text-align: right;\n",
       "    }\n",
       "</style>\n",
       "<table border=\"1\" class=\"dataframe\">\n",
       "  <thead>\n",
       "    <tr style=\"text-align: right;\">\n",
       "      <th></th>\n",
       "      <th>Open</th>\n",
       "      <th>High</th>\n",
       "      <th>Low</th>\n",
       "      <th>Close</th>\n",
       "      <th>Volume</th>\n",
       "      <th>Month</th>\n",
       "      <th>Year</th>\n",
       "    </tr>\n",
       "    <tr>\n",
       "      <th>Date</th>\n",
       "      <th></th>\n",
       "      <th></th>\n",
       "      <th></th>\n",
       "      <th></th>\n",
       "      <th></th>\n",
       "      <th></th>\n",
       "      <th></th>\n",
       "    </tr>\n",
       "  </thead>\n",
       "  <tbody>\n",
       "    <tr>\n",
       "      <th>2025-04-11</th>\n",
       "      <td>152.90</td>\n",
       "      <td>157.67</td>\n",
       "      <td>152.82</td>\n",
       "      <td>157.14</td>\n",
       "      <td>33636239</td>\n",
       "      <td>4</td>\n",
       "      <td>2025</td>\n",
       "    </tr>\n",
       "    <tr>\n",
       "      <th>2025-04-10</th>\n",
       "      <td>156.54</td>\n",
       "      <td>157.72</td>\n",
       "      <td>149.93</td>\n",
       "      <td>152.82</td>\n",
       "      <td>48021972</td>\n",
       "      <td>4</td>\n",
       "      <td>2025</td>\n",
       "    </tr>\n",
       "    <tr>\n",
       "      <th>2025-04-09</th>\n",
       "      <td>144.41</td>\n",
       "      <td>159.55</td>\n",
       "      <td>143.91</td>\n",
       "      <td>158.71</td>\n",
       "      <td>70406232</td>\n",
       "      <td>4</td>\n",
       "      <td>2025</td>\n",
       "    </tr>\n",
       "    <tr>\n",
       "      <th>2025-04-08</th>\n",
       "      <td>151.22</td>\n",
       "      <td>152.24</td>\n",
       "      <td>143.03</td>\n",
       "      <td>144.70</td>\n",
       "      <td>52200208</td>\n",
       "      <td>4</td>\n",
       "      <td>2025</td>\n",
       "    </tr>\n",
       "    <tr>\n",
       "      <th>2025-04-07</th>\n",
       "      <td>141.55</td>\n",
       "      <td>152.85</td>\n",
       "      <td>140.53</td>\n",
       "      <td>146.75</td>\n",
       "      <td>76794136</td>\n",
       "      <td>4</td>\n",
       "      <td>2025</td>\n",
       "    </tr>\n",
       "    <tr>\n",
       "      <th>...</th>\n",
       "      <td>...</td>\n",
       "      <td>...</td>\n",
       "      <td>...</td>\n",
       "      <td>...</td>\n",
       "      <td>...</td>\n",
       "      <td>...</td>\n",
       "      <td>...</td>\n",
       "    </tr>\n",
       "    <tr>\n",
       "      <th>2020-04-20</th>\n",
       "      <td>63.27</td>\n",
       "      <td>63.61</td>\n",
       "      <td>62.60</td>\n",
       "      <td>62.83</td>\n",
       "      <td>35420097</td>\n",
       "      <td>4</td>\n",
       "      <td>2020</td>\n",
       "    </tr>\n",
       "    <tr>\n",
       "      <th>2020-04-17</th>\n",
       "      <td>63.85</td>\n",
       "      <td>64.27</td>\n",
       "      <td>63.07</td>\n",
       "      <td>63.72</td>\n",
       "      <td>51241564</td>\n",
       "      <td>4</td>\n",
       "      <td>2020</td>\n",
       "    </tr>\n",
       "    <tr>\n",
       "      <th>2020-04-16</th>\n",
       "      <td>63.13</td>\n",
       "      <td>63.44</td>\n",
       "      <td>61.69</td>\n",
       "      <td>62.64</td>\n",
       "      <td>58105015</td>\n",
       "      <td>4</td>\n",
       "      <td>2020</td>\n",
       "    </tr>\n",
       "    <tr>\n",
       "      <th>2020-04-15</th>\n",
       "      <td>62.10</td>\n",
       "      <td>63.53</td>\n",
       "      <td>61.48</td>\n",
       "      <td>62.64</td>\n",
       "      <td>42389952</td>\n",
       "      <td>4</td>\n",
       "      <td>2020</td>\n",
       "    </tr>\n",
       "    <tr>\n",
       "      <th>2020-04-14</th>\n",
       "      <td>61.77</td>\n",
       "      <td>63.56</td>\n",
       "      <td>61.21</td>\n",
       "      <td>63.03</td>\n",
       "      <td>63586916</td>\n",
       "      <td>4</td>\n",
       "      <td>2020</td>\n",
       "    </tr>\n",
       "  </tbody>\n",
       "</table>\n",
       "<p>1257 rows × 7 columns</p>\n",
       "</div>"
      ]
     },
     "execution_count": 157,
     "metadata": {},
     "output_type": "execute_result"
    }
   ],
   "execution_count": 157
  },
  {
   "cell_type": "markdown",
   "metadata": {
    "id": "tgI6xEn-2AQo"
   },
   "source": [
    "### <a name='9'></a> Ćwiczenie 129\n",
    "Usuń na stałe kolumny _Year_ i _Month_ z obiektu _google_. Wyświetl obiekt _google_."
   ]
  },
  {
   "cell_type": "code",
   "metadata": {
    "id": "Qpy5zTecoY1T",
    "ExecuteTime": {
     "end_time": "2025-04-13T21:41:59.899411Z",
     "start_time": "2025-04-13T21:41:59.889331Z"
    }
   },
   "source": [
    "google = google.drop(columns=['Year','Month'])\n",
    "google"
   ],
   "outputs": [
    {
     "data": {
      "text/plain": [
       "             Open   High    Low  Close    Volume\n",
       "Date                                            \n",
       "2025-04-11 152.90 157.67 152.82 157.14  33636239\n",
       "2025-04-10 156.54 157.72 149.93 152.82  48021972\n",
       "2025-04-09 144.41 159.55 143.91 158.71  70406232\n",
       "2025-04-08 151.22 152.24 143.03 144.70  52200208\n",
       "2025-04-07 141.55 152.85 140.53 146.75  76794136\n",
       "...           ...    ...    ...    ...       ...\n",
       "2020-04-20  63.27  63.61  62.60  62.83  35420097\n",
       "2020-04-17  63.85  64.27  63.07  63.72  51241564\n",
       "2020-04-16  63.13  63.44  61.69  62.64  58105015\n",
       "2020-04-15  62.10  63.53  61.48  62.64  42389952\n",
       "2020-04-14  61.77  63.56  61.21  63.03  63586916\n",
       "\n",
       "[1257 rows x 5 columns]"
      ],
      "text/html": [
       "<div>\n",
       "<style scoped>\n",
       "    .dataframe tbody tr th:only-of-type {\n",
       "        vertical-align: middle;\n",
       "    }\n",
       "\n",
       "    .dataframe tbody tr th {\n",
       "        vertical-align: top;\n",
       "    }\n",
       "\n",
       "    .dataframe thead th {\n",
       "        text-align: right;\n",
       "    }\n",
       "</style>\n",
       "<table border=\"1\" class=\"dataframe\">\n",
       "  <thead>\n",
       "    <tr style=\"text-align: right;\">\n",
       "      <th></th>\n",
       "      <th>Open</th>\n",
       "      <th>High</th>\n",
       "      <th>Low</th>\n",
       "      <th>Close</th>\n",
       "      <th>Volume</th>\n",
       "    </tr>\n",
       "    <tr>\n",
       "      <th>Date</th>\n",
       "      <th></th>\n",
       "      <th></th>\n",
       "      <th></th>\n",
       "      <th></th>\n",
       "      <th></th>\n",
       "    </tr>\n",
       "  </thead>\n",
       "  <tbody>\n",
       "    <tr>\n",
       "      <th>2025-04-11</th>\n",
       "      <td>152.90</td>\n",
       "      <td>157.67</td>\n",
       "      <td>152.82</td>\n",
       "      <td>157.14</td>\n",
       "      <td>33636239</td>\n",
       "    </tr>\n",
       "    <tr>\n",
       "      <th>2025-04-10</th>\n",
       "      <td>156.54</td>\n",
       "      <td>157.72</td>\n",
       "      <td>149.93</td>\n",
       "      <td>152.82</td>\n",
       "      <td>48021972</td>\n",
       "    </tr>\n",
       "    <tr>\n",
       "      <th>2025-04-09</th>\n",
       "      <td>144.41</td>\n",
       "      <td>159.55</td>\n",
       "      <td>143.91</td>\n",
       "      <td>158.71</td>\n",
       "      <td>70406232</td>\n",
       "    </tr>\n",
       "    <tr>\n",
       "      <th>2025-04-08</th>\n",
       "      <td>151.22</td>\n",
       "      <td>152.24</td>\n",
       "      <td>143.03</td>\n",
       "      <td>144.70</td>\n",
       "      <td>52200208</td>\n",
       "    </tr>\n",
       "    <tr>\n",
       "      <th>2025-04-07</th>\n",
       "      <td>141.55</td>\n",
       "      <td>152.85</td>\n",
       "      <td>140.53</td>\n",
       "      <td>146.75</td>\n",
       "      <td>76794136</td>\n",
       "    </tr>\n",
       "    <tr>\n",
       "      <th>...</th>\n",
       "      <td>...</td>\n",
       "      <td>...</td>\n",
       "      <td>...</td>\n",
       "      <td>...</td>\n",
       "      <td>...</td>\n",
       "    </tr>\n",
       "    <tr>\n",
       "      <th>2020-04-20</th>\n",
       "      <td>63.27</td>\n",
       "      <td>63.61</td>\n",
       "      <td>62.60</td>\n",
       "      <td>62.83</td>\n",
       "      <td>35420097</td>\n",
       "    </tr>\n",
       "    <tr>\n",
       "      <th>2020-04-17</th>\n",
       "      <td>63.85</td>\n",
       "      <td>64.27</td>\n",
       "      <td>63.07</td>\n",
       "      <td>63.72</td>\n",
       "      <td>51241564</td>\n",
       "    </tr>\n",
       "    <tr>\n",
       "      <th>2020-04-16</th>\n",
       "      <td>63.13</td>\n",
       "      <td>63.44</td>\n",
       "      <td>61.69</td>\n",
       "      <td>62.64</td>\n",
       "      <td>58105015</td>\n",
       "    </tr>\n",
       "    <tr>\n",
       "      <th>2020-04-15</th>\n",
       "      <td>62.10</td>\n",
       "      <td>63.53</td>\n",
       "      <td>61.48</td>\n",
       "      <td>62.64</td>\n",
       "      <td>42389952</td>\n",
       "    </tr>\n",
       "    <tr>\n",
       "      <th>2020-04-14</th>\n",
       "      <td>61.77</td>\n",
       "      <td>63.56</td>\n",
       "      <td>61.21</td>\n",
       "      <td>63.03</td>\n",
       "      <td>63586916</td>\n",
       "    </tr>\n",
       "  </tbody>\n",
       "</table>\n",
       "<p>1257 rows × 5 columns</p>\n",
       "</div>"
      ]
     },
     "execution_count": 163,
     "metadata": {},
     "output_type": "execute_result"
    }
   ],
   "execution_count": 163
  },
  {
   "cell_type": "markdown",
   "metadata": {
    "id": "wxhpf-uq2B1I"
   },
   "source": [
    "### <a name='10'></a> Ćwiczenie 130\n",
    "Przypisz polskie nazwy kolumn (bez polskich znaków):\n",
    "* Open -> Otwarcie\n",
    "* High -> Najwyzszy\n",
    "* Low -> Najnizszy\n",
    "* Close -> Zamkniecie\n",
    "* Volume -> Wolumen\n",
    "\n",
    "do obiektu _google_. Wyświetl obiekt _google_."
   ]
  },
  {
   "cell_type": "code",
   "metadata": {
    "ExecuteTime": {
     "end_time": "2025-04-13T21:42:02.733687Z",
     "start_time": "2025-04-13T21:42:02.728690Z"
    }
   },
   "source": "google.columns",
   "outputs": [
    {
     "data": {
      "text/plain": [
       "Index(['Open', 'High', 'Low', 'Close', 'Volume'], dtype='object')"
      ]
     },
     "execution_count": 164,
     "metadata": {},
     "output_type": "execute_result"
    }
   ],
   "execution_count": 164
  },
  {
   "metadata": {
    "id": "YFc0KW6URsuc",
    "ExecuteTime": {
     "end_time": "2025-04-13T21:42:04.795978Z",
     "start_time": "2025-04-13T21:42:04.786522Z"
    }
   },
   "cell_type": "code",
   "source": [
    "google.columns = ['Otwarcie', 'Najwyzszy', 'Najnizszy', 'Zakniecie', 'Wolumen']\n",
    "google"
   ],
   "outputs": [
    {
     "data": {
      "text/plain": [
       "            Otwarcie  Najwyzszy  Najnizszy  Zakniecie   Wolumen\n",
       "Date                                                           \n",
       "2025-04-11    152.90     157.67     152.82     157.14  33636239\n",
       "2025-04-10    156.54     157.72     149.93     152.82  48021972\n",
       "2025-04-09    144.41     159.55     143.91     158.71  70406232\n",
       "2025-04-08    151.22     152.24     143.03     144.70  52200208\n",
       "2025-04-07    141.55     152.85     140.53     146.75  76794136\n",
       "...              ...        ...        ...        ...       ...\n",
       "2020-04-20     63.27      63.61      62.60      62.83  35420097\n",
       "2020-04-17     63.85      64.27      63.07      63.72  51241564\n",
       "2020-04-16     63.13      63.44      61.69      62.64  58105015\n",
       "2020-04-15     62.10      63.53      61.48      62.64  42389952\n",
       "2020-04-14     61.77      63.56      61.21      63.03  63586916\n",
       "\n",
       "[1257 rows x 5 columns]"
      ],
      "text/html": [
       "<div>\n",
       "<style scoped>\n",
       "    .dataframe tbody tr th:only-of-type {\n",
       "        vertical-align: middle;\n",
       "    }\n",
       "\n",
       "    .dataframe tbody tr th {\n",
       "        vertical-align: top;\n",
       "    }\n",
       "\n",
       "    .dataframe thead th {\n",
       "        text-align: right;\n",
       "    }\n",
       "</style>\n",
       "<table border=\"1\" class=\"dataframe\">\n",
       "  <thead>\n",
       "    <tr style=\"text-align: right;\">\n",
       "      <th></th>\n",
       "      <th>Otwarcie</th>\n",
       "      <th>Najwyzszy</th>\n",
       "      <th>Najnizszy</th>\n",
       "      <th>Zakniecie</th>\n",
       "      <th>Wolumen</th>\n",
       "    </tr>\n",
       "    <tr>\n",
       "      <th>Date</th>\n",
       "      <th></th>\n",
       "      <th></th>\n",
       "      <th></th>\n",
       "      <th></th>\n",
       "      <th></th>\n",
       "    </tr>\n",
       "  </thead>\n",
       "  <tbody>\n",
       "    <tr>\n",
       "      <th>2025-04-11</th>\n",
       "      <td>152.90</td>\n",
       "      <td>157.67</td>\n",
       "      <td>152.82</td>\n",
       "      <td>157.14</td>\n",
       "      <td>33636239</td>\n",
       "    </tr>\n",
       "    <tr>\n",
       "      <th>2025-04-10</th>\n",
       "      <td>156.54</td>\n",
       "      <td>157.72</td>\n",
       "      <td>149.93</td>\n",
       "      <td>152.82</td>\n",
       "      <td>48021972</td>\n",
       "    </tr>\n",
       "    <tr>\n",
       "      <th>2025-04-09</th>\n",
       "      <td>144.41</td>\n",
       "      <td>159.55</td>\n",
       "      <td>143.91</td>\n",
       "      <td>158.71</td>\n",
       "      <td>70406232</td>\n",
       "    </tr>\n",
       "    <tr>\n",
       "      <th>2025-04-08</th>\n",
       "      <td>151.22</td>\n",
       "      <td>152.24</td>\n",
       "      <td>143.03</td>\n",
       "      <td>144.70</td>\n",
       "      <td>52200208</td>\n",
       "    </tr>\n",
       "    <tr>\n",
       "      <th>2025-04-07</th>\n",
       "      <td>141.55</td>\n",
       "      <td>152.85</td>\n",
       "      <td>140.53</td>\n",
       "      <td>146.75</td>\n",
       "      <td>76794136</td>\n",
       "    </tr>\n",
       "    <tr>\n",
       "      <th>...</th>\n",
       "      <td>...</td>\n",
       "      <td>...</td>\n",
       "      <td>...</td>\n",
       "      <td>...</td>\n",
       "      <td>...</td>\n",
       "    </tr>\n",
       "    <tr>\n",
       "      <th>2020-04-20</th>\n",
       "      <td>63.27</td>\n",
       "      <td>63.61</td>\n",
       "      <td>62.60</td>\n",
       "      <td>62.83</td>\n",
       "      <td>35420097</td>\n",
       "    </tr>\n",
       "    <tr>\n",
       "      <th>2020-04-17</th>\n",
       "      <td>63.85</td>\n",
       "      <td>64.27</td>\n",
       "      <td>63.07</td>\n",
       "      <td>63.72</td>\n",
       "      <td>51241564</td>\n",
       "    </tr>\n",
       "    <tr>\n",
       "      <th>2020-04-16</th>\n",
       "      <td>63.13</td>\n",
       "      <td>63.44</td>\n",
       "      <td>61.69</td>\n",
       "      <td>62.64</td>\n",
       "      <td>58105015</td>\n",
       "    </tr>\n",
       "    <tr>\n",
       "      <th>2020-04-15</th>\n",
       "      <td>62.10</td>\n",
       "      <td>63.53</td>\n",
       "      <td>61.48</td>\n",
       "      <td>62.64</td>\n",
       "      <td>42389952</td>\n",
       "    </tr>\n",
       "    <tr>\n",
       "      <th>2020-04-14</th>\n",
       "      <td>61.77</td>\n",
       "      <td>63.56</td>\n",
       "      <td>61.21</td>\n",
       "      <td>63.03</td>\n",
       "      <td>63586916</td>\n",
       "    </tr>\n",
       "  </tbody>\n",
       "</table>\n",
       "<p>1257 rows × 5 columns</p>\n",
       "</div>"
      ]
     },
     "execution_count": 165,
     "metadata": {},
     "output_type": "execute_result"
    }
   ],
   "execution_count": 165
  },
  {
   "metadata": {},
   "cell_type": "code",
   "outputs": [],
   "execution_count": null,
   "source": ""
  }
 ]
}

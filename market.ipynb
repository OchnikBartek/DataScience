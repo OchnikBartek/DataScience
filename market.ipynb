{
 "cells": [
  {
   "cell_type": "code",
   "execution_count": null,
   "id": "initial_id",
   "metadata": {
    "collapsed": true
   },
   "outputs": [],
   "source": [
    ""
   ]
  },
  {
   "metadata": {
    "ExecuteTime": {
     "end_time": "2025-03-20T22:13:04.821958Z",
     "start_time": "2025-03-20T22:13:03.824782Z"
    }
   },
   "cell_type": "code",
   "source": [
    "def fetch_financial_data(company='AMZN'):\n",
    "    import pandas_datareader.data as web\n",
    "    return web.DataReader(name=company, data_source='stooq')\n",
    "\n",
    "df = fetch_financial_data()\n",
    "df.info()"
   ],
   "id": "2593c11fec89f7c8",
   "outputs": [
    {
     "name": "stdout",
     "output_type": "stream",
     "text": [
      "<class 'pandas.core.frame.DataFrame'>\n",
      "DatetimeIndex: 1255 entries, 2025-03-19 to 2020-03-23\n",
      "Data columns (total 5 columns):\n",
      " #   Column  Non-Null Count  Dtype  \n",
      "---  ------  --------------  -----  \n",
      " 0   Open    1255 non-null   float64\n",
      " 1   High    1255 non-null   float64\n",
      " 2   Low     1255 non-null   float64\n",
      " 3   Close   1255 non-null   float64\n",
      " 4   Volume  1255 non-null   int64  \n",
      "dtypes: float64(4), int64(1)\n",
      "memory usage: 58.8 KB\n"
     ]
    }
   ],
   "execution_count": 1
  },
  {
   "metadata": {
    "ExecuteTime": {
     "end_time": "2025-03-20T22:13:19.455334Z",
     "start_time": "2025-03-20T22:13:19.445623Z"
    }
   },
   "cell_type": "code",
   "source": "df.head()",
   "id": "32aa232497cba148",
   "outputs": [
    {
     "data": {
      "text/plain": [
       "               Open      High       Low   Close    Volume\n",
       "Date                                                     \n",
       "2025-03-19  193.380  195.9650  191.9600  195.54  39442878\n",
       "2025-03-18  192.520  194.0000  189.3800  192.82  40414867\n",
       "2025-03-17  198.770  199.0000  194.3247  195.74  47341752\n",
       "2025-03-14  197.410  198.6500  195.3200  197.95  38096663\n",
       "2025-03-13  198.165  198.8799  191.8200  193.89  41270761"
      ],
      "text/html": [
       "<div>\n",
       "<style scoped>\n",
       "    .dataframe tbody tr th:only-of-type {\n",
       "        vertical-align: middle;\n",
       "    }\n",
       "\n",
       "    .dataframe tbody tr th {\n",
       "        vertical-align: top;\n",
       "    }\n",
       "\n",
       "    .dataframe thead th {\n",
       "        text-align: right;\n",
       "    }\n",
       "</style>\n",
       "<table border=\"1\" class=\"dataframe\">\n",
       "  <thead>\n",
       "    <tr style=\"text-align: right;\">\n",
       "      <th></th>\n",
       "      <th>Open</th>\n",
       "      <th>High</th>\n",
       "      <th>Low</th>\n",
       "      <th>Close</th>\n",
       "      <th>Volume</th>\n",
       "    </tr>\n",
       "    <tr>\n",
       "      <th>Date</th>\n",
       "      <th></th>\n",
       "      <th></th>\n",
       "      <th></th>\n",
       "      <th></th>\n",
       "      <th></th>\n",
       "    </tr>\n",
       "  </thead>\n",
       "  <tbody>\n",
       "    <tr>\n",
       "      <th>2025-03-19</th>\n",
       "      <td>193.380</td>\n",
       "      <td>195.9650</td>\n",
       "      <td>191.9600</td>\n",
       "      <td>195.54</td>\n",
       "      <td>39442878</td>\n",
       "    </tr>\n",
       "    <tr>\n",
       "      <th>2025-03-18</th>\n",
       "      <td>192.520</td>\n",
       "      <td>194.0000</td>\n",
       "      <td>189.3800</td>\n",
       "      <td>192.82</td>\n",
       "      <td>40414867</td>\n",
       "    </tr>\n",
       "    <tr>\n",
       "      <th>2025-03-17</th>\n",
       "      <td>198.770</td>\n",
       "      <td>199.0000</td>\n",
       "      <td>194.3247</td>\n",
       "      <td>195.74</td>\n",
       "      <td>47341752</td>\n",
       "    </tr>\n",
       "    <tr>\n",
       "      <th>2025-03-14</th>\n",
       "      <td>197.410</td>\n",
       "      <td>198.6500</td>\n",
       "      <td>195.3200</td>\n",
       "      <td>197.95</td>\n",
       "      <td>38096663</td>\n",
       "    </tr>\n",
       "    <tr>\n",
       "      <th>2025-03-13</th>\n",
       "      <td>198.165</td>\n",
       "      <td>198.8799</td>\n",
       "      <td>191.8200</td>\n",
       "      <td>193.89</td>\n",
       "      <td>41270761</td>\n",
       "    </tr>\n",
       "  </tbody>\n",
       "</table>\n",
       "</div>"
      ]
     },
     "execution_count": 2,
     "metadata": {},
     "output_type": "execute_result"
    }
   ],
   "execution_count": 2
  },
  {
   "metadata": {
    "ExecuteTime": {
     "end_time": "2025-03-20T22:13:28.817813Z",
     "start_time": "2025-03-20T22:13:28.813699Z"
    }
   },
   "cell_type": "code",
   "source": "df.columns",
   "id": "daa0612989e34b07",
   "outputs": [
    {
     "data": {
      "text/plain": [
       "Index(['Open', 'High', 'Low', 'Close', 'Volume'], dtype='object')"
      ]
     },
     "execution_count": 3,
     "metadata": {},
     "output_type": "execute_result"
    }
   ],
   "execution_count": 3
  },
  {
   "metadata": {
    "ExecuteTime": {
     "end_time": "2025-03-20T22:14:03.930946Z",
     "start_time": "2025-03-20T22:14:03.923636Z"
    }
   },
   "cell_type": "code",
   "source": [
    "df.columns = [col.lower() for col in df.columns]\n",
    "df.head()"
   ],
   "id": "a4dc497c4adadffc",
   "outputs": [
    {
     "data": {
      "text/plain": [
       "               open      high       low   close    volume\n",
       "Date                                                     \n",
       "2025-03-19  193.380  195.9650  191.9600  195.54  39442878\n",
       "2025-03-18  192.520  194.0000  189.3800  192.82  40414867\n",
       "2025-03-17  198.770  199.0000  194.3247  195.74  47341752\n",
       "2025-03-14  197.410  198.6500  195.3200  197.95  38096663\n",
       "2025-03-13  198.165  198.8799  191.8200  193.89  41270761"
      ],
      "text/html": [
       "<div>\n",
       "<style scoped>\n",
       "    .dataframe tbody tr th:only-of-type {\n",
       "        vertical-align: middle;\n",
       "    }\n",
       "\n",
       "    .dataframe tbody tr th {\n",
       "        vertical-align: top;\n",
       "    }\n",
       "\n",
       "    .dataframe thead th {\n",
       "        text-align: right;\n",
       "    }\n",
       "</style>\n",
       "<table border=\"1\" class=\"dataframe\">\n",
       "  <thead>\n",
       "    <tr style=\"text-align: right;\">\n",
       "      <th></th>\n",
       "      <th>open</th>\n",
       "      <th>high</th>\n",
       "      <th>low</th>\n",
       "      <th>close</th>\n",
       "      <th>volume</th>\n",
       "    </tr>\n",
       "    <tr>\n",
       "      <th>Date</th>\n",
       "      <th></th>\n",
       "      <th></th>\n",
       "      <th></th>\n",
       "      <th></th>\n",
       "      <th></th>\n",
       "    </tr>\n",
       "  </thead>\n",
       "  <tbody>\n",
       "    <tr>\n",
       "      <th>2025-03-19</th>\n",
       "      <td>193.380</td>\n",
       "      <td>195.9650</td>\n",
       "      <td>191.9600</td>\n",
       "      <td>195.54</td>\n",
       "      <td>39442878</td>\n",
       "    </tr>\n",
       "    <tr>\n",
       "      <th>2025-03-18</th>\n",
       "      <td>192.520</td>\n",
       "      <td>194.0000</td>\n",
       "      <td>189.3800</td>\n",
       "      <td>192.82</td>\n",
       "      <td>40414867</td>\n",
       "    </tr>\n",
       "    <tr>\n",
       "      <th>2025-03-17</th>\n",
       "      <td>198.770</td>\n",
       "      <td>199.0000</td>\n",
       "      <td>194.3247</td>\n",
       "      <td>195.74</td>\n",
       "      <td>47341752</td>\n",
       "    </tr>\n",
       "    <tr>\n",
       "      <th>2025-03-14</th>\n",
       "      <td>197.410</td>\n",
       "      <td>198.6500</td>\n",
       "      <td>195.3200</td>\n",
       "      <td>197.95</td>\n",
       "      <td>38096663</td>\n",
       "    </tr>\n",
       "    <tr>\n",
       "      <th>2025-03-13</th>\n",
       "      <td>198.165</td>\n",
       "      <td>198.8799</td>\n",
       "      <td>191.8200</td>\n",
       "      <td>193.89</td>\n",
       "      <td>41270761</td>\n",
       "    </tr>\n",
       "  </tbody>\n",
       "</table>\n",
       "</div>"
      ]
     },
     "execution_count": 4,
     "metadata": {},
     "output_type": "execute_result"
    }
   ],
   "execution_count": 4
  },
  {
   "metadata": {
    "ExecuteTime": {
     "end_time": "2025-03-20T22:14:54.318329Z",
     "start_time": "2025-03-20T22:14:54.301637Z"
    }
   },
   "cell_type": "code",
   "source": "df.describe().T",
   "id": "243a90e3c8c32198",
   "outputs": [
    {
     "data": {
      "text/plain": [
       "         count          mean           std          min           25%  \\\n",
       "open    1255.0  1.519783e+02  3.353215e+01        82.80  1.262750e+02   \n",
       "high    1255.0  1.538076e+02  3.359582e+01        83.48  1.284300e+02   \n",
       "low     1255.0  1.499843e+02  3.331623e+01        81.43  1.247500e+02   \n",
       "close   1255.0  1.519320e+02  3.346176e+01        81.82  1.265650e+02   \n",
       "volume  1255.0  6.557474e+07  3.140633e+07  15007497.00  4.426922e+07   \n",
       "\n",
       "                 50%           75%           max  \n",
       "open    1.568900e+02  1.734500e+02  2.390150e+02  \n",
       "high    1.588340e+02  1.748360e+02  2.425200e+02  \n",
       "low     1.547580e+02  1.717250e+02  2.380300e+02  \n",
       "close   1.567860e+02  1.731580e+02  2.420600e+02  \n",
       "volume  5.859438e+07  7.752248e+07  2.726617e+08  "
      ],
      "text/html": [
       "<div>\n",
       "<style scoped>\n",
       "    .dataframe tbody tr th:only-of-type {\n",
       "        vertical-align: middle;\n",
       "    }\n",
       "\n",
       "    .dataframe tbody tr th {\n",
       "        vertical-align: top;\n",
       "    }\n",
       "\n",
       "    .dataframe thead th {\n",
       "        text-align: right;\n",
       "    }\n",
       "</style>\n",
       "<table border=\"1\" class=\"dataframe\">\n",
       "  <thead>\n",
       "    <tr style=\"text-align: right;\">\n",
       "      <th></th>\n",
       "      <th>count</th>\n",
       "      <th>mean</th>\n",
       "      <th>std</th>\n",
       "      <th>min</th>\n",
       "      <th>25%</th>\n",
       "      <th>50%</th>\n",
       "      <th>75%</th>\n",
       "      <th>max</th>\n",
       "    </tr>\n",
       "  </thead>\n",
       "  <tbody>\n",
       "    <tr>\n",
       "      <th>open</th>\n",
       "      <td>1255.0</td>\n",
       "      <td>1.519783e+02</td>\n",
       "      <td>3.353215e+01</td>\n",
       "      <td>82.80</td>\n",
       "      <td>1.262750e+02</td>\n",
       "      <td>1.568900e+02</td>\n",
       "      <td>1.734500e+02</td>\n",
       "      <td>2.390150e+02</td>\n",
       "    </tr>\n",
       "    <tr>\n",
       "      <th>high</th>\n",
       "      <td>1255.0</td>\n",
       "      <td>1.538076e+02</td>\n",
       "      <td>3.359582e+01</td>\n",
       "      <td>83.48</td>\n",
       "      <td>1.284300e+02</td>\n",
       "      <td>1.588340e+02</td>\n",
       "      <td>1.748360e+02</td>\n",
       "      <td>2.425200e+02</td>\n",
       "    </tr>\n",
       "    <tr>\n",
       "      <th>low</th>\n",
       "      <td>1255.0</td>\n",
       "      <td>1.499843e+02</td>\n",
       "      <td>3.331623e+01</td>\n",
       "      <td>81.43</td>\n",
       "      <td>1.247500e+02</td>\n",
       "      <td>1.547580e+02</td>\n",
       "      <td>1.717250e+02</td>\n",
       "      <td>2.380300e+02</td>\n",
       "    </tr>\n",
       "    <tr>\n",
       "      <th>close</th>\n",
       "      <td>1255.0</td>\n",
       "      <td>1.519320e+02</td>\n",
       "      <td>3.346176e+01</td>\n",
       "      <td>81.82</td>\n",
       "      <td>1.265650e+02</td>\n",
       "      <td>1.567860e+02</td>\n",
       "      <td>1.731580e+02</td>\n",
       "      <td>2.420600e+02</td>\n",
       "    </tr>\n",
       "    <tr>\n",
       "      <th>volume</th>\n",
       "      <td>1255.0</td>\n",
       "      <td>6.557474e+07</td>\n",
       "      <td>3.140633e+07</td>\n",
       "      <td>15007497.00</td>\n",
       "      <td>4.426922e+07</td>\n",
       "      <td>5.859438e+07</td>\n",
       "      <td>7.752248e+07</td>\n",
       "      <td>2.726617e+08</td>\n",
       "    </tr>\n",
       "  </tbody>\n",
       "</table>\n",
       "</div>"
      ]
     },
     "execution_count": 5,
     "metadata": {},
     "output_type": "execute_result"
    }
   ],
   "execution_count": 5
  },
  {
   "metadata": {
    "ExecuteTime": {
     "end_time": "2025-03-20T22:19:07.314870Z",
     "start_time": "2025-03-20T22:19:07.310636Z"
    }
   },
   "cell_type": "code",
   "source": [
    "df = df.head(10)\n",
    "df.open\n"
   ],
   "id": "e6604c3677178ac0",
   "outputs": [
    {
     "data": {
      "text/plain": [
       "Date\n",
       "2025-03-19    193.380\n",
       "2025-03-18    192.520\n",
       "2025-03-17    198.770\n",
       "2025-03-14    197.410\n",
       "2025-03-13    198.165\n",
       "2025-03-12    200.720\n",
       "2025-03-11    193.900\n",
       "2025-03-10    195.600\n",
       "2025-03-07    199.490\n",
       "2025-03-06    204.400\n",
       "Name: open, dtype: float64"
      ]
     },
     "execution_count": 12,
     "metadata": {},
     "output_type": "execute_result"
    }
   ],
   "execution_count": 12
  },
  {
   "metadata": {
    "ExecuteTime": {
     "end_time": "2025-03-20T22:19:23.475427Z",
     "start_time": "2025-03-20T22:19:23.471171Z"
    }
   },
   "cell_type": "code",
   "source": "type(df.open)",
   "id": "9564c886f5c4c000",
   "outputs": [
    {
     "data": {
      "text/plain": [
       "pandas.core.series.Series"
      ]
     },
     "execution_count": 13,
     "metadata": {},
     "output_type": "execute_result"
    }
   ],
   "execution_count": 13
  },
  {
   "metadata": {
    "ExecuteTime": {
     "end_time": "2025-03-20T22:19:02.884538Z",
     "start_time": "2025-03-20T22:19:02.877857Z"
    }
   },
   "cell_type": "code",
   "source": "df[['open']]",
   "id": "b258824a5816e382",
   "outputs": [
    {
     "data": {
      "text/plain": [
       "               open\n",
       "Date               \n",
       "2025-03-19  193.380\n",
       "2025-03-18  192.520\n",
       "2025-03-17  198.770\n",
       "2025-03-14  197.410\n",
       "2025-03-13  198.165\n",
       "2025-03-12  200.720\n",
       "2025-03-11  193.900\n",
       "2025-03-10  195.600\n",
       "2025-03-07  199.490\n",
       "2025-03-06  204.400"
      ],
      "text/html": [
       "<div>\n",
       "<style scoped>\n",
       "    .dataframe tbody tr th:only-of-type {\n",
       "        vertical-align: middle;\n",
       "    }\n",
       "\n",
       "    .dataframe tbody tr th {\n",
       "        vertical-align: top;\n",
       "    }\n",
       "\n",
       "    .dataframe thead th {\n",
       "        text-align: right;\n",
       "    }\n",
       "</style>\n",
       "<table border=\"1\" class=\"dataframe\">\n",
       "  <thead>\n",
       "    <tr style=\"text-align: right;\">\n",
       "      <th></th>\n",
       "      <th>open</th>\n",
       "    </tr>\n",
       "    <tr>\n",
       "      <th>Date</th>\n",
       "      <th></th>\n",
       "    </tr>\n",
       "  </thead>\n",
       "  <tbody>\n",
       "    <tr>\n",
       "      <th>2025-03-19</th>\n",
       "      <td>193.380</td>\n",
       "    </tr>\n",
       "    <tr>\n",
       "      <th>2025-03-18</th>\n",
       "      <td>192.520</td>\n",
       "    </tr>\n",
       "    <tr>\n",
       "      <th>2025-03-17</th>\n",
       "      <td>198.770</td>\n",
       "    </tr>\n",
       "    <tr>\n",
       "      <th>2025-03-14</th>\n",
       "      <td>197.410</td>\n",
       "    </tr>\n",
       "    <tr>\n",
       "      <th>2025-03-13</th>\n",
       "      <td>198.165</td>\n",
       "    </tr>\n",
       "    <tr>\n",
       "      <th>2025-03-12</th>\n",
       "      <td>200.720</td>\n",
       "    </tr>\n",
       "    <tr>\n",
       "      <th>2025-03-11</th>\n",
       "      <td>193.900</td>\n",
       "    </tr>\n",
       "    <tr>\n",
       "      <th>2025-03-10</th>\n",
       "      <td>195.600</td>\n",
       "    </tr>\n",
       "    <tr>\n",
       "      <th>2025-03-07</th>\n",
       "      <td>199.490</td>\n",
       "    </tr>\n",
       "    <tr>\n",
       "      <th>2025-03-06</th>\n",
       "      <td>204.400</td>\n",
       "    </tr>\n",
       "  </tbody>\n",
       "</table>\n",
       "</div>"
      ]
     },
     "execution_count": 11,
     "metadata": {},
     "output_type": "execute_result"
    }
   ],
   "execution_count": 11
  },
  {
   "metadata": {
    "ExecuteTime": {
     "end_time": "2025-03-20T22:19:36.115245Z",
     "start_time": "2025-03-20T22:19:36.110445Z"
    }
   },
   "cell_type": "code",
   "source": "type(df[['open']])",
   "id": "9b85cb842f531bda",
   "outputs": [
    {
     "data": {
      "text/plain": [
       "pandas.core.frame.DataFrame"
      ]
     },
     "execution_count": 14,
     "metadata": {},
     "output_type": "execute_result"
    }
   ],
   "execution_count": 14
  },
  {
   "metadata": {
    "ExecuteTime": {
     "end_time": "2025-03-20T22:20:34.305794Z",
     "start_time": "2025-03-20T22:20:34.298350Z"
    }
   },
   "cell_type": "code",
   "source": "df.iloc[:,[0,3]]",
   "id": "3b5aa1769522a761",
   "outputs": [
    {
     "data": {
      "text/plain": [
       "               open   close\n",
       "Date                       \n",
       "2025-03-19  193.380  195.54\n",
       "2025-03-18  192.520  192.82\n",
       "2025-03-17  198.770  195.74\n",
       "2025-03-14  197.410  197.95\n",
       "2025-03-13  198.165  193.89\n",
       "2025-03-12  200.720  198.89\n",
       "2025-03-11  193.900  196.59\n",
       "2025-03-10  195.600  194.54\n",
       "2025-03-07  199.490  199.25\n",
       "2025-03-06  204.400  200.70"
      ],
      "text/html": [
       "<div>\n",
       "<style scoped>\n",
       "    .dataframe tbody tr th:only-of-type {\n",
       "        vertical-align: middle;\n",
       "    }\n",
       "\n",
       "    .dataframe tbody tr th {\n",
       "        vertical-align: top;\n",
       "    }\n",
       "\n",
       "    .dataframe thead th {\n",
       "        text-align: right;\n",
       "    }\n",
       "</style>\n",
       "<table border=\"1\" class=\"dataframe\">\n",
       "  <thead>\n",
       "    <tr style=\"text-align: right;\">\n",
       "      <th></th>\n",
       "      <th>open</th>\n",
       "      <th>close</th>\n",
       "    </tr>\n",
       "    <tr>\n",
       "      <th>Date</th>\n",
       "      <th></th>\n",
       "      <th></th>\n",
       "    </tr>\n",
       "  </thead>\n",
       "  <tbody>\n",
       "    <tr>\n",
       "      <th>2025-03-19</th>\n",
       "      <td>193.380</td>\n",
       "      <td>195.54</td>\n",
       "    </tr>\n",
       "    <tr>\n",
       "      <th>2025-03-18</th>\n",
       "      <td>192.520</td>\n",
       "      <td>192.82</td>\n",
       "    </tr>\n",
       "    <tr>\n",
       "      <th>2025-03-17</th>\n",
       "      <td>198.770</td>\n",
       "      <td>195.74</td>\n",
       "    </tr>\n",
       "    <tr>\n",
       "      <th>2025-03-14</th>\n",
       "      <td>197.410</td>\n",
       "      <td>197.95</td>\n",
       "    </tr>\n",
       "    <tr>\n",
       "      <th>2025-03-13</th>\n",
       "      <td>198.165</td>\n",
       "      <td>193.89</td>\n",
       "    </tr>\n",
       "    <tr>\n",
       "      <th>2025-03-12</th>\n",
       "      <td>200.720</td>\n",
       "      <td>198.89</td>\n",
       "    </tr>\n",
       "    <tr>\n",
       "      <th>2025-03-11</th>\n",
       "      <td>193.900</td>\n",
       "      <td>196.59</td>\n",
       "    </tr>\n",
       "    <tr>\n",
       "      <th>2025-03-10</th>\n",
       "      <td>195.600</td>\n",
       "      <td>194.54</td>\n",
       "    </tr>\n",
       "    <tr>\n",
       "      <th>2025-03-07</th>\n",
       "      <td>199.490</td>\n",
       "      <td>199.25</td>\n",
       "    </tr>\n",
       "    <tr>\n",
       "      <th>2025-03-06</th>\n",
       "      <td>204.400</td>\n",
       "      <td>200.70</td>\n",
       "    </tr>\n",
       "  </tbody>\n",
       "</table>\n",
       "</div>"
      ]
     },
     "execution_count": 15,
     "metadata": {},
     "output_type": "execute_result"
    }
   ],
   "execution_count": 15
  },
  {
   "metadata": {
    "ExecuteTime": {
     "end_time": "2025-03-20T22:22:51.361443Z",
     "start_time": "2025-03-20T22:22:51.357034Z"
    }
   },
   "cell_type": "code",
   "source": "df.iloc[:,-1]",
   "id": "8e1a26cdbc677587",
   "outputs": [
    {
     "data": {
      "text/plain": [
       "Date\n",
       "2025-03-19    39442878\n",
       "2025-03-18    40414867\n",
       "2025-03-17    47341752\n",
       "2025-03-14    38096663\n",
       "2025-03-13    41270761\n",
       "2025-03-12    43679284\n",
       "2025-03-11    54002880\n",
       "2025-03-10    62350926\n",
       "2025-03-07    59802821\n",
       "2025-03-06    49863755\n",
       "Name: volume, dtype: int64"
      ]
     },
     "execution_count": 18,
     "metadata": {},
     "output_type": "execute_result"
    }
   ],
   "execution_count": 18
  },
  {
   "metadata": {
    "ExecuteTime": {
     "end_time": "2025-03-20T22:23:05.244436Z",
     "start_time": "2025-03-20T22:23:05.239784Z"
    }
   },
   "cell_type": "code",
   "source": "type(df.iloc[:,-1])",
   "id": "a33bf1e02487c5a8",
   "outputs": [
    {
     "data": {
      "text/plain": [
       "pandas.core.series.Series"
      ]
     },
     "execution_count": 19,
     "metadata": {},
     "output_type": "execute_result"
    }
   ],
   "execution_count": 19
  },
  {
   "metadata": {
    "ExecuteTime": {
     "end_time": "2025-03-20T22:22:44.130499Z",
     "start_time": "2025-03-20T22:22:44.124896Z"
    }
   },
   "cell_type": "code",
   "source": "df.iloc[:,[-1]]",
   "id": "42af1dd2f4e69d5a",
   "outputs": [
    {
     "data": {
      "text/plain": [
       "              volume\n",
       "Date                \n",
       "2025-03-19  39442878\n",
       "2025-03-18  40414867\n",
       "2025-03-17  47341752\n",
       "2025-03-14  38096663\n",
       "2025-03-13  41270761\n",
       "2025-03-12  43679284\n",
       "2025-03-11  54002880\n",
       "2025-03-10  62350926\n",
       "2025-03-07  59802821\n",
       "2025-03-06  49863755"
      ],
      "text/html": [
       "<div>\n",
       "<style scoped>\n",
       "    .dataframe tbody tr th:only-of-type {\n",
       "        vertical-align: middle;\n",
       "    }\n",
       "\n",
       "    .dataframe tbody tr th {\n",
       "        vertical-align: top;\n",
       "    }\n",
       "\n",
       "    .dataframe thead th {\n",
       "        text-align: right;\n",
       "    }\n",
       "</style>\n",
       "<table border=\"1\" class=\"dataframe\">\n",
       "  <thead>\n",
       "    <tr style=\"text-align: right;\">\n",
       "      <th></th>\n",
       "      <th>volume</th>\n",
       "    </tr>\n",
       "    <tr>\n",
       "      <th>Date</th>\n",
       "      <th></th>\n",
       "    </tr>\n",
       "  </thead>\n",
       "  <tbody>\n",
       "    <tr>\n",
       "      <th>2025-03-19</th>\n",
       "      <td>39442878</td>\n",
       "    </tr>\n",
       "    <tr>\n",
       "      <th>2025-03-18</th>\n",
       "      <td>40414867</td>\n",
       "    </tr>\n",
       "    <tr>\n",
       "      <th>2025-03-17</th>\n",
       "      <td>47341752</td>\n",
       "    </tr>\n",
       "    <tr>\n",
       "      <th>2025-03-14</th>\n",
       "      <td>38096663</td>\n",
       "    </tr>\n",
       "    <tr>\n",
       "      <th>2025-03-13</th>\n",
       "      <td>41270761</td>\n",
       "    </tr>\n",
       "    <tr>\n",
       "      <th>2025-03-12</th>\n",
       "      <td>43679284</td>\n",
       "    </tr>\n",
       "    <tr>\n",
       "      <th>2025-03-11</th>\n",
       "      <td>54002880</td>\n",
       "    </tr>\n",
       "    <tr>\n",
       "      <th>2025-03-10</th>\n",
       "      <td>62350926</td>\n",
       "    </tr>\n",
       "    <tr>\n",
       "      <th>2025-03-07</th>\n",
       "      <td>59802821</td>\n",
       "    </tr>\n",
       "    <tr>\n",
       "      <th>2025-03-06</th>\n",
       "      <td>49863755</td>\n",
       "    </tr>\n",
       "  </tbody>\n",
       "</table>\n",
       "</div>"
      ]
     },
     "execution_count": 17,
     "metadata": {},
     "output_type": "execute_result"
    }
   ],
   "execution_count": 17
  },
  {
   "metadata": {
    "ExecuteTime": {
     "end_time": "2025-03-20T22:23:10.553083Z",
     "start_time": "2025-03-20T22:23:10.548560Z"
    }
   },
   "cell_type": "code",
   "source": "type(df.iloc[:,[-1]])",
   "id": "b9747890eef3e13b",
   "outputs": [
    {
     "data": {
      "text/plain": [
       "pandas.core.frame.DataFrame"
      ]
     },
     "execution_count": 20,
     "metadata": {},
     "output_type": "execute_result"
    }
   ],
   "execution_count": 20
  },
  {
   "metadata": {
    "ExecuteTime": {
     "end_time": "2025-03-20T22:23:29.753712Z",
     "start_time": "2025-03-20T22:23:29.749215Z"
    }
   },
   "cell_type": "code",
   "source": "df.iloc[0]",
   "id": "60e9aca580474f10",
   "outputs": [
    {
     "data": {
      "text/plain": [
       "open      1.933800e+02\n",
       "high      1.959650e+02\n",
       "low       1.919600e+02\n",
       "close     1.955400e+02\n",
       "volume    3.944288e+07\n",
       "Name: 2025-03-19 00:00:00, dtype: float64"
      ]
     },
     "execution_count": 21,
     "metadata": {},
     "output_type": "execute_result"
    }
   ],
   "execution_count": 21
  },
  {
   "metadata": {
    "ExecuteTime": {
     "end_time": "2025-03-20T22:25:09.068743Z",
     "start_time": "2025-03-20T22:25:09.061986Z"
    }
   },
   "cell_type": "code",
   "source": "df.iloc[:3]",
   "id": "2d71caa821b69481",
   "outputs": [
    {
     "data": {
      "text/plain": [
       "              open     high       low   close    volume\n",
       "Date                                                   \n",
       "2025-03-19  193.38  195.965  191.9600  195.54  39442878\n",
       "2025-03-18  192.52  194.000  189.3800  192.82  40414867\n",
       "2025-03-17  198.77  199.000  194.3247  195.74  47341752"
      ],
      "text/html": [
       "<div>\n",
       "<style scoped>\n",
       "    .dataframe tbody tr th:only-of-type {\n",
       "        vertical-align: middle;\n",
       "    }\n",
       "\n",
       "    .dataframe tbody tr th {\n",
       "        vertical-align: top;\n",
       "    }\n",
       "\n",
       "    .dataframe thead th {\n",
       "        text-align: right;\n",
       "    }\n",
       "</style>\n",
       "<table border=\"1\" class=\"dataframe\">\n",
       "  <thead>\n",
       "    <tr style=\"text-align: right;\">\n",
       "      <th></th>\n",
       "      <th>open</th>\n",
       "      <th>high</th>\n",
       "      <th>low</th>\n",
       "      <th>close</th>\n",
       "      <th>volume</th>\n",
       "    </tr>\n",
       "    <tr>\n",
       "      <th>Date</th>\n",
       "      <th></th>\n",
       "      <th></th>\n",
       "      <th></th>\n",
       "      <th></th>\n",
       "      <th></th>\n",
       "    </tr>\n",
       "  </thead>\n",
       "  <tbody>\n",
       "    <tr>\n",
       "      <th>2025-03-19</th>\n",
       "      <td>193.38</td>\n",
       "      <td>195.965</td>\n",
       "      <td>191.9600</td>\n",
       "      <td>195.54</td>\n",
       "      <td>39442878</td>\n",
       "    </tr>\n",
       "    <tr>\n",
       "      <th>2025-03-18</th>\n",
       "      <td>192.52</td>\n",
       "      <td>194.000</td>\n",
       "      <td>189.3800</td>\n",
       "      <td>192.82</td>\n",
       "      <td>40414867</td>\n",
       "    </tr>\n",
       "    <tr>\n",
       "      <th>2025-03-17</th>\n",
       "      <td>198.77</td>\n",
       "      <td>199.000</td>\n",
       "      <td>194.3247</td>\n",
       "      <td>195.74</td>\n",
       "      <td>47341752</td>\n",
       "    </tr>\n",
       "  </tbody>\n",
       "</table>\n",
       "</div>"
      ]
     },
     "execution_count": 22,
     "metadata": {},
     "output_type": "execute_result"
    }
   ],
   "execution_count": 22
  },
  {
   "metadata": {
    "ExecuteTime": {
     "end_time": "2025-03-20T22:42:27.518398Z",
     "start_time": "2025-03-20T22:42:27.514584Z"
    }
   },
   "cell_type": "code",
   "source": "df.loc['2025-03-10']\n",
   "id": "37f99a0d869b65f",
   "outputs": [
    {
     "data": {
      "text/plain": [
       "open             74.78\n",
       "high             75.49\n",
       "low              71.97\n",
       "close            73.06\n",
       "volume     22120094.00\n",
       "average          73.92\n",
       "Name: 2025-03-10 00:00:00, dtype: float64"
      ]
     },
     "execution_count": 74,
     "metadata": {},
     "output_type": "execute_result"
    }
   ],
   "execution_count": 74
  },
  {
   "metadata": {
    "ExecuteTime": {
     "end_time": "2025-03-20T22:45:04.768271Z",
     "start_time": "2025-03-20T22:45:04.765997Z"
    }
   },
   "cell_type": "code",
   "source": "",
   "id": "c8aa56ffb01f3625",
   "outputs": [],
   "execution_count": null
  },
  {
   "metadata": {
    "ExecuteTime": {
     "end_time": "2025-03-20T22:34:51.645607Z",
     "start_time": "2025-03-20T22:34:51.638104Z"
    }
   },
   "cell_type": "code",
   "source": [
    "\n",
    "df.loc['2025-03-06':'2025-03-10']\n"
   ],
   "id": "73b031987b8f2157",
   "outputs": [
    {
     "data": {
      "text/plain": [
       "              open      high       low   close    volume\n",
       "Date                                                    \n",
       "2025-03-06  204.40  205.7700  198.3015  200.70  49863755\n",
       "2025-03-07  199.49  202.2653  192.5300  199.25  59802821\n",
       "2025-03-10  195.60  196.7300  190.8500  194.54  62350926"
      ],
      "text/html": [
       "<div>\n",
       "<style scoped>\n",
       "    .dataframe tbody tr th:only-of-type {\n",
       "        vertical-align: middle;\n",
       "    }\n",
       "\n",
       "    .dataframe tbody tr th {\n",
       "        vertical-align: top;\n",
       "    }\n",
       "\n",
       "    .dataframe thead th {\n",
       "        text-align: right;\n",
       "    }\n",
       "</style>\n",
       "<table border=\"1\" class=\"dataframe\">\n",
       "  <thead>\n",
       "    <tr style=\"text-align: right;\">\n",
       "      <th></th>\n",
       "      <th>open</th>\n",
       "      <th>high</th>\n",
       "      <th>low</th>\n",
       "      <th>close</th>\n",
       "      <th>volume</th>\n",
       "    </tr>\n",
       "    <tr>\n",
       "      <th>Date</th>\n",
       "      <th></th>\n",
       "      <th></th>\n",
       "      <th></th>\n",
       "      <th></th>\n",
       "      <th></th>\n",
       "    </tr>\n",
       "  </thead>\n",
       "  <tbody>\n",
       "    <tr>\n",
       "      <th>2025-03-06</th>\n",
       "      <td>204.40</td>\n",
       "      <td>205.7700</td>\n",
       "      <td>198.3015</td>\n",
       "      <td>200.70</td>\n",
       "      <td>49863755</td>\n",
       "    </tr>\n",
       "    <tr>\n",
       "      <th>2025-03-07</th>\n",
       "      <td>199.49</td>\n",
       "      <td>202.2653</td>\n",
       "      <td>192.5300</td>\n",
       "      <td>199.25</td>\n",
       "      <td>59802821</td>\n",
       "    </tr>\n",
       "    <tr>\n",
       "      <th>2025-03-10</th>\n",
       "      <td>195.60</td>\n",
       "      <td>196.7300</td>\n",
       "      <td>190.8500</td>\n",
       "      <td>194.54</td>\n",
       "      <td>62350926</td>\n",
       "    </tr>\n",
       "  </tbody>\n",
       "</table>\n",
       "</div>"
      ]
     },
     "execution_count": 63,
     "metadata": {},
     "output_type": "execute_result"
    }
   ],
   "execution_count": 63
  },
  {
   "metadata": {
    "ExecuteTime": {
     "end_time": "2025-03-20T22:45:54.197048Z",
     "start_time": "2025-03-20T22:45:53.502046Z"
    }
   },
   "cell_type": "code",
   "source": [
    "df = fetch_financial_data('UBER')\n",
    "df.info()"
   ],
   "id": "5edc210411174039",
   "outputs": [
    {
     "name": "stdout",
     "output_type": "stream",
     "text": [
      "<class 'pandas.core.frame.DataFrame'>\n",
      "DatetimeIndex: 1256 entries, 2025-03-20 to 2020-03-23\n",
      "Data columns (total 5 columns):\n",
      " #   Column  Non-Null Count  Dtype  \n",
      "---  ------  --------------  -----  \n",
      " 0   Open    1256 non-null   float64\n",
      " 1   High    1256 non-null   float64\n",
      " 2   Low     1256 non-null   float64\n",
      " 3   Close   1256 non-null   float64\n",
      " 4   Volume  1256 non-null   int64  \n",
      "dtypes: float64(4), int64(1)\n",
      "memory usage: 58.9 KB\n"
     ]
    }
   ],
   "execution_count": 86
  },
  {
   "metadata": {
    "ExecuteTime": {
     "end_time": "2025-03-20T22:37:55.457475Z",
     "start_time": "2025-03-20T22:37:55.450295Z"
    }
   },
   "cell_type": "code",
   "source": "df.head()",
   "id": "4817e4d15368ec70",
   "outputs": [
    {
     "data": {
      "text/plain": [
       "             Open     High      Low  Close    Volume\n",
       "Date                                                \n",
       "2025-03-20  72.56  75.5350  72.4600  74.35  17841140\n",
       "2025-03-19  71.90  73.7850  70.7300  73.02  15042059\n",
       "2025-03-18  72.20  72.6750  70.4802  71.55  16137507\n",
       "2025-03-17  72.02  73.8100  71.7750  72.73  20577768\n",
       "2025-03-14  70.55  71.7899  70.3300  71.55  13537279"
      ],
      "text/html": [
       "<div>\n",
       "<style scoped>\n",
       "    .dataframe tbody tr th:only-of-type {\n",
       "        vertical-align: middle;\n",
       "    }\n",
       "\n",
       "    .dataframe tbody tr th {\n",
       "        vertical-align: top;\n",
       "    }\n",
       "\n",
       "    .dataframe thead th {\n",
       "        text-align: right;\n",
       "    }\n",
       "</style>\n",
       "<table border=\"1\" class=\"dataframe\">\n",
       "  <thead>\n",
       "    <tr style=\"text-align: right;\">\n",
       "      <th></th>\n",
       "      <th>Open</th>\n",
       "      <th>High</th>\n",
       "      <th>Low</th>\n",
       "      <th>Close</th>\n",
       "      <th>Volume</th>\n",
       "    </tr>\n",
       "    <tr>\n",
       "      <th>Date</th>\n",
       "      <th></th>\n",
       "      <th></th>\n",
       "      <th></th>\n",
       "      <th></th>\n",
       "      <th></th>\n",
       "    </tr>\n",
       "  </thead>\n",
       "  <tbody>\n",
       "    <tr>\n",
       "      <th>2025-03-20</th>\n",
       "      <td>72.56</td>\n",
       "      <td>75.5350</td>\n",
       "      <td>72.4600</td>\n",
       "      <td>74.35</td>\n",
       "      <td>17841140</td>\n",
       "    </tr>\n",
       "    <tr>\n",
       "      <th>2025-03-19</th>\n",
       "      <td>71.90</td>\n",
       "      <td>73.7850</td>\n",
       "      <td>70.7300</td>\n",
       "      <td>73.02</td>\n",
       "      <td>15042059</td>\n",
       "    </tr>\n",
       "    <tr>\n",
       "      <th>2025-03-18</th>\n",
       "      <td>72.20</td>\n",
       "      <td>72.6750</td>\n",
       "      <td>70.4802</td>\n",
       "      <td>71.55</td>\n",
       "      <td>16137507</td>\n",
       "    </tr>\n",
       "    <tr>\n",
       "      <th>2025-03-17</th>\n",
       "      <td>72.02</td>\n",
       "      <td>73.8100</td>\n",
       "      <td>71.7750</td>\n",
       "      <td>72.73</td>\n",
       "      <td>20577768</td>\n",
       "    </tr>\n",
       "    <tr>\n",
       "      <th>2025-03-14</th>\n",
       "      <td>70.55</td>\n",
       "      <td>71.7899</td>\n",
       "      <td>70.3300</td>\n",
       "      <td>71.55</td>\n",
       "      <td>13537279</td>\n",
       "    </tr>\n",
       "  </tbody>\n",
       "</table>\n",
       "</div>"
      ]
     },
     "execution_count": 65,
     "metadata": {},
     "output_type": "execute_result"
    }
   ],
   "execution_count": 65
  },
  {
   "metadata": {
    "ExecuteTime": {
     "end_time": "2025-03-20T22:38:08.207121Z",
     "start_time": "2025-03-20T22:38:08.193532Z"
    }
   },
   "cell_type": "code",
   "source": "df.describe().T",
   "id": "7c0b14125f79cce5",
   "outputs": [
    {
     "data": {
      "text/plain": [
       "         count          mean           std           min           25%  \\\n",
       "Open    1256.0  4.684322e+01  1.663964e+01  2.037000e+01  3.242750e+01   \n",
       "High    1256.0  4.768761e+01  1.675997e+01  2.112550e+01  3.310625e+01   \n",
       "Low     1256.0  4.597513e+01  1.644686e+01  1.973000e+01  3.165500e+01   \n",
       "Close   1256.0  4.683584e+01  1.659081e+01  2.046000e+01  3.254250e+01   \n",
       "Volume  1256.0  2.437729e+07  1.663490e+07  5.200356e+06  1.573837e+07   \n",
       "\n",
       "                 50%           75%           max  \n",
       "Open    4.416000e+01  6.033500e+01  8.564000e+01  \n",
       "High    4.501250e+01  6.114000e+01  8.700000e+01  \n",
       "Low     4.356005e+01  5.959757e+01  8.418000e+01  \n",
       "Close   4.425500e+01  6.063250e+01  8.634000e+01  \n",
       "Volume  2.056146e+07  2.810142e+07  3.642612e+08  "
      ],
      "text/html": [
       "<div>\n",
       "<style scoped>\n",
       "    .dataframe tbody tr th:only-of-type {\n",
       "        vertical-align: middle;\n",
       "    }\n",
       "\n",
       "    .dataframe tbody tr th {\n",
       "        vertical-align: top;\n",
       "    }\n",
       "\n",
       "    .dataframe thead th {\n",
       "        text-align: right;\n",
       "    }\n",
       "</style>\n",
       "<table border=\"1\" class=\"dataframe\">\n",
       "  <thead>\n",
       "    <tr style=\"text-align: right;\">\n",
       "      <th></th>\n",
       "      <th>count</th>\n",
       "      <th>mean</th>\n",
       "      <th>std</th>\n",
       "      <th>min</th>\n",
       "      <th>25%</th>\n",
       "      <th>50%</th>\n",
       "      <th>75%</th>\n",
       "      <th>max</th>\n",
       "    </tr>\n",
       "  </thead>\n",
       "  <tbody>\n",
       "    <tr>\n",
       "      <th>Open</th>\n",
       "      <td>1256.0</td>\n",
       "      <td>4.684322e+01</td>\n",
       "      <td>1.663964e+01</td>\n",
       "      <td>2.037000e+01</td>\n",
       "      <td>3.242750e+01</td>\n",
       "      <td>4.416000e+01</td>\n",
       "      <td>6.033500e+01</td>\n",
       "      <td>8.564000e+01</td>\n",
       "    </tr>\n",
       "    <tr>\n",
       "      <th>High</th>\n",
       "      <td>1256.0</td>\n",
       "      <td>4.768761e+01</td>\n",
       "      <td>1.675997e+01</td>\n",
       "      <td>2.112550e+01</td>\n",
       "      <td>3.310625e+01</td>\n",
       "      <td>4.501250e+01</td>\n",
       "      <td>6.114000e+01</td>\n",
       "      <td>8.700000e+01</td>\n",
       "    </tr>\n",
       "    <tr>\n",
       "      <th>Low</th>\n",
       "      <td>1256.0</td>\n",
       "      <td>4.597513e+01</td>\n",
       "      <td>1.644686e+01</td>\n",
       "      <td>1.973000e+01</td>\n",
       "      <td>3.165500e+01</td>\n",
       "      <td>4.356005e+01</td>\n",
       "      <td>5.959757e+01</td>\n",
       "      <td>8.418000e+01</td>\n",
       "    </tr>\n",
       "    <tr>\n",
       "      <th>Close</th>\n",
       "      <td>1256.0</td>\n",
       "      <td>4.683584e+01</td>\n",
       "      <td>1.659081e+01</td>\n",
       "      <td>2.046000e+01</td>\n",
       "      <td>3.254250e+01</td>\n",
       "      <td>4.425500e+01</td>\n",
       "      <td>6.063250e+01</td>\n",
       "      <td>8.634000e+01</td>\n",
       "    </tr>\n",
       "    <tr>\n",
       "      <th>Volume</th>\n",
       "      <td>1256.0</td>\n",
       "      <td>2.437729e+07</td>\n",
       "      <td>1.663490e+07</td>\n",
       "      <td>5.200356e+06</td>\n",
       "      <td>1.573837e+07</td>\n",
       "      <td>2.056146e+07</td>\n",
       "      <td>2.810142e+07</td>\n",
       "      <td>3.642612e+08</td>\n",
       "    </tr>\n",
       "  </tbody>\n",
       "</table>\n",
       "</div>"
      ]
     },
     "execution_count": 66,
     "metadata": {},
     "output_type": "execute_result"
    }
   ],
   "execution_count": 66
  },
  {
   "metadata": {
    "ExecuteTime": {
     "end_time": "2025-03-20T22:54:35.211748Z",
     "start_time": "2025-03-20T22:54:35.202300Z"
    }
   },
   "cell_type": "code",
   "source": [
    "df.columns = [col.lower() for col in df.columns]\n",
    "df['average'] = (df.open + df.close) / 2\n",
    "df = df.sort_index()\n",
    "df.head()"
   ],
   "id": "9a6149668803c9fb",
   "outputs": [
    {
     "data": {
      "text/plain": [
       "             open   high      low  close    volume  average  close_shift  \\\n",
       "Date                                                                       \n",
       "2020-03-23  21.07  22.73  19.7300  22.40  47787094   21.735          NaN   \n",
       "2020-03-24  24.41  26.84  23.5900  26.39  58505016   25.400        22.40   \n",
       "2020-03-25  26.18  28.45  25.3104  26.19  52473945   26.185        26.39   \n",
       "2020-03-26  26.60  28.44  25.7800  28.12  41370842   27.360        26.19   \n",
       "2020-03-27  25.82  28.03  25.0700  27.28  40292212   26.550        28.12   \n",
       "\n",
       "            daily_change  daily_change_%  \n",
       "Date                                      \n",
       "2020-03-23           NaN             NaN  \n",
       "2020-03-24     17.812500       17.812500  \n",
       "2020-03-25     -0.757863       -0.757863  \n",
       "2020-03-26      7.369225        7.369225  \n",
       "2020-03-27     -2.987198       -2.987198  "
      ],
      "text/html": [
       "<div>\n",
       "<style scoped>\n",
       "    .dataframe tbody tr th:only-of-type {\n",
       "        vertical-align: middle;\n",
       "    }\n",
       "\n",
       "    .dataframe tbody tr th {\n",
       "        vertical-align: top;\n",
       "    }\n",
       "\n",
       "    .dataframe thead th {\n",
       "        text-align: right;\n",
       "    }\n",
       "</style>\n",
       "<table border=\"1\" class=\"dataframe\">\n",
       "  <thead>\n",
       "    <tr style=\"text-align: right;\">\n",
       "      <th></th>\n",
       "      <th>open</th>\n",
       "      <th>high</th>\n",
       "      <th>low</th>\n",
       "      <th>close</th>\n",
       "      <th>volume</th>\n",
       "      <th>average</th>\n",
       "      <th>close_shift</th>\n",
       "      <th>daily_change</th>\n",
       "      <th>daily_change_%</th>\n",
       "    </tr>\n",
       "    <tr>\n",
       "      <th>Date</th>\n",
       "      <th></th>\n",
       "      <th></th>\n",
       "      <th></th>\n",
       "      <th></th>\n",
       "      <th></th>\n",
       "      <th></th>\n",
       "      <th></th>\n",
       "      <th></th>\n",
       "      <th></th>\n",
       "    </tr>\n",
       "  </thead>\n",
       "  <tbody>\n",
       "    <tr>\n",
       "      <th>2020-03-23</th>\n",
       "      <td>21.07</td>\n",
       "      <td>22.73</td>\n",
       "      <td>19.7300</td>\n",
       "      <td>22.40</td>\n",
       "      <td>47787094</td>\n",
       "      <td>21.735</td>\n",
       "      <td>NaN</td>\n",
       "      <td>NaN</td>\n",
       "      <td>NaN</td>\n",
       "    </tr>\n",
       "    <tr>\n",
       "      <th>2020-03-24</th>\n",
       "      <td>24.41</td>\n",
       "      <td>26.84</td>\n",
       "      <td>23.5900</td>\n",
       "      <td>26.39</td>\n",
       "      <td>58505016</td>\n",
       "      <td>25.400</td>\n",
       "      <td>22.40</td>\n",
       "      <td>17.812500</td>\n",
       "      <td>17.812500</td>\n",
       "    </tr>\n",
       "    <tr>\n",
       "      <th>2020-03-25</th>\n",
       "      <td>26.18</td>\n",
       "      <td>28.45</td>\n",
       "      <td>25.3104</td>\n",
       "      <td>26.19</td>\n",
       "      <td>52473945</td>\n",
       "      <td>26.185</td>\n",
       "      <td>26.39</td>\n",
       "      <td>-0.757863</td>\n",
       "      <td>-0.757863</td>\n",
       "    </tr>\n",
       "    <tr>\n",
       "      <th>2020-03-26</th>\n",
       "      <td>26.60</td>\n",
       "      <td>28.44</td>\n",
       "      <td>25.7800</td>\n",
       "      <td>28.12</td>\n",
       "      <td>41370842</td>\n",
       "      <td>27.360</td>\n",
       "      <td>26.19</td>\n",
       "      <td>7.369225</td>\n",
       "      <td>7.369225</td>\n",
       "    </tr>\n",
       "    <tr>\n",
       "      <th>2020-03-27</th>\n",
       "      <td>25.82</td>\n",
       "      <td>28.03</td>\n",
       "      <td>25.0700</td>\n",
       "      <td>27.28</td>\n",
       "      <td>40292212</td>\n",
       "      <td>26.550</td>\n",
       "      <td>28.12</td>\n",
       "      <td>-2.987198</td>\n",
       "      <td>-2.987198</td>\n",
       "    </tr>\n",
       "  </tbody>\n",
       "</table>\n",
       "</div>"
      ]
     },
     "execution_count": 103,
     "metadata": {},
     "output_type": "execute_result"
    }
   ],
   "execution_count": 103
  },
  {
   "metadata": {
    "ExecuteTime": {
     "end_time": "2025-03-20T22:54:25.523953Z",
     "start_time": "2025-03-20T22:54:25.515043Z"
    }
   },
   "cell_type": "code",
   "source": [
    "df['close_shift'] = df.close.shift(1)\n",
    "df.head()\n"
   ],
   "id": "1f6a0f368c36b1c6",
   "outputs": [
    {
     "data": {
      "text/plain": [
       "             open   high      low  close    volume  average  close_shift  \\\n",
       "Date                                                                       \n",
       "2020-03-23  21.07  22.73  19.7300  22.40  47787094   21.735          NaN   \n",
       "2020-03-24  24.41  26.84  23.5900  26.39  58505016   25.400        22.40   \n",
       "2020-03-25  26.18  28.45  25.3104  26.19  52473945   26.185        26.39   \n",
       "2020-03-26  26.60  28.44  25.7800  28.12  41370842   27.360        26.19   \n",
       "2020-03-27  25.82  28.03  25.0700  27.28  40292212   26.550        28.12   \n",
       "\n",
       "            daily_change  daily_change_%  \n",
       "Date                                      \n",
       "2020-03-23           NaN             NaN  \n",
       "2020-03-24     17.812500       17.812500  \n",
       "2020-03-25     -0.757863       -0.757863  \n",
       "2020-03-26      7.369225        7.369225  \n",
       "2020-03-27     -2.987198       -2.987198  "
      ],
      "text/html": [
       "<div>\n",
       "<style scoped>\n",
       "    .dataframe tbody tr th:only-of-type {\n",
       "        vertical-align: middle;\n",
       "    }\n",
       "\n",
       "    .dataframe tbody tr th {\n",
       "        vertical-align: top;\n",
       "    }\n",
       "\n",
       "    .dataframe thead th {\n",
       "        text-align: right;\n",
       "    }\n",
       "</style>\n",
       "<table border=\"1\" class=\"dataframe\">\n",
       "  <thead>\n",
       "    <tr style=\"text-align: right;\">\n",
       "      <th></th>\n",
       "      <th>open</th>\n",
       "      <th>high</th>\n",
       "      <th>low</th>\n",
       "      <th>close</th>\n",
       "      <th>volume</th>\n",
       "      <th>average</th>\n",
       "      <th>close_shift</th>\n",
       "      <th>daily_change</th>\n",
       "      <th>daily_change_%</th>\n",
       "    </tr>\n",
       "    <tr>\n",
       "      <th>Date</th>\n",
       "      <th></th>\n",
       "      <th></th>\n",
       "      <th></th>\n",
       "      <th></th>\n",
       "      <th></th>\n",
       "      <th></th>\n",
       "      <th></th>\n",
       "      <th></th>\n",
       "      <th></th>\n",
       "    </tr>\n",
       "  </thead>\n",
       "  <tbody>\n",
       "    <tr>\n",
       "      <th>2020-03-23</th>\n",
       "      <td>21.07</td>\n",
       "      <td>22.73</td>\n",
       "      <td>19.7300</td>\n",
       "      <td>22.40</td>\n",
       "      <td>47787094</td>\n",
       "      <td>21.735</td>\n",
       "      <td>NaN</td>\n",
       "      <td>NaN</td>\n",
       "      <td>NaN</td>\n",
       "    </tr>\n",
       "    <tr>\n",
       "      <th>2020-03-24</th>\n",
       "      <td>24.41</td>\n",
       "      <td>26.84</td>\n",
       "      <td>23.5900</td>\n",
       "      <td>26.39</td>\n",
       "      <td>58505016</td>\n",
       "      <td>25.400</td>\n",
       "      <td>22.40</td>\n",
       "      <td>17.812500</td>\n",
       "      <td>17.812500</td>\n",
       "    </tr>\n",
       "    <tr>\n",
       "      <th>2020-03-25</th>\n",
       "      <td>26.18</td>\n",
       "      <td>28.45</td>\n",
       "      <td>25.3104</td>\n",
       "      <td>26.19</td>\n",
       "      <td>52473945</td>\n",
       "      <td>26.185</td>\n",
       "      <td>26.39</td>\n",
       "      <td>-0.757863</td>\n",
       "      <td>-0.757863</td>\n",
       "    </tr>\n",
       "    <tr>\n",
       "      <th>2020-03-26</th>\n",
       "      <td>26.60</td>\n",
       "      <td>28.44</td>\n",
       "      <td>25.7800</td>\n",
       "      <td>28.12</td>\n",
       "      <td>41370842</td>\n",
       "      <td>27.360</td>\n",
       "      <td>26.19</td>\n",
       "      <td>7.369225</td>\n",
       "      <td>7.369225</td>\n",
       "    </tr>\n",
       "    <tr>\n",
       "      <th>2020-03-27</th>\n",
       "      <td>25.82</td>\n",
       "      <td>28.03</td>\n",
       "      <td>25.0700</td>\n",
       "      <td>27.28</td>\n",
       "      <td>40292212</td>\n",
       "      <td>26.550</td>\n",
       "      <td>28.12</td>\n",
       "      <td>-2.987198</td>\n",
       "      <td>-2.987198</td>\n",
       "    </tr>\n",
       "  </tbody>\n",
       "</table>\n",
       "</div>"
      ]
     },
     "execution_count": 102,
     "metadata": {},
     "output_type": "execute_result"
    }
   ],
   "execution_count": 102
  },
  {
   "metadata": {
    "ExecuteTime": {
     "end_time": "2025-03-20T22:58:18.722172Z",
     "start_time": "2025-03-20T22:58:18.712346Z"
    }
   },
   "cell_type": "code",
   "source": [
    "df['daily_change'] = (df.close / df.close_shift - 1 )* 100\n",
    "df.head()"
   ],
   "id": "963fe49daeb0fc03",
   "outputs": [
    {
     "data": {
      "text/plain": [
       "             open   high      low  close    volume  average  close_shift  \\\n",
       "Date                                                                       \n",
       "2020-03-23  21.07  22.73  19.7300  22.40  47787094   21.735          NaN   \n",
       "2020-03-24  24.41  26.84  23.5900  26.39  58505016   25.400        22.40   \n",
       "2020-03-25  26.18  28.45  25.3104  26.19  52473945   26.185        26.39   \n",
       "2020-03-26  26.60  28.44  25.7800  28.12  41370842   27.360        26.19   \n",
       "2020-03-27  25.82  28.03  25.0700  27.28  40292212   26.550        28.12   \n",
       "\n",
       "            daily_change  \n",
       "Date                      \n",
       "2020-03-23           NaN  \n",
       "2020-03-24     17.812500  \n",
       "2020-03-25     -0.757863  \n",
       "2020-03-26      7.369225  \n",
       "2020-03-27     -2.987198  "
      ],
      "text/html": [
       "<div>\n",
       "<style scoped>\n",
       "    .dataframe tbody tr th:only-of-type {\n",
       "        vertical-align: middle;\n",
       "    }\n",
       "\n",
       "    .dataframe tbody tr th {\n",
       "        vertical-align: top;\n",
       "    }\n",
       "\n",
       "    .dataframe thead th {\n",
       "        text-align: right;\n",
       "    }\n",
       "</style>\n",
       "<table border=\"1\" class=\"dataframe\">\n",
       "  <thead>\n",
       "    <tr style=\"text-align: right;\">\n",
       "      <th></th>\n",
       "      <th>open</th>\n",
       "      <th>high</th>\n",
       "      <th>low</th>\n",
       "      <th>close</th>\n",
       "      <th>volume</th>\n",
       "      <th>average</th>\n",
       "      <th>close_shift</th>\n",
       "      <th>daily_change</th>\n",
       "    </tr>\n",
       "    <tr>\n",
       "      <th>Date</th>\n",
       "      <th></th>\n",
       "      <th></th>\n",
       "      <th></th>\n",
       "      <th></th>\n",
       "      <th></th>\n",
       "      <th></th>\n",
       "      <th></th>\n",
       "      <th></th>\n",
       "    </tr>\n",
       "  </thead>\n",
       "  <tbody>\n",
       "    <tr>\n",
       "      <th>2020-03-23</th>\n",
       "      <td>21.07</td>\n",
       "      <td>22.73</td>\n",
       "      <td>19.7300</td>\n",
       "      <td>22.40</td>\n",
       "      <td>47787094</td>\n",
       "      <td>21.735</td>\n",
       "      <td>NaN</td>\n",
       "      <td>NaN</td>\n",
       "    </tr>\n",
       "    <tr>\n",
       "      <th>2020-03-24</th>\n",
       "      <td>24.41</td>\n",
       "      <td>26.84</td>\n",
       "      <td>23.5900</td>\n",
       "      <td>26.39</td>\n",
       "      <td>58505016</td>\n",
       "      <td>25.400</td>\n",
       "      <td>22.40</td>\n",
       "      <td>17.812500</td>\n",
       "    </tr>\n",
       "    <tr>\n",
       "      <th>2020-03-25</th>\n",
       "      <td>26.18</td>\n",
       "      <td>28.45</td>\n",
       "      <td>25.3104</td>\n",
       "      <td>26.19</td>\n",
       "      <td>52473945</td>\n",
       "      <td>26.185</td>\n",
       "      <td>26.39</td>\n",
       "      <td>-0.757863</td>\n",
       "    </tr>\n",
       "    <tr>\n",
       "      <th>2020-03-26</th>\n",
       "      <td>26.60</td>\n",
       "      <td>28.44</td>\n",
       "      <td>25.7800</td>\n",
       "      <td>28.12</td>\n",
       "      <td>41370842</td>\n",
       "      <td>27.360</td>\n",
       "      <td>26.19</td>\n",
       "      <td>7.369225</td>\n",
       "    </tr>\n",
       "    <tr>\n",
       "      <th>2020-03-27</th>\n",
       "      <td>25.82</td>\n",
       "      <td>28.03</td>\n",
       "      <td>25.0700</td>\n",
       "      <td>27.28</td>\n",
       "      <td>40292212</td>\n",
       "      <td>26.550</td>\n",
       "      <td>28.12</td>\n",
       "      <td>-2.987198</td>\n",
       "    </tr>\n",
       "  </tbody>\n",
       "</table>\n",
       "</div>"
      ]
     },
     "execution_count": 111,
     "metadata": {},
     "output_type": "execute_result"
    }
   ],
   "execution_count": 111
  },
  {
   "metadata": {
    "ExecuteTime": {
     "end_time": "2025-03-20T22:58:22.596019Z",
     "start_time": "2025-03-20T22:58:22.592878Z"
    }
   },
   "cell_type": "code",
   "source": "df.daily_change.min()",
   "id": "96553714c05630f9",
   "outputs": [
    {
     "data": {
      "text/plain": [
       "np.float64(-11.584196394322976)"
      ]
     },
     "execution_count": 112,
     "metadata": {},
     "output_type": "execute_result"
    }
   ],
   "execution_count": 112
  },
  {
   "metadata": {
    "ExecuteTime": {
     "end_time": "2025-03-20T22:58:38.161001Z",
     "start_time": "2025-03-20T22:58:38.157231Z"
    }
   },
   "cell_type": "code",
   "source": "df.daily_change.max()",
   "id": "e1d641332b504346",
   "outputs": [
    {
     "data": {
      "text/plain": [
       "np.float64(18.90243902439024)"
      ]
     },
     "execution_count": 113,
     "metadata": {},
     "output_type": "execute_result"
    }
   ],
   "execution_count": 113
  },
  {
   "metadata": {
    "ExecuteTime": {
     "end_time": "2025-03-20T23:00:27.093600Z",
     "start_time": "2025-03-20T23:00:26.422398Z"
    }
   },
   "cell_type": "code",
   "source": [
    "import seaborn as sns\n",
    "sns.set_style('darkgrid')\n",
    "df.daily_change.hist(bins=100)"
   ],
   "id": "f127d5a1b79abbd9",
   "outputs": [
    {
     "data": {
      "text/plain": [
       "<Axes: >"
      ]
     },
     "execution_count": 116,
     "metadata": {},
     "output_type": "execute_result"
    },
    {
     "data": {
      "text/plain": [
       "<Figure size 640x480 with 1 Axes>"
      ],
      "image/png": "[encoded data removed]"
     },
     "metadata": {},
     "output_type": "display_data"
    }
   ],
   "execution_count": 116
  },
  {
   "metadata": {
    "ExecuteTime": {
     "end_time": "2025-03-20T23:01:02.374686Z",
     "start_time": "2025-03-20T23:01:02.161927Z"
    }
   },
   "cell_type": "code",
   "source": "df.close.plot()\n",
   "id": "4876e0c57b749e51",
   "outputs": [
    {
     "data": {
      "text/plain": [
       "<Axes: xlabel='Date'>"
      ]
     },
     "execution_count": 117,
     "metadata": {},
     "output_type": "execute_result"
    },
    {
     "data": {
      "text/plain": [
       "<Figure size 640x480 with 1 Axes>"
      ],
      "image/png": "[encoded data removed]"
     },
     "metadata": {},
     "output_type": "display_data"
    }
   ],
   "execution_count": 117
  },
  {
   "metadata": {
    "ExecuteTime": {
     "end_time": "2025-03-20T23:01:18.697351Z",
     "start_time": "2025-03-20T23:01:18.695008Z"
    }
   },
   "cell_type": "code",
   "source": "",
   "id": "3af21d7cf86f6870",
   "outputs": [],
   "execution_count": 117
  }
 ],
 "metadata": {
  "kernelspec": {
   "display_name": "Python 3",
   "language": "python",
   "name": "python3"
  },
  "language_info": {
   "codemirror_mode": {
    "name": "ipython",
    "version": 2
   },
   "file_extension": ".py",
   "mimetype": "text/x-python",
   "name": "python",
   "nbconvert_exporter": "python",
   "pygments_lexer": "ipython2",
   "version": "2.7.6"
  }
 },
 "nbformat": 4,
 "nbformat_minor": 5
}

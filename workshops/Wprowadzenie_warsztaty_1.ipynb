{
 "nbformat": 4,
 "nbformat_minor": 0,
 "metadata": {
  "colab": {
   "provenance": []
  },
  "kernelspec": {
   "name": "python3",
   "display_name": "Python 3 (ipykernel)",
   "language": "python"
  },
  "language_info": {
   "name": "python"
  }
 },
 "cells": [
  {
   "cell_type": "code",
   "metadata": {
    "id": "EdyQiM6je9k7",
    "ExecuteTime": {
     "end_time": "2025-04-08T17:25:36.442942Z",
     "start_time": "2025-04-08T17:25:36.439745Z"
    }
   },
   "source": [
    "import pandas as pd"
   ],
   "outputs": [],
   "execution_count": 84
  },
  {
   "cell_type": "markdown",
   "source": [
    "# Wczytanie naszych danych, sprawdzenie jak wyglądają."
   ],
   "metadata": {
    "id": "W_Irg-LAhKNY"
   }
  },
  {
   "cell_type": "code",
   "source": [
    "df = pd.read_csv('data_to_clean.csv')\n",
    "df.head()"
   ],
   "metadata": {
    "colab": {
     "base_uri": "https://localhost:8080/",
     "height": 206
    },
    "id": "8klzdlWffB-Y",
    "outputId": "48c70a1d-8a2d-4ee5-9118-875589f71009",
    "ExecuteTime": {
     "end_time": "2025-04-08T17:25:36.461124Z",
     "start_time": "2025-04-08T17:25:36.450Z"
    }
   },
   "outputs": [
    {
     "data": {
      "text/plain": [
       "   Rank  Peak All Time Peak  Actual gross Adjusted gross (in 2022 dollars)  \\\n",
       "0     1     1             2  $780,000,000                     $780,000,000   \n",
       "1     2     1           NaN  $579,800,000                     $579,800,000   \n",
       "2     3  1[4]           NaN  $411,000,000                     $560,622,615   \n",
       "3     4  2[7]         10[7]  $397,300,000                     $454,751,555   \n",
       "4     5  2[4]           NaN  $345,675,146                     $402,844,849   \n",
       "\n",
       "         Artist                   Tour title  Shows Average gross Ref.  gender  \n",
       "0  Taylor Swift              The Eras Tour †     56   $13,928,571  [1]    Male  \n",
       "1       Beyoncé       Renaissance World Tour     56   $10,353,571  [3]  Female  \n",
       "2       Madonna  Sticky & Sweet Tour ‡[4][a]     85    $4,835,294  [6]    Male  \n",
       "3          Pink  Beautiful Trauma World Tour    156    $2,546,795  [7]       m  \n",
       "4  Taylor Swift      Reputation Stadium Tour     53    $6,522,173  [8]       F  "
      ],
      "text/html": [
       "<div>\n",
       "<style scoped>\n",
       "    .dataframe tbody tr th:only-of-type {\n",
       "        vertical-align: middle;\n",
       "    }\n",
       "\n",
       "    .dataframe tbody tr th {\n",
       "        vertical-align: top;\n",
       "    }\n",
       "\n",
       "    .dataframe thead th {\n",
       "        text-align: right;\n",
       "    }\n",
       "</style>\n",
       "<table border=\"1\" class=\"dataframe\">\n",
       "  <thead>\n",
       "    <tr style=\"text-align: right;\">\n",
       "      <th></th>\n",
       "      <th>Rank</th>\n",
       "      <th>Peak</th>\n",
       "      <th>All Time Peak</th>\n",
       "      <th>Actual gross</th>\n",
       "      <th>Adjusted gross (in 2022 dollars)</th>\n",
       "      <th>Artist</th>\n",
       "      <th>Tour title</th>\n",
       "      <th>Shows</th>\n",
       "      <th>Average gross</th>\n",
       "      <th>Ref.</th>\n",
       "      <th>gender</th>\n",
       "    </tr>\n",
       "  </thead>\n",
       "  <tbody>\n",
       "    <tr>\n",
       "      <th>0</th>\n",
       "      <td>1</td>\n",
       "      <td>1</td>\n",
       "      <td>2</td>\n",
       "      <td>$780,000,000</td>\n",
       "      <td>$780,000,000</td>\n",
       "      <td>Taylor Swift</td>\n",
       "      <td>The Eras Tour †</td>\n",
       "      <td>56</td>\n",
       "      <td>$13,928,571</td>\n",
       "      <td>[1]</td>\n",
       "      <td>Male</td>\n",
       "    </tr>\n",
       "    <tr>\n",
       "      <th>1</th>\n",
       "      <td>2</td>\n",
       "      <td>1</td>\n",
       "      <td>NaN</td>\n",
       "      <td>$579,800,000</td>\n",
       "      <td>$579,800,000</td>\n",
       "      <td>Beyoncé</td>\n",
       "      <td>Renaissance World Tour</td>\n",
       "      <td>56</td>\n",
       "      <td>$10,353,571</td>\n",
       "      <td>[3]</td>\n",
       "      <td>Female</td>\n",
       "    </tr>\n",
       "    <tr>\n",
       "      <th>2</th>\n",
       "      <td>3</td>\n",
       "      <td>1[4]</td>\n",
       "      <td>NaN</td>\n",
       "      <td>$411,000,000</td>\n",
       "      <td>$560,622,615</td>\n",
       "      <td>Madonna</td>\n",
       "      <td>Sticky &amp; Sweet Tour ‡[4][a]</td>\n",
       "      <td>85</td>\n",
       "      <td>$4,835,294</td>\n",
       "      <td>[6]</td>\n",
       "      <td>Male</td>\n",
       "    </tr>\n",
       "    <tr>\n",
       "      <th>3</th>\n",
       "      <td>4</td>\n",
       "      <td>2[7]</td>\n",
       "      <td>10[7]</td>\n",
       "      <td>$397,300,000</td>\n",
       "      <td>$454,751,555</td>\n",
       "      <td>Pink</td>\n",
       "      <td>Beautiful Trauma World Tour</td>\n",
       "      <td>156</td>\n",
       "      <td>$2,546,795</td>\n",
       "      <td>[7]</td>\n",
       "      <td>m</td>\n",
       "    </tr>\n",
       "    <tr>\n",
       "      <th>4</th>\n",
       "      <td>5</td>\n",
       "      <td>2[4]</td>\n",
       "      <td>NaN</td>\n",
       "      <td>$345,675,146</td>\n",
       "      <td>$402,844,849</td>\n",
       "      <td>Taylor Swift</td>\n",
       "      <td>Reputation Stadium Tour</td>\n",
       "      <td>53</td>\n",
       "      <td>$6,522,173</td>\n",
       "      <td>[8]</td>\n",
       "      <td>F</td>\n",
       "    </tr>\n",
       "  </tbody>\n",
       "</table>\n",
       "</div>"
      ]
     },
     "execution_count": 85,
     "metadata": {},
     "output_type": "execute_result"
    }
   ],
   "execution_count": 85
  },
  {
   "cell_type": "markdown",
   "source": [
    "# Sprawdzamy czy mamy duplikaty"
   ],
   "metadata": {
    "id": "GHbcYBnThP0I"
   }
  },
  {
   "cell_type": "code",
   "source": [
    "df.duplicated().sum()"
   ],
   "metadata": {
    "colab": {
     "base_uri": "https://localhost:8080/"
    },
    "id": "b2VTDvD2hSXl",
    "outputId": "ebbca760-b874-4109-bf22-2055f4ed0170",
    "ExecuteTime": {
     "end_time": "2025-04-08T17:25:36.508763Z",
     "start_time": "2025-04-08T17:25:36.504041Z"
    }
   },
   "outputs": [
    {
     "data": {
      "text/plain": [
       "np.int64(5)"
      ]
     },
     "execution_count": 86,
     "metadata": {},
     "output_type": "execute_result"
    }
   ],
   "execution_count": 86
  },
  {
   "cell_type": "markdown",
   "source": [
    "Usuwamy duplikaty"
   ],
   "metadata": {
    "id": "vOYWPIi2hupy"
   }
  },
  {
   "cell_type": "code",
   "source": "df.drop_duplicates(inplace=True)",
   "metadata": {
    "id": "P3A17_JqhtRh",
    "ExecuteTime": {
     "end_time": "2025-04-08T17:25:36.552809Z",
     "start_time": "2025-04-08T17:25:36.548724Z"
    }
   },
   "outputs": [],
   "execution_count": 87
  },
  {
   "cell_type": "markdown",
   "source": [
    "inplace=True oznacza, że aktualizujemy nasze dane."
   ],
   "metadata": {
    "id": "__oebrdehySm"
   }
  },
  {
   "cell_type": "markdown",
   "source": [
    "# Sprawdzamy wielkość naszego Datasetu"
   ],
   "metadata": {
    "id": "-I7hVtJukH6s"
   }
  },
  {
   "cell_type": "code",
   "source": "df.shape",
   "metadata": {
    "colab": {
     "base_uri": "https://localhost:8080/"
    },
    "id": "ongaFa0wkNO-",
    "outputId": "ba955b70-f8d3-4d03-a587-d9603205189c",
    "ExecuteTime": {
     "end_time": "2025-04-08T17:25:36.575957Z",
     "start_time": "2025-04-08T17:25:36.572629Z"
    }
   },
   "outputs": [
    {
     "data": {
      "text/plain": [
       "(20, 11)"
      ]
     },
     "execution_count": 88,
     "metadata": {},
     "output_type": "execute_result"
    }
   ],
   "execution_count": 88
  },
  {
   "cell_type": "markdown",
   "source": [
    "# Sprawdzamy czy mamy wartości NaN"
   ],
   "metadata": {
    "id": "XzGj1HTKh466"
   }
  },
  {
   "cell_type": "code",
   "source": "df.isna().sum()",
   "metadata": {
    "colab": {
     "base_uri": "https://localhost:8080/",
     "height": 429
    },
    "id": "1Bib2PDZhxSh",
    "outputId": "5df125e8-db19-4aca-d07d-1f7366b22ccf",
    "ExecuteTime": {
     "end_time": "2025-04-08T17:25:36.608664Z",
     "start_time": "2025-04-08T17:25:36.603968Z"
    }
   },
   "outputs": [
    {
     "data": {
      "text/plain": [
       "Rank                                 0\n",
       "Peak                                 2\n",
       "All Time Peak                       18\n",
       "Actual gross                         0\n",
       "Adjusted gross (in 2022 dollars)     0\n",
       "Artist                               0\n",
       "Tour title                           0\n",
       "Shows                                0\n",
       "Average gross                        0\n",
       "Ref.                                 0\n",
       "gender                               0\n",
       "dtype: int64"
      ]
     },
     "execution_count": 89,
     "metadata": {},
     "output_type": "execute_result"
    }
   ],
   "execution_count": 89
  },
  {
   "cell_type": "markdown",
   "source": [
    "# Usuwamy kolumnę All Time Peak - ponieważ cała praktycznie to Null"
   ],
   "metadata": {
    "id": "SvFSQ95ukUSo"
   }
  },
  {
   "cell_type": "code",
   "source": [
    "df.drop('All Time Peak', axis=1, inplace=True)"
   ],
   "metadata": {
    "id": "hdvmAd7Hkg7W",
    "ExecuteTime": {
     "end_time": "2025-04-08T17:25:36.655268Z",
     "start_time": "2025-04-08T17:25:36.652145Z"
    }
   },
   "outputs": [],
   "execution_count": 90
  },
  {
   "cell_type": "markdown",
   "source": [
    "W tym przypadku kolumna \"All Time Peak \" jest pełna nulli (brak danych), więc nie zawiera żadnych informacji, które mogłyby pomóc w przewidywaniu jakichkolwiek wyników w modelu uczenia maszynowego.  \n",
    "\n",
    "W ramach feature engineering, możemy usunąć tę kolumnę, ponieważ nie wnosi ona żadnej wartości do modelu.  \n",
    "\n",
    "Jednak co to **Feature engineering?**  \n",
    "\n",
    "to proces tworzenia nowych cech (features) z istniejących danych w celu poprawy wydajności modelu uczenia maszynowego. Polega na transformacji, modyfikacji lub usuwaniu danych w taki sposób, aby uczynić je bardziej wartościowymi lub odpowiednimi dla algorytmu modelu"
   ],
   "metadata": {
    "id": "GWKs2scT81s0"
   }
  },
  {
   "cell_type": "markdown",
   "source": [
    "# Usuń w pozostałych kolumnach wiersze zawierające Nulle (dropna)"
   ],
   "metadata": {
    "id": "pxA7iZwVkjqA"
   }
  },
  {
   "cell_type": "code",
   "source": "df.dropna(inplace=True)",
   "metadata": {
    "id": "41lEgGDlksDP",
    "ExecuteTime": {
     "end_time": "2025-04-08T17:25:36.705424Z",
     "start_time": "2025-04-08T17:25:36.701318Z"
    }
   },
   "outputs": [],
   "execution_count": 91
  },
  {
   "cell_type": "markdown",
   "source": [
    "**Możemy również inputować dane.** Np. zamienić Nulle na 0/średnią/medianę/najczęściej występującą wartość/'Other'\n",
    "\n",
    "W tym przypadku tak by to wyglądało: **df['Peak'] = df['Peak'].fillna(0)**"
   ],
   "metadata": {
    "id": "8AcQbpyQxj41"
   }
  },
  {
   "cell_type": "markdown",
   "source": [
    "# Sprawdź czy mamy wartości NaN"
   ],
   "metadata": {
    "id": "REgXcr3rkz8G"
   }
  },
  {
   "cell_type": "code",
   "source": "df.isna().sum()",
   "metadata": {
    "id": "iXD5lpSEuL8t",
    "ExecuteTime": {
     "end_time": "2025-04-08T17:25:36.727858Z",
     "start_time": "2025-04-08T17:25:36.722417Z"
    }
   },
   "outputs": [
    {
     "data": {
      "text/plain": [
       "Rank                                0\n",
       "Peak                                0\n",
       "Actual gross                        0\n",
       "Adjusted gross (in 2022 dollars)    0\n",
       "Artist                              0\n",
       "Tour title                          0\n",
       "Shows                               0\n",
       "Average gross                       0\n",
       "Ref.                                0\n",
       "gender                              0\n",
       "dtype: int64"
      ]
     },
     "execution_count": 92,
     "metadata": {},
     "output_type": "execute_result"
    }
   ],
   "execution_count": 92
  },
  {
   "cell_type": "markdown",
   "source": [
    "W tym momencie wszędzie powinny być 0."
   ],
   "metadata": {
    "id": "8DUu0aQxk29p"
   }
  },
  {
   "cell_type": "markdown",
   "source": [
    "# Czyszczenie kolumn numerycznych"
   ],
   "metadata": {
    "id": "wUOYoxUolBc_"
   }
  },
  {
   "cell_type": "code",
   "source": [
    "df['Average gross'] = df['Average gross'].str.replace(r'[^0-9.]', '', regex=True).astype(float)"
   ],
   "metadata": {
    "id": "kW9Nb4pDk1b7",
    "ExecuteTime": {
     "end_time": "2025-04-08T17:25:36.797717Z",
     "start_time": "2025-04-08T17:25:36.793648Z"
    }
   },
   "outputs": [],
   "execution_count": 93
  },
  {
   "cell_type": "markdown",
   "source": [
    "Czyszczenie wartości z kolumny \"Average gross\", usuwamy znaki nie będące liczbami. Zmieniamy na float."
   ],
   "metadata": {
    "id": "UXxR1mE4mD6C"
   }
  },
  {
   "cell_type": "markdown",
   "source": [
    "# Teraz zrób to dla kolumn: Adjusted gross (in 2022 dollars) oraz Actual gross"
   ],
   "metadata": {
    "id": "YvMm6CZKmPH9"
   }
  },
  {
   "cell_type": "code",
   "source": [
    "df['Adjusted gross (in 2022 dollars)'] = df['Adjusted gross (in 2022 dollars)'].str.replace(r'[^0-9.]', '', regex=True).astype(float)\n",
    "df['Actual gross'] = df['Actual gross'].str.replace(r'[^0-9.]', '', regex=True).astype(float)"
   ],
   "metadata": {
    "id": "fdppGUAjuReP",
    "ExecuteTime": {
     "end_time": "2025-04-08T17:25:36.853377Z",
     "start_time": "2025-04-08T17:25:36.847934Z"
    }
   },
   "outputs": [],
   "execution_count": 94
  },
  {
   "cell_type": "markdown",
   "source": [
    "# Czyszczenie kolumny Peak, będziemy usuwać []"
   ],
   "metadata": {
    "id": "xXVfOfUKqAje"
   }
  },
  {
   "cell_type": "code",
   "source": [
    "df['Peak'].value_counts()"
   ],
   "metadata": {
    "colab": {
     "base_uri": "https://localhost:8080/",
     "height": 335
    },
    "id": "9ZCNx0B7qoDb",
    "outputId": "77565dda-c101-4493-e467-1135419af0bb",
    "ExecuteTime": {
     "end_time": "2025-04-08T17:25:36.889121Z",
     "start_time": "2025-04-08T17:25:36.884103Z"
    }
   },
   "outputs": [
    {
     "data": {
      "text/plain": [
       "Peak\n",
       "2[10]    5\n",
       "2[4]     4\n",
       "1        3\n",
       "2[7]     3\n",
       "1[4]     1\n",
       "1[20]    1\n",
       "2[c]     1\n",
       "Name: count, dtype: int64"
      ]
     },
     "execution_count": 95,
     "metadata": {},
     "output_type": "execute_result"
    }
   ],
   "execution_count": 95
  },
  {
   "cell_type": "code",
   "source": [
    "df['Peak'] = df['Peak'].str.replace(r'[^0-9]', '', regex=True).astype(int)"
   ],
   "metadata": {
    "id": "XeCndmsVqHVR",
    "ExecuteTime": {
     "end_time": "2025-04-08T17:25:36.959516Z",
     "start_time": "2025-04-08T17:25:36.956059Z"
    }
   },
   "outputs": [],
   "execution_count": 96
  },
  {
   "cell_type": "markdown",
   "source": [
    "Usuwamy wszystko co nie jest cyfrą"
   ],
   "metadata": {
    "id": "RBuLgnTMsOI6"
   }
  },
  {
   "cell_type": "code",
   "source": [
    "df['Peak'].value_counts()"
   ],
   "metadata": {
    "colab": {
     "base_uri": "https://localhost:8080/",
     "height": 335
    },
    "id": "TgtgujsOqhQw",
    "outputId": "00e0ebee-0090-4d7b-9015-ec88cfd19d10",
    "ExecuteTime": {
     "end_time": "2025-04-08T17:25:37.027230Z",
     "start_time": "2025-04-08T17:25:37.021188Z"
    }
   },
   "outputs": [
    {
     "data": {
      "text/plain": [
       "Peak\n",
       "210    5\n",
       "24     4\n",
       "1      3\n",
       "27     3\n",
       "14     1\n",
       "120    1\n",
       "2      1\n",
       "Name: count, dtype: int64"
      ]
     },
     "execution_count": 97,
     "metadata": {},
     "output_type": "execute_result"
    }
   ],
   "execution_count": 97
  },
  {
   "cell_type": "markdown",
   "source": [
    "# Teraz usuń nawiasy w kolumnie Ref."
   ],
   "metadata": {
    "id": "cQOOVK1_rJTu"
   }
  },
  {
   "cell_type": "code",
   "source": "df['Ref.'] = df['Ref.'].str.replace(r'[^0-9.]', '', regex=True).astype(float)",
   "metadata": {
    "id": "W73tgTrVrIR8",
    "ExecuteTime": {
     "end_time": "2025-04-08T17:25:37.106264Z",
     "start_time": "2025-04-08T17:25:37.101663Z"
    }
   },
   "outputs": [],
   "execution_count": 98
  },
  {
   "cell_type": "code",
   "source": [
    "df['Ref.']"
   ],
   "metadata": {
    "id": "s7Y57YGVuv7N",
    "ExecuteTime": {
     "end_time": "2025-04-08T17:25:37.186122Z",
     "start_time": "2025-04-08T17:25:37.179223Z"
    }
   },
   "outputs": [
    {
     "data": {
      "text/plain": [
       "0        1.0\n",
       "1        3.0\n",
       "2        6.0\n",
       "3        7.0\n",
       "4        8.0\n",
       "5        9.0\n",
       "6       11.0\n",
       "7       12.0\n",
       "8       13.0\n",
       "10    1516.0\n",
       "11      18.0\n",
       "12      19.0\n",
       "13      20.0\n",
       "14       5.0\n",
       "15      22.0\n",
       "16       4.0\n",
       "18      26.0\n",
       "19       7.0\n",
       "Name: Ref., dtype: float64"
      ]
     },
     "execution_count": 99,
     "metadata": {},
     "output_type": "execute_result"
    }
   ],
   "execution_count": 99
  },
  {
   "cell_type": "markdown",
   "source": [
    "# Zostało nam zająć się kolumną gender. Jak widać mamy różne dane a wystarczą dwie."
   ],
   "metadata": {
    "id": "5qVVGZ-ssZeL"
   }
  },
  {
   "cell_type": "code",
   "source": [
    "df['gender'].value_counts()"
   ],
   "metadata": {
    "colab": {
     "base_uri": "https://localhost:8080/",
     "height": 304
    },
    "id": "Q43iA6v1sWmd",
    "outputId": "e58efee0-98d1-41c7-bdf8-16e77ed35211",
    "ExecuteTime": {
     "end_time": "2025-04-08T17:25:37.278798Z",
     "start_time": "2025-04-08T17:25:37.269189Z"
    }
   },
   "outputs": [
    {
     "data": {
      "text/plain": [
       "gender\n",
       "f         5\n",
       "m         4\n",
       "Male      3\n",
       "Female    2\n",
       "F         2\n",
       "M         2\n",
       "Name: count, dtype: int64"
      ]
     },
     "execution_count": 100,
     "metadata": {},
     "output_type": "execute_result"
    }
   ],
   "execution_count": 100
  },
  {
   "cell_type": "markdown",
   "source": [
    "# Zamień dane, aby w każdym wierszu było f lub m."
   ],
   "metadata": {
    "id": "iXyrYSHVsm0f"
   }
  },
  {
   "cell_type": "code",
   "source": [
    "df['gender'] = df['gender'].replace(['Female','F'] , 'f', regex=True)\n",
    "df['gender'] = df['gender'].replace(['Male','M'] , 'm', regex=True)"
   ],
   "metadata": {
    "id": "rgTT6ggusp4w",
    "ExecuteTime": {
     "end_time": "2025-04-08T17:25:37.407178Z",
     "start_time": "2025-04-08T17:25:37.401548Z"
    }
   },
   "outputs": [],
   "execution_count": 101
  },
  {
   "cell_type": "markdown",
   "source": [
    "# Sprawdź czy wszystko jest okej."
   ],
   "metadata": {
    "id": "Dy4opa8Xs_-T"
   }
  },
  {
   "cell_type": "code",
   "source": "df['gender'].value_counts()",
   "metadata": {
    "id": "QIekfyOnufXY",
    "ExecuteTime": {
     "end_time": "2025-04-08T17:25:37.480545Z",
     "start_time": "2025-04-08T17:25:37.474348Z"
    }
   },
   "outputs": [
    {
     "data": {
      "text/plain": [
       "gender\n",
       "m    9\n",
       "f    9\n",
       "Name: count, dtype: int64"
      ]
     },
     "execution_count": 102,
     "metadata": {},
     "output_type": "execute_result"
    }
   ],
   "execution_count": 102
  },
  {
   "cell_type": "markdown",
   "source": [
    "# Sprawdź jak wygląda wyczyszczony dataset."
   ],
   "metadata": {
    "id": "UIUfTvMHtHsq"
   }
  },
  {
   "cell_type": "code",
   "source": "df.head()",
   "metadata": {
    "id": "pYLAazihujDG",
    "ExecuteTime": {
     "end_time": "2025-04-08T17:25:37.574702Z",
     "start_time": "2025-04-08T17:25:37.562320Z"
    }
   },
   "outputs": [
    {
     "data": {
      "text/plain": [
       "   Rank  Peak  Actual gross  Adjusted gross (in 2022 dollars)        Artist  \\\n",
       "0     1     1   780000000.0                       780000000.0  Taylor Swift   \n",
       "1     2     1   579800000.0                       579800000.0       Beyoncé   \n",
       "2     3    14   411000000.0                       560622615.0       Madonna   \n",
       "3     4    27   397300000.0                       454751555.0          Pink   \n",
       "4     5    24   345675146.0                       402844849.0  Taylor Swift   \n",
       "\n",
       "                    Tour title  Shows  Average gross  Ref. gender  \n",
       "0              The Eras Tour †     56     13928571.0   1.0      m  \n",
       "1       Renaissance World Tour     56     10353571.0   3.0      f  \n",
       "2  Sticky & Sweet Tour ‡[4][a]     85      4835294.0   6.0      m  \n",
       "3  Beautiful Trauma World Tour    156      2546795.0   7.0      m  \n",
       "4      Reputation Stadium Tour     53      6522173.0   8.0      f  "
      ],
      "text/html": [
       "<div>\n",
       "<style scoped>\n",
       "    .dataframe tbody tr th:only-of-type {\n",
       "        vertical-align: middle;\n",
       "    }\n",
       "\n",
       "    .dataframe tbody tr th {\n",
       "        vertical-align: top;\n",
       "    }\n",
       "\n",
       "    .dataframe thead th {\n",
       "        text-align: right;\n",
       "    }\n",
       "</style>\n",
       "<table border=\"1\" class=\"dataframe\">\n",
       "  <thead>\n",
       "    <tr style=\"text-align: right;\">\n",
       "      <th></th>\n",
       "      <th>Rank</th>\n",
       "      <th>Peak</th>\n",
       "      <th>Actual gross</th>\n",
       "      <th>Adjusted gross (in 2022 dollars)</th>\n",
       "      <th>Artist</th>\n",
       "      <th>Tour title</th>\n",
       "      <th>Shows</th>\n",
       "      <th>Average gross</th>\n",
       "      <th>Ref.</th>\n",
       "      <th>gender</th>\n",
       "    </tr>\n",
       "  </thead>\n",
       "  <tbody>\n",
       "    <tr>\n",
       "      <th>0</th>\n",
       "      <td>1</td>\n",
       "      <td>1</td>\n",
       "      <td>780000000.0</td>\n",
       "      <td>780000000.0</td>\n",
       "      <td>Taylor Swift</td>\n",
       "      <td>The Eras Tour †</td>\n",
       "      <td>56</td>\n",
       "      <td>13928571.0</td>\n",
       "      <td>1.0</td>\n",
       "      <td>m</td>\n",
       "    </tr>\n",
       "    <tr>\n",
       "      <th>1</th>\n",
       "      <td>2</td>\n",
       "      <td>1</td>\n",
       "      <td>579800000.0</td>\n",
       "      <td>579800000.0</td>\n",
       "      <td>Beyoncé</td>\n",
       "      <td>Renaissance World Tour</td>\n",
       "      <td>56</td>\n",
       "      <td>10353571.0</td>\n",
       "      <td>3.0</td>\n",
       "      <td>f</td>\n",
       "    </tr>\n",
       "    <tr>\n",
       "      <th>2</th>\n",
       "      <td>3</td>\n",
       "      <td>14</td>\n",
       "      <td>411000000.0</td>\n",
       "      <td>560622615.0</td>\n",
       "      <td>Madonna</td>\n",
       "      <td>Sticky &amp; Sweet Tour ‡[4][a]</td>\n",
       "      <td>85</td>\n",
       "      <td>4835294.0</td>\n",
       "      <td>6.0</td>\n",
       "      <td>m</td>\n",
       "    </tr>\n",
       "    <tr>\n",
       "      <th>3</th>\n",
       "      <td>4</td>\n",
       "      <td>27</td>\n",
       "      <td>397300000.0</td>\n",
       "      <td>454751555.0</td>\n",
       "      <td>Pink</td>\n",
       "      <td>Beautiful Trauma World Tour</td>\n",
       "      <td>156</td>\n",
       "      <td>2546795.0</td>\n",
       "      <td>7.0</td>\n",
       "      <td>m</td>\n",
       "    </tr>\n",
       "    <tr>\n",
       "      <th>4</th>\n",
       "      <td>5</td>\n",
       "      <td>24</td>\n",
       "      <td>345675146.0</td>\n",
       "      <td>402844849.0</td>\n",
       "      <td>Taylor Swift</td>\n",
       "      <td>Reputation Stadium Tour</td>\n",
       "      <td>53</td>\n",
       "      <td>6522173.0</td>\n",
       "      <td>8.0</td>\n",
       "      <td>f</td>\n",
       "    </tr>\n",
       "  </tbody>\n",
       "</table>\n",
       "</div>"
      ]
     },
     "execution_count": 103,
     "metadata": {},
     "output_type": "execute_result"
    }
   ],
   "execution_count": 103
  },
  {
   "cell_type": "markdown",
   "source": [
    "# Dla chętnych"
   ],
   "metadata": {
    "id": "9RmPW7tL22aG"
   }
  },
  {
   "cell_type": "markdown",
   "source": [
    "Materiały dotyczące analizy danych.\n",
    "\n",
    "Czyszczenie danych: https://www.freecodecamp.org/news/data-cleaning-and-preprocessing-with-pandasbdvhj/  \n",
    "\n",
    "Więcej o Feature Engineering: https://www.geeksforgeeks.org/what-is-feature-engineering/\n",
    "\n",
    "Kurs DataCamp: https://app.datacamp.com/learn/courses/cleaning-data-in-python"
   ],
   "metadata": {
    "id": "yYbjqQts28Bd"
   }
  },
  {
   "cell_type": "markdown",
   "source": [
    "# Gdzie ćwiczyć?"
   ],
   "metadata": {
    "id": "ZZj1nnIC5ATD"
   }
  },
  {
   "cell_type": "markdown",
   "source": [
    "Stroną gdzie możemy pobrać dużo różnych datasetów za darmo jest: https://www.kaggle.com/.   \n",
    "\n",
    "Jeśli masz ochotę polecam wybrać jakiś dataset i spróbować samemu go wyczyścić.  \n",
    "\n",
    "Przykładowy dataset z kaggla: https://www.kaggle.com/datasets/ahmedmohamed2003/cafe-sales-dirty-data-for-cleaning-training"
   ],
   "metadata": {
    "id": "uEb12ZnE5JPE"
   }
  }
 ]
}

{
 "nbformat": 4,
 "nbformat_minor": 0,
 "metadata": {
  "colab": {
   "provenance": []
  },
  "kernelspec": {
   "name": "python3",
   "display_name": "Python 3 (ipykernel)",
   "language": "python"
  },
  "language_info": {
   "name": "python"
  }
 },
 "cells": [
  {
   "cell_type": "markdown",
   "source": [
    "# 📘 Notebook: Ewaluacja modeli ML – AI Warsztaty"
   ],
   "metadata": {
    "id": "YooHlm7ObBWW"
   }
  },
  {
   "cell_type": "markdown",
   "source": [
    "🧱 Spis treści\n",
    "\n",
    "1. Wprowadzenie – po co ewaluować modele?\n",
    "\n",
    "2. Klasyfikacja\n",
    "\n",
    "3. Regresja\n",
    "\n",
    "4. Grupowanie (unsupervised)\n",
    "\n",
    "5. Sieci neuronowe (specyfika ewaluacji)\n",
    "\n",
    "6. Walidacja modeli i overfitting\n",
    "\n",
    "7. Cheat Sheet – skróty, wybór metryk"
   ],
   "metadata": {
    "id": "yOGfjgQzbFGB"
   }
  },
  {
   "cell_type": "markdown",
   "source": [
    "##1. 🧠 Po co ewaluować modele?"
   ],
   "metadata": {
    "id": "LCiAV8jMbKo8"
   }
  },
  {
   "cell_type": "markdown",
   "source": [
    "### Czy Twój model działa dobrze?\n",
    "\n",
    "- Ewaluacja modelu to nie tylko sprawdzenie \"czy działa\", ale:\n",
    "  - Czy uczy się właściwego wzorca?\n",
    "  - Czy generalizuje?\n",
    "  - Czy jest lepszy niż losowe zgadywanie?\n",
    "\n",
    "🔎 Dzięki ewaluacji:\n",
    "- porównujemy modele i wybieramy najlepszy\n",
    "- unikamy pułapek typu overfitting\n",
    "- dobieramy odpowiednie metody do konkretnego problemu\n"
   ],
   "metadata": {
    "id": "D4Ms9vTVbNXi"
   }
  },
  {
   "cell_type": "markdown",
   "source": [
    "##2. 📊 Klasyfikacja"
   ],
   "metadata": {
    "id": "bZBfcQoFbQX5"
   }
  },
  {
   "cell_type": "markdown",
   "source": [
    "### Co to jest klasyfikacja?\n",
    "\n",
    "To przewidywanie jednej z kilku klas (np. TAK/NIE, kot/pies, pozytywny/negatywny).\n",
    "\n",
    "📌 Przykłady:\n",
    "- Email to spam / nie spam\n",
    "- Czy pacjent ma raka\n",
    "- Czy klient spłaci kredyt\n",
    "\n",
    "---\n",
    "\n",
    "### 📏 Metryki klasyfikacyjne\n",
    "\n",
    "1. **Accuracy** – % poprawnych odpowiedzi\n",
    "   - Działa tylko przy zrównoważonych klasach\n",
    "   - Nie sprawdza się przy danych typu: 95% klasy \"NIE\"\n",
    "\n",
    "2. **Precision** – spośród przewidzianych jako pozytywne, ile było faktycznie pozytywnych  \n",
    "   > Wysoka precision: mało fałszywych alarmów\n",
    "\n",
    "3. **Recall** – spośród faktycznie pozytywnych, ile model wykrył  \n",
    "   > Wysoki recall: mało przypadków przeoczonych\n",
    "\n",
    "4. **F1-score** – balans precision i recall\n",
    "\n",
    "5. **AUC-ROC** – ocena zdolności odróżnienia klas (niezależnie od progu)\n",
    "\n",
    "---\n",
    "\n",
    "### 📌 Kiedy używać której?\n",
    "\n",
    "| Problem | Ważna metryka |\n",
    "|--------|----------------|\n",
    "| Zbalansowane dane | Accuracy, F1 |\n",
    "| Niezbalansowane dane | F1, Precision, Recall |\n",
    "| Bezpieczeństwo, zdrowie | Recall |\n",
    "| Blokowanie spamu | Precision |\n",
    "| Wynik to prawdopodobieństwo | AUC-ROC |\n"
   ],
   "metadata": {
    "id": "dAsUgNw-bg3R"
   }
  },
  {
   "cell_type": "markdown",
   "source": [
    "### Ćwiczenie 1: Wytrenuj klasyfikator na zbiorze breast_cancer\n",
    "\n",
    "1) Naucz się obliczać accuracy, precision, recall i F1."
   ],
   "metadata": {
    "id": "N9iqfVOXczSg"
   }
  },
  {
   "cell_type": "code",
   "source": [
    "from sklearn.datasets import load_breast_cancer\n",
    "from sklearn.linear_model import LogisticRegression\n",
    "from sklearn.metrics import classification_report\n",
    "from sklearn.model_selection import train_test_split\n",
    "\n",
    "data = load_breast_cancer()\n",
    "print(data.target_names)\n",
    "print(set(data.target))\n",
    "\n",
    "X_train, X_test, y_train, y_test = train_test_split(data.data, data.target, test_size=0.2, stratify=data.target)\n",
    "\n",
    "model = LogisticRegression(max_iter=10000)\n",
    "model.fit(X_train, y_train)\n",
    "\n",
    "y_pred = model.predict(X_test)\n",
    "print(classification_report(y_test, y_pred))\n"
   ],
   "metadata": {
    "id": "QUUIiPDCc89w",
    "ExecuteTime": {
     "end_time": "2025-04-09T22:02:44.547182Z",
     "start_time": "2025-04-09T22:02:44.307093Z"
    }
   },
   "outputs": [
    {
     "name": "stdout",
     "output_type": "stream",
     "text": [
      "['malignant' 'benign']\n",
      "{np.int64(0), np.int64(1)}\n",
      "              precision    recall  f1-score   support\n",
      "\n",
      "           0       0.91      0.95      0.93        42\n",
      "           1       0.97      0.94      0.96        72\n",
      "\n",
      "    accuracy                           0.95       114\n",
      "   macro avg       0.94      0.95      0.94       114\n",
      "weighted avg       0.95      0.95      0.95       114\n",
      "\n"
     ]
    }
   ],
   "execution_count": 18
  },
  {
   "cell_type": "markdown",
   "source": [
    "}### Ćwiczenie 2: Zinterpretuj wyniki\n",
    "\n",
    "1) Kiedy model bardziej myli się (fałszywe pozytywy czy negatywy)?\n",
    "\n",
    "2) Co to może znaczyć w kontekście diagnozy medycznej?"
   ],
   "metadata": {
    "id": "VAdPGSxzdAn0"
   }
  },
  {
   "cell_type": "markdown",
   "source": [
    "##3. 📈 Regresja"
   ],
   "metadata": {
    "id": "pSKb4VZ2bqap"
   }
  },
  {
   "cell_type": "markdown",
   "source": [
    "### Czym jest regresja?\n",
    "\n",
    "Model przewiduje wartość liczbową:\n",
    "- prognoza cen\n",
    "- przewidywanie temperatury\n",
    "- szacowanie ryzyka\n",
    "\n",
    "---\n",
    "\n",
    "### 📏 Metryki regresji\n",
    "\n",
    "1. **MAE (Mean Absolute Error)**  \n",
    "   - Średni błąd bezwzględny\n",
    "   - Intuicyjny: \"średnio się pomyliłem o X\"\n",
    "\n",
    "2. **MSE (Mean Squared Error)**  \n",
    "   - Bardziej karze duże błędy\n",
    "\n",
    "3. **RMSE (Root MSE)**  \n",
    "   - MSE znormalizowane – ta sama jednostka co target\n",
    "\n",
    "4. **R² (coefficient of determination)**  \n",
    "   - Wskaźnik, jak dobrze model tłumaczy zmienność danych (0–1)\n",
    "\n",
    "---\n",
    "\n",
    "### 📌 Kiedy używać której?\n",
    "\n",
    "| Problem | Metryka |\n",
    "|--------|---------|\n",
    "| Błąd ma być \"ludzki\" | MAE |\n",
    "| Chcesz karać duże błędy | MSE / RMSE |\n",
    "| Chcesz ocenić ogólną jakość dopasowania | R² |\n"
   ],
   "metadata": {
    "id": "8ZC1hs-Pbrud"
   }
  },
  {
   "cell_type": "markdown",
   "source": [
    "### Ćwiczenie 1: Porównanie MAE i RMSE\n",
    "\n",
    "1) Zobacz różnicę między karaniem dużych błędów."
   ],
   "metadata": {
    "id": "NVJGo3YpdP14"
   }
  },
  {
   "cell_type": "code",
   "source": [
    "from sklearn.datasets import fetch_california_housing\n",
    "from sklearn.linear_model import LinearRegression\n",
    "from sklearn.metrics import mean_absolute_error, mean_squared_error\n",
    "import numpy as np\n",
    "\n",
    "data = fetch_california_housing()\n",
    "X_train, X_test, y_train, y_test = train_test_split(data.data, data.target)\n",
    "\n",
    "model = LinearRegression()\n",
    "model.fit(X_train, y_train)\n",
    "y_pred = model.predict(X_test)\n",
    "\n",
    "mae = mean_absolute_error(y_test, y_pred)\n",
    "rmse = np.sqrt(mean_squared_error(y_test, y_pred))\n",
    "\n",
    "print(\"MAE:\", mae)\n",
    "print(\"RMSE:\", rmse)\n"
   ],
   "metadata": {
    "id": "Pmk7GvWIdSe8",
    "ExecuteTime": {
     "end_time": "2025-04-09T22:04:57.536359Z",
     "start_time": "2025-04-09T22:04:57.498703Z"
    }
   },
   "outputs": [
    {
     "name": "stdout",
     "output_type": "stream",
     "text": [
      "MAE: 0.535360732232198\n",
      "RMSE: 0.7343661735836567\n"
     ]
    }
   ],
   "execution_count": 19
  },
  {
   "cell_type": "markdown",
   "source": [
    "### Ćwiczenie 2: Stwórz wykres błędów\n",
    "\n",
    "1) Narysuj histogram błędów predykcji (y_test - y_pred)\n",
    "\n",
    "2) Co możesz z niego wyczytać?"
   ],
   "metadata": {
    "id": "SBBn1X2udTlM"
   }
  },
  {
   "cell_type": "markdown",
   "source": [
    "##4. 🔍 Grupowanie (Clustering)"
   ],
   "metadata": {
    "id": "_qMbXgIqbuJd"
   }
  },
  {
   "cell_type": "markdown",
   "source": [
    "### Brak etykiet – jak ocenić?\n",
    "\n",
    "W grupowaniu (np. KMeans) nie mamy \"prawdziwych\" odpowiedzi.  \n",
    "Model sam szuka podobieństw – musimy ocenić jakość klastrów.\n",
    "\n",
    "---\n",
    "\n",
    "### 📏 Metryki unsupervised:\n",
    "\n",
    "1. **Silhouette Score**  \n",
    "   - Miara spójności i separacji klas  \n",
    "   - od -1 do 1 (im wyżej, tym lepiej)\n",
    "\n",
    "2. **Calinski-Harabasz Index**  \n",
    "   - Stosunek odległości między klastrami do wewnętrznej spójności  \n",
    "   - im wyższy, tym lepiej\n",
    "\n",
    "3. **Davies-Bouldin Index**  \n",
    "   - Niższy = lepiej\n",
    "\n",
    "---\n",
    "\n",
    "### 📌 Co robić?\n",
    "\n",
    "- Próbować różnych K i porównywać metryki\n",
    "- Wizualizować: PCA, t-SNE\n"
   ],
   "metadata": {
    "id": "lytSAh83bwaV"
   }
  },
  {
   "cell_type": "markdown",
   "source": [
    "### Ćwiczenie 1: KMeans + silhouette score\n",
    "\n",
    "1) Naucz się oceniać jakość klastrów"
   ],
   "metadata": {
    "id": "d-6ldq_RdsVX"
   }
  },
  {
   "cell_type": "code",
   "source": [
    "from sklearn.datasets import make_blobs\n",
    "from sklearn.cluster import KMeans\n",
    "from sklearn.metrics import silhouette_score\n",
    "\n",
    "X, _ = make_blobs(n_samples=300, centers=4, random_state=42)\n",
    "\n",
    "kmeans = KMeans(n_clusters=4, random_state=42)\n",
    "labels = kmeans.fit_predict(X)\n",
    "\n",
    "score = silhouette_score(X, labels)\n",
    "print(\"Silhouette Score:\", score)\n"
   ],
   "metadata": {
    "id": "vkNixSMBdwPX",
    "ExecuteTime": {
     "end_time": "2025-04-09T22:02:22.785655Z",
     "start_time": "2025-04-09T22:02:06.644618Z"
    }
   },
   "outputs": [
    {
     "name": "stdout",
     "output_type": "stream",
     "text": [
      "Silhouette Score: 0.7915830011443038\n"
     ]
    }
   ],
   "execution_count": 15
  },
  {
   "cell_type": "markdown",
   "source": [
    "### Ćwiczenie 2: Zmień liczbę klastrów\n",
    "\n",
    "1) Sprawdź, jak zmienia się wynik silhouette_score\n",
    "\n",
    "2) Czy zawsze więcej klastrów = lepiej?"
   ],
   "metadata": {
    "id": "OxYYZnRmdydM"
   }
  },
  {
   "cell_type": "markdown",
   "source": [
    "## 5. 🧠 Sieci neuronowe"
   ],
   "metadata": {
    "id": "_t-1EGXibzRc"
   }
  },
  {
   "cell_type": "markdown",
   "source": [
    "### Sieci uczą się na wiele epok – trzeba kontrolować postęp\n",
    "\n",
    "📏 Monitorujemy:\n",
    "- **Loss (funkcja straty)** na train i validation\n",
    "- Accuracy/F1 na validation\n",
    "- Early stopping – zatrzymaj trening gdy val_loss rośnie\n",
    "\n",
    "📊 Często wykresy:\n",
    "- loss vs epoch\n",
    "- val_loss vs epoch\n",
    "\n",
    "Używamy callbacków np. w TensorFlow:\n",
    "```python\n",
    "EarlyStopping(monitor='val_loss', patience=3)\n"
   ],
   "metadata": {
    "id": "-sjWgGX-b2lg"
   }
  },
  {
   "cell_type": "markdown",
   "source": [
    "### Ćwiczenie 1: Ucz sieć na MNIST i rysuj loss\n",
    "\n",
    "1) Zobacz overfitting i użycie early stopping"
   ],
   "metadata": {
    "id": "91Vg8NWKd23Q"
   }
  },
  {
   "cell_type": "code",
   "source": [
    "!pip install tensorflow"
   ],
   "metadata": {
    "id": "QZv6bF9o3ZEz",
    "ExecuteTime": {
     "end_time": "2025-04-09T22:02:22.786465Z",
     "start_time": "2025-04-09T22:02:07.522451Z"
    }
   },
   "outputs": [
    {
     "name": "stdout",
     "output_type": "stream",
     "text": [
      "Requirement already satisfied: tensorflow in /Users/bartekochnik/Desktop/Studia/Semestr 3/Języki skryptowe/KOLOKWIUM/Ochnik_2/4/.venv/lib/python3.9/site-packages (2.19.0)\r\n",
      "Requirement already satisfied: absl-py>=1.0.0 in /Users/bartekochnik/Desktop/Studia/Semestr 3/Języki skryptowe/KOLOKWIUM/Ochnik_2/4/.venv/lib/python3.9/site-packages (from tensorflow) (2.2.1)\r\n",
      "Requirement already satisfied: astunparse>=1.6.0 in /Users/bartekochnik/Desktop/Studia/Semestr 3/Języki skryptowe/KOLOKWIUM/Ochnik_2/4/.venv/lib/python3.9/site-packages (from tensorflow) (1.6.3)\r\n",
      "Requirement already satisfied: flatbuffers>=24.3.25 in /Users/bartekochnik/Desktop/Studia/Semestr 3/Języki skryptowe/KOLOKWIUM/Ochnik_2/4/.venv/lib/python3.9/site-packages (from tensorflow) (25.2.10)\r\n",
      "Requirement already satisfied: gast!=0.5.0,!=0.5.1,!=0.5.2,>=0.2.1 in /Users/bartekochnik/Desktop/Studia/Semestr 3/Języki skryptowe/KOLOKWIUM/Ochnik_2/4/.venv/lib/python3.9/site-packages (from tensorflow) (0.6.0)\r\n",
      "Requirement already satisfied: google-pasta>=0.1.1 in /Users/bartekochnik/Desktop/Studia/Semestr 3/Języki skryptowe/KOLOKWIUM/Ochnik_2/4/.venv/lib/python3.9/site-packages (from tensorflow) (0.2.0)\r\n",
      "Requirement already satisfied: libclang>=13.0.0 in /Users/bartekochnik/Desktop/Studia/Semestr 3/Języki skryptowe/KOLOKWIUM/Ochnik_2/4/.venv/lib/python3.9/site-packages (from tensorflow) (18.1.1)\r\n",
      "Requirement already satisfied: opt-einsum>=2.3.2 in /Users/bartekochnik/Desktop/Studia/Semestr 3/Języki skryptowe/KOLOKWIUM/Ochnik_2/4/.venv/lib/python3.9/site-packages (from tensorflow) (3.4.0)\r\n",
      "Requirement already satisfied: packaging in /Users/bartekochnik/Desktop/Studia/Semestr 3/Języki skryptowe/KOLOKWIUM/Ochnik_2/4/.venv/lib/python3.9/site-packages (from tensorflow) (24.2)\r\n",
      "Requirement already satisfied: protobuf!=4.21.0,!=4.21.1,!=4.21.2,!=4.21.3,!=4.21.4,!=4.21.5,<6.0.0dev,>=3.20.3 in /Users/bartekochnik/Desktop/Studia/Semestr 3/Języki skryptowe/KOLOKWIUM/Ochnik_2/4/.venv/lib/python3.9/site-packages (from tensorflow) (5.29.4)\r\n",
      "Requirement already satisfied: requests<3,>=2.21.0 in /Users/bartekochnik/Desktop/Studia/Semestr 3/Języki skryptowe/KOLOKWIUM/Ochnik_2/4/.venv/lib/python3.9/site-packages (from tensorflow) (2.32.3)\r\n",
      "Requirement already satisfied: setuptools in /Users/bartekochnik/Desktop/Studia/Semestr 3/Języki skryptowe/KOLOKWIUM/Ochnik_2/4/.venv/lib/python3.9/site-packages (from tensorflow) (68.2.0)\r\n",
      "Requirement already satisfied: six>=1.12.0 in /Users/bartekochnik/Desktop/Studia/Semestr 3/Języki skryptowe/KOLOKWIUM/Ochnik_2/4/.venv/lib/python3.9/site-packages (from tensorflow) (1.17.0)\r\n",
      "Requirement already satisfied: termcolor>=1.1.0 in /Users/bartekochnik/Desktop/Studia/Semestr 3/Języki skryptowe/KOLOKWIUM/Ochnik_2/4/.venv/lib/python3.9/site-packages (from tensorflow) (3.0.0)\r\n",
      "Requirement already satisfied: typing-extensions>=3.6.6 in /Users/bartekochnik/Desktop/Studia/Semestr 3/Języki skryptowe/KOLOKWIUM/Ochnik_2/4/.venv/lib/python3.9/site-packages (from tensorflow) (4.12.2)\r\n",
      "Requirement already satisfied: wrapt>=1.11.0 in /Users/bartekochnik/Desktop/Studia/Semestr 3/Języki skryptowe/KOLOKWIUM/Ochnik_2/4/.venv/lib/python3.9/site-packages (from tensorflow) (1.17.2)\r\n",
      "Requirement already satisfied: grpcio<2.0,>=1.24.3 in /Users/bartekochnik/Desktop/Studia/Semestr 3/Języki skryptowe/KOLOKWIUM/Ochnik_2/4/.venv/lib/python3.9/site-packages (from tensorflow) (1.71.0)\r\n",
      "Requirement already satisfied: tensorboard~=2.19.0 in /Users/bartekochnik/Desktop/Studia/Semestr 3/Języki skryptowe/KOLOKWIUM/Ochnik_2/4/.venv/lib/python3.9/site-packages (from tensorflow) (2.19.0)\r\n",
      "Requirement already satisfied: keras>=3.5.0 in /Users/bartekochnik/Desktop/Studia/Semestr 3/Języki skryptowe/KOLOKWIUM/Ochnik_2/4/.venv/lib/python3.9/site-packages (from tensorflow) (3.9.1)\r\n",
      "Requirement already satisfied: numpy<2.2.0,>=1.26.0 in /Users/bartekochnik/Desktop/Studia/Semestr 3/Języki skryptowe/KOLOKWIUM/Ochnik_2/4/.venv/lib/python3.9/site-packages (from tensorflow) (2.0.2)\r\n",
      "Requirement already satisfied: h5py>=3.11.0 in /Users/bartekochnik/Desktop/Studia/Semestr 3/Języki skryptowe/KOLOKWIUM/Ochnik_2/4/.venv/lib/python3.9/site-packages (from tensorflow) (3.13.0)\r\n",
      "Requirement already satisfied: ml-dtypes<1.0.0,>=0.5.1 in /Users/bartekochnik/Desktop/Studia/Semestr 3/Języki skryptowe/KOLOKWIUM/Ochnik_2/4/.venv/lib/python3.9/site-packages (from tensorflow) (0.5.1)\r\n",
      "Requirement already satisfied: tensorflow-io-gcs-filesystem>=0.23.1 in /Users/bartekochnik/Desktop/Studia/Semestr 3/Języki skryptowe/KOLOKWIUM/Ochnik_2/4/.venv/lib/python3.9/site-packages (from tensorflow) (0.37.1)\r\n",
      "Requirement already satisfied: wheel<1.0,>=0.23.0 in /Users/bartekochnik/Desktop/Studia/Semestr 3/Języki skryptowe/KOLOKWIUM/Ochnik_2/4/.venv/lib/python3.9/site-packages (from astunparse>=1.6.0->tensorflow) (0.41.2)\r\n",
      "Requirement already satisfied: rich in /Users/bartekochnik/Desktop/Studia/Semestr 3/Języki skryptowe/KOLOKWIUM/Ochnik_2/4/.venv/lib/python3.9/site-packages (from keras>=3.5.0->tensorflow) (14.0.0)\r\n",
      "Requirement already satisfied: namex in /Users/bartekochnik/Desktop/Studia/Semestr 3/Języki skryptowe/KOLOKWIUM/Ochnik_2/4/.venv/lib/python3.9/site-packages (from keras>=3.5.0->tensorflow) (0.0.8)\r\n",
      "Requirement already satisfied: optree in /Users/bartekochnik/Desktop/Studia/Semestr 3/Języki skryptowe/KOLOKWIUM/Ochnik_2/4/.venv/lib/python3.9/site-packages (from keras>=3.5.0->tensorflow) (0.14.1)\r\n",
      "Requirement already satisfied: charset-normalizer<4,>=2 in /Users/bartekochnik/Desktop/Studia/Semestr 3/Języki skryptowe/KOLOKWIUM/Ochnik_2/4/.venv/lib/python3.9/site-packages (from requests<3,>=2.21.0->tensorflow) (3.4.1)\r\n",
      "Requirement already satisfied: idna<4,>=2.5 in /Users/bartekochnik/Desktop/Studia/Semestr 3/Języki skryptowe/KOLOKWIUM/Ochnik_2/4/.venv/lib/python3.9/site-packages (from requests<3,>=2.21.0->tensorflow) (3.10)\r\n",
      "Requirement already satisfied: urllib3<3,>=1.21.1 in /Users/bartekochnik/Desktop/Studia/Semestr 3/Języki skryptowe/KOLOKWIUM/Ochnik_2/4/.venv/lib/python3.9/site-packages (from requests<3,>=2.21.0->tensorflow) (1.26.20)\r\n",
      "Requirement already satisfied: certifi>=2017.4.17 in /Users/bartekochnik/Desktop/Studia/Semestr 3/Języki skryptowe/KOLOKWIUM/Ochnik_2/4/.venv/lib/python3.9/site-packages (from requests<3,>=2.21.0->tensorflow) (2025.1.31)\r\n",
      "Requirement already satisfied: markdown>=2.6.8 in /Users/bartekochnik/Desktop/Studia/Semestr 3/Języki skryptowe/KOLOKWIUM/Ochnik_2/4/.venv/lib/python3.9/site-packages (from tensorboard~=2.19.0->tensorflow) (3.7)\r\n",
      "Requirement already satisfied: tensorboard-data-server<0.8.0,>=0.7.0 in /Users/bartekochnik/Desktop/Studia/Semestr 3/Języki skryptowe/KOLOKWIUM/Ochnik_2/4/.venv/lib/python3.9/site-packages (from tensorboard~=2.19.0->tensorflow) (0.7.2)\r\n",
      "Requirement already satisfied: werkzeug>=1.0.1 in /Users/bartekochnik/Desktop/Studia/Semestr 3/Języki skryptowe/KOLOKWIUM/Ochnik_2/4/.venv/lib/python3.9/site-packages (from tensorboard~=2.19.0->tensorflow) (3.0.6)\r\n",
      "Requirement already satisfied: importlib-metadata>=4.4 in /Users/bartekochnik/Desktop/Studia/Semestr 3/Języki skryptowe/KOLOKWIUM/Ochnik_2/4/.venv/lib/python3.9/site-packages (from markdown>=2.6.8->tensorboard~=2.19.0->tensorflow) (8.6.1)\r\n",
      "Requirement already satisfied: MarkupSafe>=2.1.1 in /Users/bartekochnik/Desktop/Studia/Semestr 3/Języki skryptowe/KOLOKWIUM/Ochnik_2/4/.venv/lib/python3.9/site-packages (from werkzeug>=1.0.1->tensorboard~=2.19.0->tensorflow) (3.0.2)\r\n",
      "Requirement already satisfied: markdown-it-py>=2.2.0 in /Users/bartekochnik/Desktop/Studia/Semestr 3/Języki skryptowe/KOLOKWIUM/Ochnik_2/4/.venv/lib/python3.9/site-packages (from rich->keras>=3.5.0->tensorflow) (3.0.0)\r\n",
      "Requirement already satisfied: pygments<3.0.0,>=2.13.0 in /Users/bartekochnik/Desktop/Studia/Semestr 3/Języki skryptowe/KOLOKWIUM/Ochnik_2/4/.venv/lib/python3.9/site-packages (from rich->keras>=3.5.0->tensorflow) (2.19.1)\r\n",
      "Requirement already satisfied: zipp>=3.20 in /Users/bartekochnik/Desktop/Studia/Semestr 3/Języki skryptowe/KOLOKWIUM/Ochnik_2/4/.venv/lib/python3.9/site-packages (from importlib-metadata>=4.4->markdown>=2.6.8->tensorboard~=2.19.0->tensorflow) (3.21.0)\r\n",
      "Requirement already satisfied: mdurl~=0.1 in /Users/bartekochnik/Desktop/Studia/Semestr 3/Języki skryptowe/KOLOKWIUM/Ochnik_2/4/.venv/lib/python3.9/site-packages (from markdown-it-py>=2.2.0->rich->keras>=3.5.0->tensorflow) (0.1.2)\r\n"
     ]
    }
   ],
   "execution_count": 16
  },
  {
   "cell_type": "code",
   "source": [
    "import tensorflow as tf\n",
    "from tensorflow.keras.datasets import mnist\n",
    "from tensorflow.keras.models import Sequential\n",
    "from tensorflow.keras.layers import Dense, Flatten`\n",
    "from tensorflow.keras.callbacks import EarlyStopping\n",
    "\n",
    "(X_train, y_train), (X_test, y_test) = mnist.load_data()\n",
    "X_train, X_test = X_train / 255.0, X_test / 255.0\n",
    "\n",
    "model = Sequential([\n",
    "    Flatten(input_shape=(28, 28)),\n",
    "    Dense(128, activation='relu'),\n",
    "    Dense(10, activation='softmax')\n",
    "])\n",
    "\n",
    "model.compile(optimizer='adam', loss='sparse_categorical_crossentropy', metrics=['accuracy'])\n",
    "\n",
    "es = EarlyStopping(monitor='val_loss', patience=3)\n",
    "history = model.fit(X_train, y_train, epochs=20, validation_split=0.2, callbacks=[es])\n"
   ],
   "metadata": {
    "id": "EBUjUfgId8lg",
    "ExecuteTime": {
     "end_time": "2025-04-09T22:02:22.763224Z",
     "start_time": "2025-04-09T22:02:08.543383Z"
    }
   },
   "outputs": [
    {
     "ename": "KeyboardInterrupt",
     "evalue": "",
     "output_type": "error",
     "traceback": [
      "\u001B[0;31m---------------------------------------------------------------------------\u001B[0m",
      "\u001B[0;31mKeyboardInterrupt\u001B[0m                         Traceback (most recent call last)",
      "Cell \u001B[0;32mIn[17], line 1\u001B[0m\n\u001B[0;32m----> 1\u001B[0m \u001B[38;5;28;01mimport\u001B[39;00m\u001B[38;5;250m \u001B[39m\u001B[38;5;21;01mtensorflow\u001B[39;00m\u001B[38;5;250m \u001B[39m\u001B[38;5;28;01mas\u001B[39;00m\u001B[38;5;250m \u001B[39m\u001B[38;5;21;01mtf\u001B[39;00m\n\u001B[1;32m      2\u001B[0m \u001B[38;5;28;01mfrom\u001B[39;00m\u001B[38;5;250m \u001B[39m\u001B[38;5;21;01mtensorflow\u001B[39;00m\u001B[38;5;21;01m.\u001B[39;00m\u001B[38;5;21;01mkeras\u001B[39;00m\u001B[38;5;21;01m.\u001B[39;00m\u001B[38;5;21;01mdatasets\u001B[39;00m\u001B[38;5;250m \u001B[39m\u001B[38;5;28;01mimport\u001B[39;00m mnist\n\u001B[1;32m      3\u001B[0m \u001B[38;5;28;01mfrom\u001B[39;00m\u001B[38;5;250m \u001B[39m\u001B[38;5;21;01mtensorflow\u001B[39;00m\u001B[38;5;21;01m.\u001B[39;00m\u001B[38;5;21;01mkeras\u001B[39;00m\u001B[38;5;21;01m.\u001B[39;00m\u001B[38;5;21;01mmodels\u001B[39;00m\u001B[38;5;250m \u001B[39m\u001B[38;5;28;01mimport\u001B[39;00m Sequential\n",
      "File \u001B[0;32m~/Desktop/Studia/Semestr 3/Języki skryptowe/KOLOKWIUM/Ochnik_2/4/.venv/lib/python3.9/site-packages/tensorflow/__init__.py:40\u001B[0m\n\u001B[1;32m     37\u001B[0m _os\u001B[38;5;241m.\u001B[39menviron\u001B[38;5;241m.\u001B[39msetdefault(\u001B[38;5;124m\"\u001B[39m\u001B[38;5;124mENABLE_RUNTIME_UPTIME_TELEMETRY\u001B[39m\u001B[38;5;124m\"\u001B[39m, \u001B[38;5;124m\"\u001B[39m\u001B[38;5;124m1\u001B[39m\u001B[38;5;124m\"\u001B[39m)\n\u001B[1;32m     39\u001B[0m \u001B[38;5;66;03m# Do not remove this line; See https://github.com/tensorflow/tensorflow/issues/42596\u001B[39;00m\n\u001B[0;32m---> 40\u001B[0m \u001B[38;5;28;01mfrom\u001B[39;00m\u001B[38;5;250m \u001B[39m\u001B[38;5;21;01mtensorflow\u001B[39;00m\u001B[38;5;21;01m.\u001B[39;00m\u001B[38;5;21;01mpython\u001B[39;00m\u001B[38;5;250m \u001B[39m\u001B[38;5;28;01mimport\u001B[39;00m pywrap_tensorflow \u001B[38;5;28;01mas\u001B[39;00m _pywrap_tensorflow  \u001B[38;5;66;03m# pylint: disable=unused-import\u001B[39;00m\n\u001B[1;32m     41\u001B[0m \u001B[38;5;28;01mfrom\u001B[39;00m\u001B[38;5;250m \u001B[39m\u001B[38;5;21;01mtensorflow\u001B[39;00m\u001B[38;5;21;01m.\u001B[39;00m\u001B[38;5;21;01mpython\u001B[39;00m\u001B[38;5;21;01m.\u001B[39;00m\u001B[38;5;21;01mtools\u001B[39;00m\u001B[38;5;250m \u001B[39m\u001B[38;5;28;01mimport\u001B[39;00m module_util \u001B[38;5;28;01mas\u001B[39;00m _module_util\n\u001B[1;32m     42\u001B[0m \u001B[38;5;28;01mfrom\u001B[39;00m\u001B[38;5;250m \u001B[39m\u001B[38;5;21;01mtensorflow\u001B[39;00m\u001B[38;5;21;01m.\u001B[39;00m\u001B[38;5;21;01mpython\u001B[39;00m\u001B[38;5;21;01m.\u001B[39;00m\u001B[38;5;21;01mutil\u001B[39;00m\u001B[38;5;21;01m.\u001B[39;00m\u001B[38;5;21;01mlazy_loader\u001B[39;00m\u001B[38;5;250m \u001B[39m\u001B[38;5;28;01mimport\u001B[39;00m KerasLazyLoader \u001B[38;5;28;01mas\u001B[39;00m _KerasLazyLoader\n",
      "File \u001B[0;32m~/Desktop/Studia/Semestr 3/Języki skryptowe/KOLOKWIUM/Ochnik_2/4/.venv/lib/python3.9/site-packages/tensorflow/python/pywrap_tensorflow.py:37\u001B[0m\n\u001B[1;32m     32\u001B[0m \u001B[38;5;28;01mfrom\u001B[39;00m\u001B[38;5;250m \u001B[39m\u001B[38;5;21;01mtensorflow\u001B[39;00m\u001B[38;5;21;01m.\u001B[39;00m\u001B[38;5;21;01mpython\u001B[39;00m\u001B[38;5;21;01m.\u001B[39;00m\u001B[38;5;21;01mplatform\u001B[39;00m\u001B[38;5;250m \u001B[39m\u001B[38;5;28;01mimport\u001B[39;00m self_check\n\u001B[1;32m     34\u001B[0m \u001B[38;5;66;03m# TODO(mdan): Cleanup antipattern: import for side effects.\u001B[39;00m\n\u001B[1;32m     35\u001B[0m \n\u001B[1;32m     36\u001B[0m \u001B[38;5;66;03m# Perform pre-load sanity checks in order to produce a more actionable error.\u001B[39;00m\n\u001B[0;32m---> 37\u001B[0m \u001B[43mself_check\u001B[49m\u001B[38;5;241;43m.\u001B[39;49m\u001B[43mpreload_check\u001B[49m\u001B[43m(\u001B[49m\u001B[43m)\u001B[49m\n\u001B[1;32m     39\u001B[0m \u001B[38;5;66;03m# pylint: disable=wildcard-import,g-import-not-at-top,unused-import,line-too-long\u001B[39;00m\n\u001B[1;32m     41\u001B[0m \u001B[38;5;28;01mtry\u001B[39;00m:\n\u001B[1;32m     42\u001B[0m   \u001B[38;5;66;03m# This import is expected to fail if there is an explicit shared object\u001B[39;00m\n\u001B[1;32m     43\u001B[0m   \u001B[38;5;66;03m# dependency (with_framework_lib=true), since we do not need RTLD_GLOBAL.\u001B[39;00m\n",
      "File \u001B[0;32m~/Desktop/Studia/Semestr 3/Języki skryptowe/KOLOKWIUM/Ochnik_2/4/.venv/lib/python3.9/site-packages/tensorflow/python/platform/self_check.py:63\u001B[0m, in \u001B[0;36mpreload_check\u001B[0;34m()\u001B[0m\n\u001B[1;32m     50\u001B[0m       \u001B[38;5;28;01mraise\u001B[39;00m \u001B[38;5;167;01mImportError\u001B[39;00m(\n\u001B[1;32m     51\u001B[0m           \u001B[38;5;124m\"\u001B[39m\u001B[38;5;124mCould not find the DLL(s) \u001B[39m\u001B[38;5;132;01m%r\u001B[39;00m\u001B[38;5;124m. TensorFlow requires that these DLLs \u001B[39m\u001B[38;5;124m\"\u001B[39m\n\u001B[1;32m     52\u001B[0m           \u001B[38;5;124m\"\u001B[39m\u001B[38;5;124mbe installed in a directory that is named in your \u001B[39m\u001B[38;5;132;01m%%\u001B[39;00m\u001B[38;5;124mPATH\u001B[39m\u001B[38;5;132;01m%%\u001B[39;00m\u001B[38;5;124m \u001B[39m\u001B[38;5;124m\"\u001B[39m\n\u001B[0;32m   (...)\u001B[0m\n\u001B[1;32m     56\u001B[0m           \u001B[38;5;124m\"\u001B[39m\u001B[38;5;124mhttps://support.microsoft.com/help/2977003/the-latest-supported-visual-c-downloads\u001B[39m\u001B[38;5;124m\"\u001B[39m\n\u001B[1;32m     57\u001B[0m           \u001B[38;5;241m%\u001B[39m \u001B[38;5;124m\"\u001B[39m\u001B[38;5;124m or \u001B[39m\u001B[38;5;124m\"\u001B[39m\u001B[38;5;241m.\u001B[39mjoin(missing))\n\u001B[1;32m     58\u001B[0m \u001B[38;5;28;01melse\u001B[39;00m:\n\u001B[1;32m     59\u001B[0m   \u001B[38;5;66;03m# Load a library that performs CPU feature guard checking.  Doing this here\u001B[39;00m\n\u001B[1;32m     60\u001B[0m   \u001B[38;5;66;03m# as a preload check makes it more likely that we detect any CPU feature\u001B[39;00m\n\u001B[1;32m     61\u001B[0m   \u001B[38;5;66;03m# incompatibilities before we trigger them (which would typically result in\u001B[39;00m\n\u001B[1;32m     62\u001B[0m   \u001B[38;5;66;03m# SIGILL).\u001B[39;00m\n\u001B[0;32m---> 63\u001B[0m   \u001B[38;5;28;01mfrom\u001B[39;00m\u001B[38;5;250m \u001B[39m\u001B[38;5;21;01mtensorflow\u001B[39;00m\u001B[38;5;21;01m.\u001B[39;00m\u001B[38;5;21;01mpython\u001B[39;00m\u001B[38;5;21;01m.\u001B[39;00m\u001B[38;5;21;01mplatform\u001B[39;00m\u001B[38;5;250m \u001B[39m\u001B[38;5;28;01mimport\u001B[39;00m _pywrap_cpu_feature_guard\n\u001B[1;32m     64\u001B[0m   _pywrap_cpu_feature_guard\u001B[38;5;241m.\u001B[39mInfoAboutUnusedCPUFeatures()\n",
      "\u001B[0;31mKeyboardInterrupt\u001B[0m: "
     ]
    }
   ],
   "execution_count": 17
  },
  {
   "cell_type": "markdown",
   "source": [
    "### Ćwiczenie 2: Wykres loss i accuracy"
   ],
   "metadata": {
    "id": "87ycQ14ld-A_"
   }
  },
  {
   "cell_type": "code",
   "source": [
    "import matplotlib.pyplot as plt\n",
    "\n",
    "plt.plot(history.history['loss'], label='train loss')\n",
    "plt.plot(history.history['val_loss'], label='val loss')\n",
    "plt.legend()\n",
    "plt.title('Loss vs Val Loss')\n",
    "plt.show()\n"
   ],
   "metadata": {
    "id": "33y01Fq5eAeA"
   },
   "execution_count": null,
   "outputs": []
  },
  {
   "cell_type": "markdown",
   "source": [
    "## 6. 🧪 Walidacja i overfitting"
   ],
   "metadata": {
    "id": "CoVrN6mxcjWZ"
   }
  },
  {
   "cell_type": "markdown",
   "source": [
    "### Podstawy:\n",
    "\n",
    "- **Train/test split** – dzielimy dane na trening i test\n",
    "- **Cross-validation** – np. K-fold\n",
    "- **StratifiedKFold** – zachowuje proporcje klas\n",
    "\n",
    "📌 Overfitting = model za bardzo uczy się danych treningowych  \n",
    "➡️ Działa świetnie na train, źle na test\n",
    "\n",
    "### Jak to rozpoznać?\n",
    "\n",
    "- accuracy na train: 99%, na test: 60% → źle\n",
    "- rosnący train_loss, rosnący val_loss → źle"
   ],
   "metadata": {
    "id": "1nB23umncn9Q"
   }
  },
  {
   "cell_type": "markdown",
   "source": [
    "### Ćwiczenie 1: Cross-validation w klasyfikacji"
   ],
   "metadata": {
    "id": "PfxNbqlreZHQ"
   }
  },
  {
   "cell_type": "code",
   "source": [
    "print(\"X_train shape:\", X_train.shape)\n",
    "print(\"X_train ndim:\", X_train.ndim)"
   ],
   "metadata": {
    "id": "WqmbFhis45R1"
   },
   "execution_count": null,
   "outputs": []
  },
  {
   "cell_type": "markdown",
   "source": [
    "Twoje dane mają kształt (60000, 28, 28), czyli 60 tys. obrazków 28x28 pikseli – wygląda na klasyczny zbiór MNIST albo coś podobnego. To są dane obrazowe, a RandomForestClassifier nie działa bezpośrednio na obrazach 2D – trzeba je najpierw spłaszczyć do postaci 2D."
   ],
   "metadata": {
    "id": "k54ONm425Cy1"
   }
  },
  {
   "cell_type": "code",
   "source": [
    "# Spłaszczenie danych: (60000, 28, 28) → (60000, 784)\n",
    "X_train_flat = X_train.reshape(X_train.shape[0], -1)"
   ],
   "metadata": {
    "id": "tpm935Gk5CLF"
   },
   "execution_count": null,
   "outputs": []
  },
  {
   "cell_type": "code",
   "source": [
    "from sklearn.model_selection import cross_val_score\n",
    "from sklearn.ensemble import RandomForestClassifier\n",
    "\n",
    "model = RandomForestClassifier()\n",
    "scores = cross_val_score(model, X_train, y_train, cv=5, scoring='f1')\n",
    "\n",
    "print(\"F1-scores:\", scores)\n",
    "print(\"Średni F1:\", scores.mean())\n"
   ],
   "metadata": {
    "id": "j8855-8oeZqk"
   },
   "execution_count": null,
   "outputs": []
  },
  {
   "cell_type": "markdown",
   "source": [
    "### Ćwiczenie 2: StratifiedKFold na niezbalansowanym zbiorze\n",
    "\n",
    "1) Zrób eksperyment: weź zbiór z niezbalansowanymi klasami i porównaj zwykły KFold vs StratifiedKFold.\n",
    "\n",
    "2) Jakie są różnice w wynikach?"
   ],
   "metadata": {
    "id": "phtJI8GEeJm9"
   }
  },
  {
   "cell_type": "markdown",
   "source": [
    "## 7. 🧠 Cheat Sheet – metryki"
   ],
   "metadata": {
    "id": "66eyOoVmb6_A"
   }
  },
  {
   "cell_type": "markdown",
   "source": [
    "| Problem         | Metryki                   |\n",
    "|----------------|---------------------------|\n",
    "| Klasyfikacja   | Accuracy, F1, Precision, Recall, AUC |\n",
    "| Regresja       | MAE, MSE, RMSE, R²         |\n",
    "| Clustering     | Silhouette, Calinski-Harabasz, Davies-Bouldin |\n",
    "| Sieci neuronowe | Loss, val_loss, val_acc     |\n"
   ],
   "metadata": {
    "id": "U4j_MUqdb9Wd"
   }
  },
  {
   "cell_type": "markdown",
   "source": [
    "# 8. 💼 Projekt – przykładowa ewaluacja"
   ],
   "metadata": {
    "id": "IgiCnBUYb-el"
   }
  },
  {
   "cell_type": "markdown",
   "source": [
    "Zobacz, że wyżej,: ten sam zbiór danych, ten sam problem, zrobiłeś za pomocą różnych modeli, o których mówiliśmy na warsztatach. Możesz zobaczyć, że analiza tematu i to w jaki sposób podejdziesz do tematu jest kluczowym elementem każdego projektu."
   ],
   "metadata": {
    "id": "MmgWh2nu67Ty"
   }
  },
  {
   "cell_type": "markdown",
   "source": [
    "## 📘 Dane: np. predykcja choroby (klasyfikacja binarna)\n",
    "\n",
    "1. Wczytaj dane (z CSV)\n",
    "2. Podziel na train/test\n",
    "3. Trenuj np. Logistic Regression\n",
    "4. Oblicz metryki: accuracy, precision, recall, F1\n",
    "5. Dodaj wykresy (np. confusion matrix)\n",
    "6. BONUS: zrób cross-validation i porównaj metryki\n",
    "\n",
    "📎 Tip: możesz użyć `classification_report` ze sklearn\n"
   ],
   "metadata": {
    "id": "X7KIPRc7cCr4"
   }
  }
 ]
}
